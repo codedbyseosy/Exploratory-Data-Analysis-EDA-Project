Unique values in 'customerID':
['7590-VHVEG' '5575-GNVDE' '3668-QPYBK' ... '4801-JZAZL' '8361-LTMKD'
 '3186-AJIEK']
----------------------------------------
Unique values in 'gender':
['Female' 'Male']
----------------------------------------
Unique values in 'SeniorCitizen':
[0 1]
----------------------------------------
Unique values in 'Partner':
['Yes' 'No']
----------------------------------------
Unique values in 'Dependents':
['No' 'Yes']
----------------------------------------
Unique values in 'tenure':
[ 1 34  2 45  8 22 10 28 62 13 16 58 49 25 69 52 71 21 12 30 47 72 17 27
  5 46 11 70 63 43 15 60 18 66  9  3 31 50 64 56  7 42 35 48 29 65 38 68
 32 55 37 36 41  6  4 33 67 23 57 61 14 20 53 40 59 24 44 19 54 51 26  0
 39]
----------------------------------------
Unique values in 'PhoneService':
['No' 'Yes']
----------------------------------------
Unique values in 'MultipleLines':
['No phone service' 'No' 'Yes']
----------------------------------------
Unique values in 'InternetService':
['DSL' 'Fiber optic' 'No']
----------------------------------------
Unique values in 'OnlineSecurity':
['No' 'Yes' 'No internet service']
----------------------------------------
Unique values in 'OnlineBackup':
['Yes' 'No' 'No internet service']
----------------------------------------
Unique values in 'DeviceProtection':
['No' 'Yes' 'No internet service']
----------------------------------------
Unique values in 'TechSupport':
['No' 'Yes' 'No internet service']
----------------------------------------
Unique values in 'StreamingTV':
['No' 'Yes' 'No internet service']
----------------------------------------
Unique values in 'StreamingMovies':
['No' 'Yes' 'No internet service']
----------------------------------------
Unique values in 'Contract':
['Month-to-month' 'One year' 'Two year']
----------------------------------------
Unique values in 'PaperlessBilling':
['Yes' 'No']
----------------------------------------
Unique values in 'PaymentMethod':
['Electronic check' 'Mailed check' 'Bank transfer (automatic)'
 'Credit card (automatic)']
----------------------------------------
Unique values in 'MonthlyCharges':
[29.85 56.95 53.85 ... 63.1  44.2  78.7 ]
----------------------------------------
Unique values in 'TotalCharges':
['29.85' '1889.5' '108.15' ... '346.45' '306.6' '6844.5']
----------------------------------------
Unique values in 'Churn':
['No' 'Yes']
----------------------------------------
