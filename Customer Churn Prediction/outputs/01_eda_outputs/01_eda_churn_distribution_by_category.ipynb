Churn distribution by gender:
Churn      No    Yes
gender              
Female  73.08  26.92
Male    73.84  26.16
----------------------------------------
Churn distribution by Partner:
Churn       No    Yes
Partner              
No       67.04  32.96
Yes      80.34  19.66
----------------------------------------
Churn distribution by Dependents:
Churn          No    Yes
Dependents              
No          68.72  31.28
Yes         84.55  15.45
----------------------------------------
Churn distribution by PhoneService:
Churn            No    Yes
PhoneService              
No            75.07  24.93
Yes           73.29  26.71
----------------------------------------
Churn distribution by MultipleLines:
Churn                No    Yes
MultipleLines                 
No                74.96  25.04
No phone service  75.07  24.93
Yes               71.39  28.61
----------------------------------------
Churn distribution by InternetService:
Churn               No    Yes
InternetService              
DSL              81.04  18.96
Fiber optic      58.11  41.89
No               92.60   7.40
----------------------------------------
Churn distribution by OnlineSecurity:
Churn                   No    Yes
OnlineSecurity                   
No                   58.23  41.77
No internet service  92.60   7.40
Yes                  85.39  14.61
----------------------------------------
Churn distribution by OnlineBackup:
Churn                   No    Yes
OnlineBackup                     
No                   60.07  39.93
No internet service  92.60   7.40
Yes                  78.47  21.53
----------------------------------------
Churn distribution by DeviceProtection:
Churn                   No    Yes
DeviceProtection                 
No                   60.87  39.13
No internet service  92.60   7.40
Yes                  77.50  22.50
----------------------------------------
Churn distribution by TechSupport:
Churn                   No    Yes
TechSupport                      
No                   58.36  41.64
No internet service  92.60   7.40
Yes                  84.83  15.17
----------------------------------------
Churn distribution by StreamingTV:
Churn                   No    Yes
StreamingTV                      
No                   66.48  33.52
No internet service  92.60   7.40
Yes                  69.93  30.07
----------------------------------------
Churn distribution by StreamingMovies:
Churn                   No    Yes
StreamingMovies                  
No                   66.32  33.68
No internet service  92.60   7.40
Yes                  70.06  29.94
----------------------------------------
Churn distribution by Contract:
Churn              No    Yes
Contract                    
Month-to-month  57.29  42.71
One year        88.73  11.27
Two year        97.17   2.83
----------------------------------------
Churn distribution by PaperlessBilling:
Churn                No    Yes
PaperlessBilling              
No                83.67  16.33
Yes               66.43  33.57
----------------------------------------
Churn distribution by PaymentMethod:
Churn                         No    Yes
PaymentMethod                          
Bank transfer (automatic)  83.29  16.71
Credit card (automatic)    84.76  15.24
Electronic check           54.71  45.29
Mailed check               80.89  19.11
----------------------------------------
