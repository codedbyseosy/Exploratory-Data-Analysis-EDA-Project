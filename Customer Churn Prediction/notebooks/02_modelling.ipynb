{
 "cells": [
  {
   "cell_type": "markdown",
   "id": "e10dd639",
   "metadata": {},
   "source": [
    "# Building the Models"
   ]
  },
  {
   "cell_type": "markdown",
   "id": "105aa8e3",
   "metadata": {},
   "source": [
    "## 1. Data Preprocessing"
   ]
  },
  {
   "cell_type": "markdown",
   "id": "3dc7468a",
   "metadata": {},
   "source": [
    "### 1.1. Importing the libraries and dataset"
   ]
  },
  {
   "cell_type": "markdown",
   "id": "e5741e3d",
   "metadata": {},
   "source": [
    "#### 1.1.1. Loading the libraries"
   ]
  },
  {
   "cell_type": "code",
   "execution_count": 1,
   "id": "dbc32738",
   "metadata": {},
   "outputs": [],
   "source": [
    "import pandas as pd \n",
    "import numpy as np \n",
    "import matplotlib.pyplot as plt \n",
    "import seaborn as sns"
   ]
  },
  {
   "cell_type": "markdown",
   "id": "f3095b0c",
   "metadata": {},
   "source": [
    "#### 1.1.2. Importing the dataset"
   ]
  },
  {
   "cell_type": "code",
   "execution_count": 2,
   "id": "4952590e",
   "metadata": {},
   "outputs": [],
   "source": [
    "dataset_uncleaned = pd.read_csv('/Users/eseoseodion/Documents/Portfolio/Customer Churn Prediction/data/telco_customer_churn.csv')"
   ]
  },
  {
   "cell_type": "markdown",
   "id": "294d35f0",
   "metadata": {},
   "source": [
    "### 1.2. Cleaning the data"
   ]
  },
  {
   "cell_type": "markdown",
   "id": "87f71b0c",
   "metadata": {},
   "source": [
    "#### 1.2.1. Converting 'TotalCharges' into a numeric column"
   ]
  },
  {
   "cell_type": "code",
   "execution_count": 3,
   "id": "e4e63596",
   "metadata": {},
   "outputs": [],
   "source": [
    "dataset_uncleaned['TotalCharges'] = pd.to_numeric(dataset_uncleaned['TotalCharges'], errors='coerce')"
   ]
  },
  {
   "cell_type": "markdown",
   "id": "79ca9d22",
   "metadata": {},
   "source": [
    "#### 1.2.2. Dropping rows with NaN (missing) values"
   ]
  },
  {
   "cell_type": "code",
   "execution_count": 4,
   "id": "488b8339",
   "metadata": {},
   "outputs": [],
   "source": [
    "dataset = dataset_uncleaned.dropna()"
   ]
  },
  {
   "cell_type": "markdown",
   "id": "07e89da5",
   "metadata": {},
   "source": [
    "#### 1.2.3. Confirming if there are still any missing values"
   ]
  },
  {
   "cell_type": "code",
   "execution_count": 5,
   "id": "7aa1842b",
   "metadata": {},
   "outputs": [
    {
     "name": "stdout",
     "output_type": "stream",
     "text": [
      "customerID          0\n",
      "gender              0\n",
      "SeniorCitizen       0\n",
      "Partner             0\n",
      "Dependents          0\n",
      "tenure              0\n",
      "PhoneService        0\n",
      "MultipleLines       0\n",
      "InternetService     0\n",
      "OnlineSecurity      0\n",
      "OnlineBackup        0\n",
      "DeviceProtection    0\n",
      "TechSupport         0\n",
      "StreamingTV         0\n",
      "StreamingMovies     0\n",
      "Contract            0\n",
      "PaperlessBilling    0\n",
      "PaymentMethod       0\n",
      "MonthlyCharges      0\n",
      "TotalCharges        0\n",
      "Churn               0\n",
      "dtype: int64\n"
     ]
    }
   ],
   "source": [
    "# Check for missing values\n",
    "print(dataset.isnull().sum())"
   ]
  },
  {
   "cell_type": "markdown",
   "id": "c1d348dc",
   "metadata": {},
   "source": [
    "Dataset is now clean."
   ]
  },
  {
   "cell_type": "code",
   "execution_count": 6,
   "id": "243aee06",
   "metadata": {},
   "outputs": [
    {
     "data": {
      "text/plain": [
       "(7032, 21)"
      ]
     },
     "execution_count": 6,
     "metadata": {},
     "output_type": "execute_result"
    }
   ],
   "source": [
    "dataset.shape"
   ]
  },
  {
   "cell_type": "code",
   "execution_count": 7,
   "id": "b732b4fd",
   "metadata": {},
   "outputs": [
    {
     "name": "stdout",
     "output_type": "stream",
     "text": [
      "Numerical columns:\n",
      " Index(['SeniorCitizen', 'tenure', 'MonthlyCharges', 'TotalCharges'], dtype='object')\n",
      "\n",
      "Categorical columns:\n",
      " Index(['customerID', 'gender', 'Partner', 'Dependents', 'PhoneService',\n",
      "       'MultipleLines', 'InternetService', 'OnlineSecurity', 'OnlineBackup',\n",
      "       'DeviceProtection', 'TechSupport', 'StreamingTV', 'StreamingMovies',\n",
      "       'Contract', 'PaperlessBilling', 'PaymentMethod', 'Churn'],\n",
      "      dtype='object')\n"
     ]
    }
   ],
   "source": [
    "numerical = dataset.select_dtypes(include=['number']).columns\n",
    "categorical = dataset.select_dtypes(include=['object']).columns\n",
    "\n",
    "print(\"Numerical columns:\\n\", numerical)\n",
    "print(\"\\nCategorical columns:\\n\", categorical)"
   ]
  },
  {
   "cell_type": "code",
   "execution_count": 8,
   "id": "665113ae",
   "metadata": {},
   "outputs": [
    {
     "name": "stdout",
     "output_type": "stream",
     "text": [
      "Unique Values for the 'customerID' Column\n",
      "['7590-VHVEG' '5575-GNVDE' '3668-QPYBK' ... '4801-JZAZL' '8361-LTMKD'\n",
      " '3186-AJIEK']\n",
      "==================================================\n",
      "Unique Values for the 'gender' Column\n",
      "['Female' 'Male']\n",
      "==================================================\n",
      "Unique Values for the 'SeniorCitizen' Column\n",
      "[0 1]\n",
      "==================================================\n",
      "Unique Values for the 'Partner' Column\n",
      "['Yes' 'No']\n",
      "==================================================\n",
      "Unique Values for the 'Dependents' Column\n",
      "['No' 'Yes']\n",
      "==================================================\n",
      "Unique Values for the 'tenure' Column\n",
      "[ 1 34  2 45  8 22 10 28 62 13 16 58 49 25 69 52 71 21 12 30 47 72 17 27\n",
      "  5 46 11 70 63 43 15 60 18 66  9  3 31 50 64 56  7 42 35 48 29 65 38 68\n",
      " 32 55 37 36 41  6  4 33 67 23 57 61 14 20 53 40 59 24 44 19 54 51 26 39]\n",
      "==================================================\n",
      "Unique Values for the 'PhoneService' Column\n",
      "['No' 'Yes']\n",
      "==================================================\n",
      "Unique Values for the 'MultipleLines' Column\n",
      "['No phone service' 'No' 'Yes']\n",
      "==================================================\n",
      "Unique Values for the 'InternetService' Column\n",
      "['DSL' 'Fiber optic' 'No']\n",
      "==================================================\n",
      "Unique Values for the 'OnlineSecurity' Column\n",
      "['No' 'Yes' 'No internet service']\n",
      "==================================================\n",
      "Unique Values for the 'OnlineBackup' Column\n",
      "['Yes' 'No' 'No internet service']\n",
      "==================================================\n",
      "Unique Values for the 'DeviceProtection' Column\n",
      "['No' 'Yes' 'No internet service']\n",
      "==================================================\n",
      "Unique Values for the 'TechSupport' Column\n",
      "['No' 'Yes' 'No internet service']\n",
      "==================================================\n",
      "Unique Values for the 'StreamingTV' Column\n",
      "['No' 'Yes' 'No internet service']\n",
      "==================================================\n",
      "Unique Values for the 'StreamingMovies' Column\n",
      "['No' 'Yes' 'No internet service']\n",
      "==================================================\n",
      "Unique Values for the 'Contract' Column\n",
      "['Month-to-month' 'One year' 'Two year']\n",
      "==================================================\n",
      "Unique Values for the 'PaperlessBilling' Column\n",
      "['Yes' 'No']\n",
      "==================================================\n",
      "Unique Values for the 'PaymentMethod' Column\n",
      "['Electronic check' 'Mailed check' 'Bank transfer (automatic)'\n",
      " 'Credit card (automatic)']\n",
      "==================================================\n",
      "Unique Values for the 'MonthlyCharges' Column\n",
      "[29.85 56.95 53.85 ... 63.1  44.2  78.7 ]\n",
      "==================================================\n",
      "Unique Values for the 'TotalCharges' Column\n",
      "[  29.85 1889.5   108.15 ...  346.45  306.6  6844.5 ]\n",
      "==================================================\n"
     ]
    }
   ],
   "source": [
    "columns = ['customerID', 'gender', 'SeniorCitizen', 'Partner',\n",
    "            'Dependents', 'tenure', 'PhoneService', 'MultipleLines', \n",
    "            'InternetService', 'OnlineSecurity', 'OnlineBackup', \n",
    "            'DeviceProtection', 'TechSupport', 'StreamingTV', \n",
    "            'StreamingMovies', 'Contract', 'PaperlessBilling', \n",
    "            'PaymentMethod', 'MonthlyCharges', 'TotalCharges']\n",
    "\n",
    "for col in columns:\n",
    "    print(f\"Unique Values for the '{col}' Column\")\n",
    "    print(dataset[col].unique())\n",
    "    print('=' * 50)"
   ]
  },
  {
   "cell_type": "markdown",
   "id": "a962fd75",
   "metadata": {},
   "source": [
    "### 1.3. Feature Engineering"
   ]
  },
  {
   "cell_type": "markdown",
   "id": "63e5778e",
   "metadata": {},
   "source": [
    "#### 1.3.1. Reducing redundancy and long labelling for improved readability"
   ]
  },
  {
   "cell_type": "code",
   "execution_count": 9,
   "id": "0a6c1d73",
   "metadata": {},
   "outputs": [
    {
     "name": "stderr",
     "output_type": "stream",
     "text": [
      "/var/folders/6v/w8nfkj8x66xc_mdtqnhljxq40000gn/T/ipykernel_41117/186974147.py:14: SettingWithCopyWarning: \n",
      "A value is trying to be set on a copy of a slice from a DataFrame.\n",
      "Try using .loc[row_indexer,col_indexer] = value instead\n",
      "\n",
      "See the caveats in the documentation: https://pandas.pydata.org/pandas-docs/stable/user_guide/indexing.html#returning-a-view-versus-a-copy\n",
      "  dataset[key] = dataset[key].replace(value, 'No')\n",
      "/var/folders/6v/w8nfkj8x66xc_mdtqnhljxq40000gn/T/ipykernel_41117/186974147.py:12: SettingWithCopyWarning: \n",
      "A value is trying to be set on a copy of a slice from a DataFrame.\n",
      "Try using .loc[row_indexer,col_indexer] = value instead\n",
      "\n",
      "See the caveats in the documentation: https://pandas.pydata.org/pandas-docs/stable/user_guide/indexing.html#returning-a-view-versus-a-copy\n",
      "  dataset[col] = dataset[col].replace(value, 'No')\n",
      "/var/folders/6v/w8nfkj8x66xc_mdtqnhljxq40000gn/T/ipykernel_41117/186974147.py:18: SettingWithCopyWarning: \n",
      "A value is trying to be set on a copy of a slice from a DataFrame.\n",
      "Try using .loc[row_indexer,col_indexer] = value instead\n",
      "\n",
      "See the caveats in the documentation: https://pandas.pydata.org/pandas-docs/stable/user_guide/indexing.html#returning-a-view-versus-a-copy\n",
      "  dataset['PaymentMethod'] = dataset['PaymentMethod'].replace({\n"
     ]
    }
   ],
   "source": [
    "# Define columns and values to replace\n",
    "cols_to_edit = {\n",
    "    'MultipleLines': 'No phone service',\n",
    "    ('OnlineSecurity',  'OnlineBackup', 'DeviceProtection', 'TechSupport', 'StreamingTV', 'StreamingMovies'): 'No internet service'\n",
    "}\n",
    "\n",
    "\n",
    "# Replace \"No phone/internet service\" with \"No\"\n",
    "for key, value in cols_to_edit.items():\n",
    "    if isinstance(key, tuple):\n",
    "        for col in key:\n",
    "            dataset[col] = dataset[col].replace(value, 'No')\n",
    "    else:\n",
    "        dataset[key] = dataset[key].replace(value, 'No')\n",
    "\n",
    "\n",
    "# Simplify PaymentMethod values\n",
    "dataset['PaymentMethod'] = dataset['PaymentMethod'].replace({\n",
    "    'Electronic check': 'Automatic',\n",
    "    'Mailed check': 'Manual',\n",
    "    'Bank transfer (automatic)': 'Automatic',\n",
    "    'Credit card (automatic)': 'Automatic',\n",
    "})"
   ]
  },
  {
   "cell_type": "markdown",
   "id": "8dba5ed2",
   "metadata": {},
   "source": [
    "This simplification could reveal trends like:\n",
    "\n",
    "- Manual payers being more likely to churn\n",
    "- Electronic check users being riskier"
   ]
  },
  {
   "cell_type": "markdown",
   "id": "260ec57c",
   "metadata": {},
   "source": [
    "#### 1.3.2. Addressing Skewness in 'MonthlyCharges' and 'TotalCharges'"
   ]
  },
  {
   "cell_type": "markdown",
   "id": "3e8518f1",
   "metadata": {},
   "source": [
    "Because both are right-skewed, the log1p transformation will be applied. "
   ]
  },
  {
   "cell_type": "code",
   "execution_count": 10,
   "id": "3534364b",
   "metadata": {},
   "outputs": [
    {
     "name": "stderr",
     "output_type": "stream",
     "text": [
      "/var/folders/6v/w8nfkj8x66xc_mdtqnhljxq40000gn/T/ipykernel_41117/2635752452.py:1: SettingWithCopyWarning: \n",
      "A value is trying to be set on a copy of a slice from a DataFrame.\n",
      "Try using .loc[row_indexer,col_indexer] = value instead\n",
      "\n",
      "See the caveats in the documentation: https://pandas.pydata.org/pandas-docs/stable/user_guide/indexing.html#returning-a-view-versus-a-copy\n",
      "  dataset['MonthlyCharges_log'] = np.log1p(dataset['MonthlyCharges'])\n",
      "/var/folders/6v/w8nfkj8x66xc_mdtqnhljxq40000gn/T/ipykernel_41117/2635752452.py:2: SettingWithCopyWarning: \n",
      "A value is trying to be set on a copy of a slice from a DataFrame.\n",
      "Try using .loc[row_indexer,col_indexer] = value instead\n",
      "\n",
      "See the caveats in the documentation: https://pandas.pydata.org/pandas-docs/stable/user_guide/indexing.html#returning-a-view-versus-a-copy\n",
      "  dataset['TotalCharges_log'] = np.log1p(dataset['TotalCharges'])\n"
     ]
    }
   ],
   "source": [
    "dataset['MonthlyCharges_log'] = np.log1p(dataset['MonthlyCharges'])\n",
    "dataset['TotalCharges_log'] = np.log1p(dataset['TotalCharges'])"
   ]
  },
  {
   "cell_type": "markdown",
   "id": "56dcc7f9",
   "metadata": {},
   "source": [
    "#### 1.3.3. Binning tenure into categories for modelling"
   ]
  },
  {
   "cell_type": "code",
   "execution_count": 11,
   "id": "a3358d38",
   "metadata": {},
   "outputs": [
    {
     "name": "stderr",
     "output_type": "stream",
     "text": [
      "/var/folders/6v/w8nfkj8x66xc_mdtqnhljxq40000gn/T/ipykernel_41117/4651080.py:3: SettingWithCopyWarning: \n",
      "A value is trying to be set on a copy of a slice from a DataFrame.\n",
      "Try using .loc[row_indexer,col_indexer] = value instead\n",
      "\n",
      "See the caveats in the documentation: https://pandas.pydata.org/pandas-docs/stable/user_guide/indexing.html#returning-a-view-versus-a-copy\n",
      "  dataset['tenure_bin'] = pd.cut(dataset['tenure'], bins=bins, labels=labels, right=False)\n"
     ]
    }
   ],
   "source": [
    "bins = [0, 12, 48, 72]\n",
    "labels = ['Short term', 'Mid term', 'Long term']\n",
    "dataset['tenure_bin'] = pd.cut(dataset['tenure'], bins=bins, labels=labels, right=False)"
   ]
  },
  {
   "cell_type": "markdown",
   "id": "742d9df1",
   "metadata": {},
   "source": [
    "##### Notes\n",
    "Perfect. This is a solid feature engineering step — binning makes trends more interpretable and sometimes improves tree-based model performance.\n",
    "\n",
    "❓ \"Should I keep the original column as well as the binned column?\"\n",
    "\n",
    "It depends on your goals:\n",
    "\n",
    "✅ Keep both if:\n",
    "\n",
    "    You're using a tree-based model (e.g., Random Forest, XGBoost) which handles numeric and categorical features well.\n",
    "\n",
    "    You want to give the model both raw precision and a more interpretable abstraction.\n",
    "\n",
    "🧹 Drop the original if:\n",
    "\n",
    "    You’re using models that don’t handle raw numeric data well or that perform better with simplified inputs (like logistic regression).\n",
    "\n",
    "    You want to reduce multicollinearity or complexity.\n",
    "\n",
    "🔁 Recommendation: Try it both ways and evaluate model performance — that’s the best teacher."
   ]
  },
  {
   "cell_type": "markdown",
   "id": "68c6e27e",
   "metadata": {},
   "source": [
    "#### 1.3.4. Calculating the 'EstimatedTotalCharges' vs 'TotalCharges'"
   ]
  },
  {
   "cell_type": "code",
   "execution_count": 12,
   "id": "6458e4ed",
   "metadata": {},
   "outputs": [
    {
     "name": "stderr",
     "output_type": "stream",
     "text": [
      "/var/folders/6v/w8nfkj8x66xc_mdtqnhljxq40000gn/T/ipykernel_41117/1157451705.py:1: SettingWithCopyWarning: \n",
      "A value is trying to be set on a copy of a slice from a DataFrame.\n",
      "Try using .loc[row_indexer,col_indexer] = value instead\n",
      "\n",
      "See the caveats in the documentation: https://pandas.pydata.org/pandas-docs/stable/user_guide/indexing.html#returning-a-view-versus-a-copy\n",
      "  dataset['EstimatedTotalCharges'] = dataset['MonthlyCharges'] * dataset['tenure']\n",
      "/var/folders/6v/w8nfkj8x66xc_mdtqnhljxq40000gn/T/ipykernel_41117/1157451705.py:2: SettingWithCopyWarning: \n",
      "A value is trying to be set on a copy of a slice from a DataFrame.\n",
      "Try using .loc[row_indexer,col_indexer] = value instead\n",
      "\n",
      "See the caveats in the documentation: https://pandas.pydata.org/pandas-docs/stable/user_guide/indexing.html#returning-a-view-versus-a-copy\n",
      "  dataset['EstimatedTotalCharges_log'] = np.log1p(dataset['EstimatedTotalCharges'])\n"
     ]
    },
    {
     "data": {
      "text/html": [
       "<div>\n",
       "<style scoped>\n",
       "    .dataframe tbody tr th:only-of-type {\n",
       "        vertical-align: middle;\n",
       "    }\n",
       "\n",
       "    .dataframe tbody tr th {\n",
       "        vertical-align: top;\n",
       "    }\n",
       "\n",
       "    .dataframe thead th {\n",
       "        text-align: right;\n",
       "    }\n",
       "</style>\n",
       "<table border=\"1\" class=\"dataframe\">\n",
       "  <thead>\n",
       "    <tr style=\"text-align: right;\">\n",
       "      <th></th>\n",
       "      <th>TotalCharges_log</th>\n",
       "      <th>EstimatedTotalCharges_log</th>\n",
       "    </tr>\n",
       "  </thead>\n",
       "  <tbody>\n",
       "    <tr>\n",
       "      <th>0</th>\n",
       "      <td>3.429137</td>\n",
       "      <td>3.429137</td>\n",
       "    </tr>\n",
       "    <tr>\n",
       "      <th>1</th>\n",
       "      <td>7.544597</td>\n",
       "      <td>7.569051</td>\n",
       "    </tr>\n",
       "    <tr>\n",
       "      <th>2</th>\n",
       "      <td>4.692723</td>\n",
       "      <td>4.688592</td>\n",
       "    </tr>\n",
       "    <tr>\n",
       "      <th>3</th>\n",
       "      <td>7.518471</td>\n",
       "      <td>7.551975</td>\n",
       "    </tr>\n",
       "    <tr>\n",
       "      <th>4</th>\n",
       "      <td>5.028148</td>\n",
       "      <td>4.958640</td>\n",
       "    </tr>\n",
       "    <tr>\n",
       "      <th>...</th>\n",
       "      <td>...</td>\n",
       "      <td>...</td>\n",
       "    </tr>\n",
       "    <tr>\n",
       "      <th>7038</th>\n",
       "      <td>7.596643</td>\n",
       "      <td>7.618841</td>\n",
       "    </tr>\n",
       "    <tr>\n",
       "      <th>7039</th>\n",
       "      <td>8.904345</td>\n",
       "      <td>8.913470</td>\n",
       "    </tr>\n",
       "    <tr>\n",
       "      <th>7040</th>\n",
       "      <td>5.850621</td>\n",
       "      <td>5.788736</td>\n",
       "    </tr>\n",
       "    <tr>\n",
       "      <th>7041</th>\n",
       "      <td>5.728800</td>\n",
       "      <td>5.699105</td>\n",
       "    </tr>\n",
       "    <tr>\n",
       "      <th>7042</th>\n",
       "      <td>8.831347</td>\n",
       "      <td>8.849930</td>\n",
       "    </tr>\n",
       "  </tbody>\n",
       "</table>\n",
       "<p>7032 rows × 2 columns</p>\n",
       "</div>"
      ],
      "text/plain": [
       "      TotalCharges_log  EstimatedTotalCharges_log\n",
       "0             3.429137                   3.429137\n",
       "1             7.544597                   7.569051\n",
       "2             4.692723                   4.688592\n",
       "3             7.518471                   7.551975\n",
       "4             5.028148                   4.958640\n",
       "...                ...                        ...\n",
       "7038          7.596643                   7.618841\n",
       "7039          8.904345                   8.913470\n",
       "7040          5.850621                   5.788736\n",
       "7041          5.728800                   5.699105\n",
       "7042          8.831347                   8.849930\n",
       "\n",
       "[7032 rows x 2 columns]"
      ]
     },
     "execution_count": 12,
     "metadata": {},
     "output_type": "execute_result"
    }
   ],
   "source": [
    "dataset['EstimatedTotalCharges'] = dataset['MonthlyCharges'] * dataset['tenure']\n",
    "dataset['EstimatedTotalCharges_log'] = np.log1p(dataset['EstimatedTotalCharges'])\n",
    "dataset[['TotalCharges_log', 'EstimatedTotalCharges_log']]"
   ]
  },
  {
   "cell_type": "markdown",
   "id": "30d95a11",
   "metadata": {},
   "source": [
    "#### 1.3.5. How far off is the reported TotalCharges from what we’d expect (MonthlyCharges * Tenure)?"
   ]
  },
  {
   "cell_type": "markdown",
   "id": "6c102757",
   "metadata": {},
   "source": [
    "- Positive charge_diff → They've paid more than expected (overpaid)\n",
    "- Negative charge_diff → They've paid less than expected (maybe due to waived fees, discounts, or churn interruptions) (underpaid)"
   ]
  },
  {
   "cell_type": "code",
   "execution_count": 13,
   "id": "78a1acf1",
   "metadata": {},
   "outputs": [
    {
     "name": "stderr",
     "output_type": "stream",
     "text": [
      "/var/folders/6v/w8nfkj8x66xc_mdtqnhljxq40000gn/T/ipykernel_41117/1923603203.py:1: SettingWithCopyWarning: \n",
      "A value is trying to be set on a copy of a slice from a DataFrame.\n",
      "Try using .loc[row_indexer,col_indexer] = value instead\n",
      "\n",
      "See the caveats in the documentation: https://pandas.pydata.org/pandas-docs/stable/user_guide/indexing.html#returning-a-view-versus-a-copy\n",
      "  dataset['charge_diff'] = dataset['TotalCharges'] - dataset['EstimatedTotalCharges']\n"
     ]
    },
    {
     "data": {
      "text/html": [
       "<div>\n",
       "<style scoped>\n",
       "    .dataframe tbody tr th:only-of-type {\n",
       "        vertical-align: middle;\n",
       "    }\n",
       "\n",
       "    .dataframe tbody tr th {\n",
       "        vertical-align: top;\n",
       "    }\n",
       "\n",
       "    .dataframe thead th {\n",
       "        text-align: right;\n",
       "    }\n",
       "</style>\n",
       "<table border=\"1\" class=\"dataframe\">\n",
       "  <thead>\n",
       "    <tr style=\"text-align: right;\">\n",
       "      <th></th>\n",
       "      <th>charge_diff</th>\n",
       "    </tr>\n",
       "  </thead>\n",
       "  <tbody>\n",
       "    <tr>\n",
       "      <th>0</th>\n",
       "      <td>0.00</td>\n",
       "    </tr>\n",
       "    <tr>\n",
       "      <th>1</th>\n",
       "      <td>-46.80</td>\n",
       "    </tr>\n",
       "    <tr>\n",
       "      <th>2</th>\n",
       "      <td>0.45</td>\n",
       "    </tr>\n",
       "    <tr>\n",
       "      <th>3</th>\n",
       "      <td>-62.75</td>\n",
       "    </tr>\n",
       "    <tr>\n",
       "      <th>4</th>\n",
       "      <td>10.25</td>\n",
       "    </tr>\n",
       "    <tr>\n",
       "      <th>...</th>\n",
       "      <td>...</td>\n",
       "    </tr>\n",
       "    <tr>\n",
       "      <th>7038</th>\n",
       "      <td>-44.70</td>\n",
       "    </tr>\n",
       "    <tr>\n",
       "      <th>7039</th>\n",
       "      <td>-67.50</td>\n",
       "    </tr>\n",
       "    <tr>\n",
       "      <th>7040</th>\n",
       "      <td>20.85</td>\n",
       "    </tr>\n",
       "    <tr>\n",
       "      <th>7041</th>\n",
       "      <td>9.00</td>\n",
       "    </tr>\n",
       "    <tr>\n",
       "      <th>7042</th>\n",
       "      <td>-128.40</td>\n",
       "    </tr>\n",
       "  </tbody>\n",
       "</table>\n",
       "<p>7032 rows × 1 columns</p>\n",
       "</div>"
      ],
      "text/plain": [
       "      charge_diff\n",
       "0            0.00\n",
       "1          -46.80\n",
       "2            0.45\n",
       "3          -62.75\n",
       "4           10.25\n",
       "...           ...\n",
       "7038       -44.70\n",
       "7039       -67.50\n",
       "7040        20.85\n",
       "7041         9.00\n",
       "7042      -128.40\n",
       "\n",
       "[7032 rows x 1 columns]"
      ]
     },
     "execution_count": 13,
     "metadata": {},
     "output_type": "execute_result"
    }
   ],
   "source": [
    "dataset['charge_diff'] = dataset['TotalCharges'] - dataset['EstimatedTotalCharges']\n",
    "dataset[['charge_diff']]"
   ]
  },
  {
   "cell_type": "markdown",
   "id": "ad086379",
   "metadata": {},
   "source": [
    "Useful because:\n",
    "\n",
    "- It may highlight billing issues, discounts, or partial months\n",
    "\n",
    "- Could be a proxy for irregularity in the customer's payment history"
   ]
  },
  {
   "cell_type": "markdown",
   "id": "67c7b139",
   "metadata": {},
   "source": [
    "#### 1.3.6. Was this customer undercharged or missing charges?"
   ]
  },
  {
   "cell_type": "code",
   "execution_count": 14,
   "id": "6b97a5eb",
   "metadata": {},
   "outputs": [
    {
     "name": "stderr",
     "output_type": "stream",
     "text": [
      "/var/folders/6v/w8nfkj8x66xc_mdtqnhljxq40000gn/T/ipykernel_41117/1717805244.py:1: SettingWithCopyWarning: \n",
      "A value is trying to be set on a copy of a slice from a DataFrame.\n",
      "Try using .loc[row_indexer,col_indexer] = value instead\n",
      "\n",
      "See the caveats in the documentation: https://pandas.pydata.org/pandas-docs/stable/user_guide/indexing.html#returning-a-view-versus-a-copy\n",
      "  dataset['missing_charge_flag'] = (dataset['TotalCharges'] < dataset['EstimatedTotalCharges']) * 1\n"
     ]
    }
   ],
   "source": [
    "dataset['missing_charge_flag'] = (dataset['TotalCharges'] < dataset['EstimatedTotalCharges']) * 1"
   ]
  },
  {
   "cell_type": "markdown",
   "id": "24d72a5d",
   "metadata": {},
   "source": [
    "Useful because:\n",
    "\n",
    "- Models like logistic regression or decision trees sometimes perform better with binary flags than continuous deltas\n",
    "\n",
    "- It might signal customers just starting service, who are more likely to churn early"
   ]
  },
  {
   "cell_type": "markdown",
   "id": "bab4f76a",
   "metadata": {},
   "source": [
    "Try training your model with and without those features, and check:\n",
    "\n",
    "- Accuracy / ROC AUC\n",
    "\n",
    "- Feature importance (if using tree-based models)\n",
    "\n",
    "- SHAP values (for interpretation)"
   ]
  },
  {
   "cell_type": "markdown",
   "id": "f98a2e99",
   "metadata": {},
   "source": [
    "#### 1.3.7. Combining 'Contract' & 'Tenure'"
   ]
  },
  {
   "cell_type": "markdown",
   "id": "a4a763b5",
   "metadata": {},
   "source": [
    "What does Contract tell us?\n",
    "| Contract       | What it means                        |\n",
    "| -------------- | ------------------------------------ |\n",
    "| Month-to-month | Can cancel any time (low commitment) |\n",
    "| One year       | Committed to 12 months               |\n",
    "| Two year       | Committed to 24 months               |\n",
    "\n",
    "What does Tenure tell us?\n",
    "It shows how long they've already been a customer.\n",
    "1 = just joined\n",
    "12 = 1 year\n",
    "36 = 3 years\n",
    "etc.\n",
    "\n",
    "\n",
    "What does combining them tell us?\n",
    "“How long has this person stayed, relative to the contract they signed?”\n",
    "\n",
    "\n",
    "| Contract       | Tenure | What it might mean              |\n",
    "| -------------- | ------ | ------------------------------- |\n",
    "| Month-to-month | 1      | Just joined, no loyalty yet     |\n",
    "| Month-to-month | 36     | Loyal despite no long contract  |\n",
    "| One year       | 12     | Finished one year contract      |\n",
    "| One year       | 24     | Renewed once                    |\n",
    "| Two year       | 3      | Just started long-term contract |\n"
   ]
  },
  {
   "cell_type": "markdown",
   "id": "3e08f9fa",
   "metadata": {},
   "source": [
    "##### 1.3.7.1. Loyalty flag"
   ]
  },
  {
   "cell_type": "code",
   "execution_count": 15,
   "id": "7945a058",
   "metadata": {},
   "outputs": [
    {
     "name": "stderr",
     "output_type": "stream",
     "text": [
      "/var/folders/6v/w8nfkj8x66xc_mdtqnhljxq40000gn/T/ipykernel_41117/342980216.py:1: SettingWithCopyWarning: \n",
      "A value is trying to be set on a copy of a slice from a DataFrame.\n",
      "Try using .loc[row_indexer,col_indexer] = value instead\n",
      "\n",
      "See the caveats in the documentation: https://pandas.pydata.org/pandas-docs/stable/user_guide/indexing.html#returning-a-view-versus-a-copy\n",
      "  dataset['contract_loyalty'] = (\n"
     ]
    }
   ],
   "source": [
    "dataset['contract_loyalty'] = (\n",
    "    (dataset['Contract'] != 'Month-to-month') & \n",
    "    (dataset['tenure'] > 12)).astype(int)"
   ]
  },
  {
   "cell_type": "markdown",
   "id": "0c38dfb9",
   "metadata": {},
   "source": [
    "What it means:\n",
    "- 1 → Has long contract and stayed over a year → likely loyal\n",
    "- 0 → Either on month-to-month or hasn’t stayed long"
   ]
  },
  {
   "cell_type": "markdown",
   "id": "349e4e7b",
   "metadata": {},
   "source": [
    "##### 1.3.7.2. Contract Progress"
   ]
  },
  {
   "cell_type": "code",
   "execution_count": 16,
   "id": "a6c7f0e0",
   "metadata": {},
   "outputs": [
    {
     "name": "stderr",
     "output_type": "stream",
     "text": [
      "/var/folders/6v/w8nfkj8x66xc_mdtqnhljxq40000gn/T/ipykernel_41117/2309875274.py:9: SettingWithCopyWarning: \n",
      "A value is trying to be set on a copy of a slice from a DataFrame.\n",
      "Try using .loc[row_indexer,col_indexer] = value instead\n",
      "\n",
      "See the caveats in the documentation: https://pandas.pydata.org/pandas-docs/stable/user_guide/indexing.html#returning-a-view-versus-a-copy\n",
      "  dataset['contract_length'] = dataset['Contract'].apply(contract_length)\n",
      "/var/folders/6v/w8nfkj8x66xc_mdtqnhljxq40000gn/T/ipykernel_41117/2309875274.py:10: SettingWithCopyWarning: \n",
      "A value is trying to be set on a copy of a slice from a DataFrame.\n",
      "Try using .loc[row_indexer,col_indexer] = value instead\n",
      "\n",
      "See the caveats in the documentation: https://pandas.pydata.org/pandas-docs/stable/user_guide/indexing.html#returning-a-view-versus-a-copy\n",
      "  dataset['contract_progress'] = (dataset['tenure'] / dataset['contract_length']).round(2)\n"
     ]
    }
   ],
   "source": [
    "def contract_length(contract):\n",
    "    if contract == 'Month-to-month':\n",
    "        return 1\n",
    "    elif contract == 'One year':\n",
    "        return 12\n",
    "    elif contract == 'Two year':\n",
    "        return 24\n",
    "    \n",
    "dataset['contract_length'] = dataset['Contract'].apply(contract_length)\n",
    "dataset['contract_progress'] = (dataset['tenure'] / dataset['contract_length']).round(2)"
   ]
  },
  {
   "cell_type": "markdown",
   "id": "1d7e59dc",
   "metadata": {},
   "source": [
    "What it means:\n",
    "- contract_progress = 1.0 → they finished their contract\n",
    "- *>1.0 → they renewed\n",
    "- <1.0 → still within contract\n",
    "\n",
    "This gives a numeric signal to the model about where the customer is in their commitment journey."
   ]
  },
  {
   "cell_type": "markdown",
   "id": "42ad7b65",
   "metadata": {},
   "source": [
    "#### 1.3.8. How many add-ons does a customer subscribe to"
   ]
  },
  {
   "cell_type": "code",
   "execution_count": 17,
   "id": "0f196a48",
   "metadata": {},
   "outputs": [
    {
     "name": "stderr",
     "output_type": "stream",
     "text": [
      "/var/folders/6v/w8nfkj8x66xc_mdtqnhljxq40000gn/T/ipykernel_41117/1284379579.py:4: SettingWithCopyWarning: \n",
      "A value is trying to be set on a copy of a slice from a DataFrame.\n",
      "Try using .loc[row_indexer,col_indexer] = value instead\n",
      "\n",
      "See the caveats in the documentation: https://pandas.pydata.org/pandas-docs/stable/user_guide/indexing.html#returning-a-view-versus-a-copy\n",
      "  dataset['ServiceCount'] = (dataset[service_cols] == 'Yes').sum(axis=1)\n"
     ]
    }
   ],
   "source": [
    "service_cols = ['PhoneService', 'MultipleLines', 'OnlineSecurity', 'OnlineBackup', 'DeviceProtection', \n",
    "                'TechSupport', 'StreamingTV', 'StreamingMovies']\n",
    "\n",
    "dataset['ServiceCount'] = (dataset[service_cols] == 'Yes').sum(axis=1)"
   ]
  },
  {
   "cell_type": "code",
   "execution_count": 18,
   "id": "73e023f2",
   "metadata": {},
   "outputs": [
    {
     "name": "stdout",
     "output_type": "stream",
     "text": [
      "[0 1 2 3 4 5 6 7 8]\n"
     ]
    }
   ],
   "source": [
    "print(np.sort(dataset['ServiceCount'].unique()))"
   ]
  },
  {
   "cell_type": "markdown",
   "id": "b5020de1",
   "metadata": {},
   "source": [
    "#### 1.3.9. How expensive was a customers service relative to how long they stuck around?"
   ]
  },
  {
   "cell_type": "code",
   "execution_count": 19,
   "id": "e7778b3a",
   "metadata": {},
   "outputs": [
    {
     "name": "stderr",
     "output_type": "stream",
     "text": [
      "/var/folders/6v/w8nfkj8x66xc_mdtqnhljxq40000gn/T/ipykernel_41117/3202030509.py:1: SettingWithCopyWarning: \n",
      "A value is trying to be set on a copy of a slice from a DataFrame.\n",
      "Try using .loc[row_indexer,col_indexer] = value instead\n",
      "\n",
      "See the caveats in the documentation: https://pandas.pydata.org/pandas-docs/stable/user_guide/indexing.html#returning-a-view-versus-a-copy\n",
      "  dataset['charge_tenure_ratio'] = (dataset['MonthlyCharges'] / (dataset['tenure'] + 1)).round(2)\n",
      "/var/folders/6v/w8nfkj8x66xc_mdtqnhljxq40000gn/T/ipykernel_41117/3202030509.py:2: SettingWithCopyWarning: \n",
      "A value is trying to be set on a copy of a slice from a DataFrame.\n",
      "Try using .loc[row_indexer,col_indexer] = value instead\n",
      "\n",
      "See the caveats in the documentation: https://pandas.pydata.org/pandas-docs/stable/user_guide/indexing.html#returning-a-view-versus-a-copy\n",
      "  dataset['charge_tenure_ratio_log'] = np.log1p(dataset['charge_tenure_ratio']).round(2)\n"
     ]
    }
   ],
   "source": [
    "dataset['charge_tenure_ratio'] = (dataset['MonthlyCharges'] / (dataset['tenure'] + 1)).round(2)\n",
    "dataset['charge_tenure_ratio_log'] = np.log1p(dataset['charge_tenure_ratio']).round(2)"
   ]
  },
  {
   "cell_type": "markdown",
   "id": "82cbdbc3",
   "metadata": {},
   "source": [
    "#### 1.3.10. Could a deeply engaged customer on a longer plan be less likely to leave? (Many Services + One‑year Contract)"
   ]
  },
  {
   "cell_type": "markdown",
   "id": "45311f21",
   "metadata": {},
   "source": [
    "- “Deeply engaged” → ServicesCount is high\n",
    "- “On a longer plan” → Contract is either 'One year' or 'Two year'\n",
    "\n",
    "What metric is used to decide when a customer is deeply engaged?"
   ]
  },
  {
   "cell_type": "code",
   "execution_count": 20,
   "id": "585d65a2",
   "metadata": {},
   "outputs": [
    {
     "data": {
      "text/plain": [
       "ServiceCount\n",
       "1    1697\n",
       "2    1186\n",
       "3     965\n",
       "4     921\n",
       "5     906\n",
       "6     674\n",
       "7     395\n",
       "8     208\n",
       "0      80\n",
       "Name: count, dtype: int64"
      ]
     },
     "execution_count": 20,
     "metadata": {},
     "output_type": "execute_result"
    }
   ],
   "source": [
    "dataset['ServiceCount'].value_counts()"
   ]
  },
  {
   "cell_type": "code",
   "execution_count": 21,
   "id": "04635a27",
   "metadata": {},
   "outputs": [
    {
     "data": {
      "text/plain": [
       "count    7032.000000\n",
       "mean        3.363339\n",
       "std         2.062067\n",
       "min         0.000000\n",
       "25%         1.000000\n",
       "50%         3.000000\n",
       "75%         5.000000\n",
       "max         8.000000\n",
       "Name: ServiceCount, dtype: float64"
      ]
     },
     "execution_count": 21,
     "metadata": {},
     "output_type": "execute_result"
    }
   ],
   "source": [
    "dataset['ServiceCount'].describe()"
   ]
  },
  {
   "cell_type": "markdown",
   "id": "74b57e86",
   "metadata": {},
   "source": [
    "Summary of What the Data Says:\n",
    "- Most common values: 1–3 services\n",
    "- Median (50%): 3 services\n",
    "- 75th percentile: 5 services\n",
    "- Max: 8 services\n",
    "- Only 25% of customers have more than 5 services\n",
    "- Only ~21% (1495/7032) have 6 or more\n",
    "\n",
    "\n",
    "To define deep engagement, it makes sense to pick above-average users, not average ones.\n",
    "| Threshold | Label                        | % of customers |\n",
    "| --------- | ---------------------------- | -------------- |\n",
    "| ≥ 4       | Slightly above median        | \\~39%          |\n",
    "| ≥ 5       | 75th percentile or higher    | \\~26%          |\n",
    "| ≥ 6       | Top quartile (“power users”) | \\~21%          |\n"
   ]
  },
  {
   "cell_type": "markdown",
   "id": "dc08c362",
   "metadata": {},
   "source": [
    "Captures the top ~25% of customers with many subscribed services → engagement and ustomers on 1-year or 2-year contracts → loyalty\n"
   ]
  },
  {
   "cell_type": "code",
   "execution_count": 22,
   "id": "0787004d",
   "metadata": {},
   "outputs": [
    {
     "name": "stderr",
     "output_type": "stream",
     "text": [
      "/var/folders/6v/w8nfkj8x66xc_mdtqnhljxq40000gn/T/ipykernel_41117/2859296723.py:1: SettingWithCopyWarning: \n",
      "A value is trying to be set on a copy of a slice from a DataFrame.\n",
      "Try using .loc[row_indexer,col_indexer] = value instead\n",
      "\n",
      "See the caveats in the documentation: https://pandas.pydata.org/pandas-docs/stable/user_guide/indexing.html#returning-a-view-versus-a-copy\n",
      "  dataset['high_engagement_loyalty'] = (\n"
     ]
    }
   ],
   "source": [
    "dataset['high_engagement_loyalty'] = (\n",
    "    (dataset['ServiceCount'] >= 5) & \n",
    "    (dataset['contract_length'] >= 12)).astype(int)"
   ]
  },
  {
   "cell_type": "code",
   "execution_count": 23,
   "id": "c782627c",
   "metadata": {},
   "outputs": [
    {
     "data": {
      "text/plain": [
       "(7032, 35)"
      ]
     },
     "execution_count": 23,
     "metadata": {},
     "output_type": "execute_result"
    }
   ],
   "source": [
    "dataset.shape"
   ]
  },
  {
   "cell_type": "code",
   "execution_count": 24,
   "id": "b8475540",
   "metadata": {},
   "outputs": [
    {
     "data": {
      "text/html": [
       "<div>\n",
       "<style scoped>\n",
       "    .dataframe tbody tr th:only-of-type {\n",
       "        vertical-align: middle;\n",
       "    }\n",
       "\n",
       "    .dataframe tbody tr th {\n",
       "        vertical-align: top;\n",
       "    }\n",
       "\n",
       "    .dataframe thead th {\n",
       "        text-align: right;\n",
       "    }\n",
       "</style>\n",
       "<table border=\"1\" class=\"dataframe\">\n",
       "  <thead>\n",
       "    <tr style=\"text-align: right;\">\n",
       "      <th></th>\n",
       "      <th>customerID</th>\n",
       "      <th>gender</th>\n",
       "      <th>SeniorCitizen</th>\n",
       "      <th>Partner</th>\n",
       "      <th>Dependents</th>\n",
       "      <th>tenure</th>\n",
       "      <th>PhoneService</th>\n",
       "      <th>MultipleLines</th>\n",
       "      <th>InternetService</th>\n",
       "      <th>OnlineSecurity</th>\n",
       "      <th>...</th>\n",
       "      <th>EstimatedTotalCharges_log</th>\n",
       "      <th>charge_diff</th>\n",
       "      <th>missing_charge_flag</th>\n",
       "      <th>contract_loyalty</th>\n",
       "      <th>contract_length</th>\n",
       "      <th>contract_progress</th>\n",
       "      <th>ServiceCount</th>\n",
       "      <th>charge_tenure_ratio</th>\n",
       "      <th>charge_tenure_ratio_log</th>\n",
       "      <th>high_engagement_loyalty</th>\n",
       "    </tr>\n",
       "  </thead>\n",
       "  <tbody>\n",
       "    <tr>\n",
       "      <th>0</th>\n",
       "      <td>7590-VHVEG</td>\n",
       "      <td>Female</td>\n",
       "      <td>0</td>\n",
       "      <td>Yes</td>\n",
       "      <td>No</td>\n",
       "      <td>1</td>\n",
       "      <td>No</td>\n",
       "      <td>No</td>\n",
       "      <td>DSL</td>\n",
       "      <td>No</td>\n",
       "      <td>...</td>\n",
       "      <td>3.429137</td>\n",
       "      <td>0.00</td>\n",
       "      <td>0</td>\n",
       "      <td>0</td>\n",
       "      <td>1</td>\n",
       "      <td>1.00</td>\n",
       "      <td>1</td>\n",
       "      <td>14.92</td>\n",
       "      <td>2.77</td>\n",
       "      <td>0</td>\n",
       "    </tr>\n",
       "    <tr>\n",
       "      <th>1</th>\n",
       "      <td>5575-GNVDE</td>\n",
       "      <td>Male</td>\n",
       "      <td>0</td>\n",
       "      <td>No</td>\n",
       "      <td>No</td>\n",
       "      <td>34</td>\n",
       "      <td>Yes</td>\n",
       "      <td>No</td>\n",
       "      <td>DSL</td>\n",
       "      <td>Yes</td>\n",
       "      <td>...</td>\n",
       "      <td>7.569051</td>\n",
       "      <td>-46.80</td>\n",
       "      <td>1</td>\n",
       "      <td>1</td>\n",
       "      <td>12</td>\n",
       "      <td>2.83</td>\n",
       "      <td>3</td>\n",
       "      <td>1.63</td>\n",
       "      <td>0.97</td>\n",
       "      <td>0</td>\n",
       "    </tr>\n",
       "    <tr>\n",
       "      <th>2</th>\n",
       "      <td>3668-QPYBK</td>\n",
       "      <td>Male</td>\n",
       "      <td>0</td>\n",
       "      <td>No</td>\n",
       "      <td>No</td>\n",
       "      <td>2</td>\n",
       "      <td>Yes</td>\n",
       "      <td>No</td>\n",
       "      <td>DSL</td>\n",
       "      <td>Yes</td>\n",
       "      <td>...</td>\n",
       "      <td>4.688592</td>\n",
       "      <td>0.45</td>\n",
       "      <td>0</td>\n",
       "      <td>0</td>\n",
       "      <td>1</td>\n",
       "      <td>2.00</td>\n",
       "      <td>3</td>\n",
       "      <td>17.95</td>\n",
       "      <td>2.94</td>\n",
       "      <td>0</td>\n",
       "    </tr>\n",
       "    <tr>\n",
       "      <th>3</th>\n",
       "      <td>7795-CFOCW</td>\n",
       "      <td>Male</td>\n",
       "      <td>0</td>\n",
       "      <td>No</td>\n",
       "      <td>No</td>\n",
       "      <td>45</td>\n",
       "      <td>No</td>\n",
       "      <td>No</td>\n",
       "      <td>DSL</td>\n",
       "      <td>Yes</td>\n",
       "      <td>...</td>\n",
       "      <td>7.551975</td>\n",
       "      <td>-62.75</td>\n",
       "      <td>1</td>\n",
       "      <td>1</td>\n",
       "      <td>12</td>\n",
       "      <td>3.75</td>\n",
       "      <td>3</td>\n",
       "      <td>0.92</td>\n",
       "      <td>0.65</td>\n",
       "      <td>0</td>\n",
       "    </tr>\n",
       "    <tr>\n",
       "      <th>4</th>\n",
       "      <td>9237-HQITU</td>\n",
       "      <td>Female</td>\n",
       "      <td>0</td>\n",
       "      <td>No</td>\n",
       "      <td>No</td>\n",
       "      <td>2</td>\n",
       "      <td>Yes</td>\n",
       "      <td>No</td>\n",
       "      <td>Fiber optic</td>\n",
       "      <td>No</td>\n",
       "      <td>...</td>\n",
       "      <td>4.958640</td>\n",
       "      <td>10.25</td>\n",
       "      <td>0</td>\n",
       "      <td>0</td>\n",
       "      <td>1</td>\n",
       "      <td>2.00</td>\n",
       "      <td>1</td>\n",
       "      <td>23.57</td>\n",
       "      <td>3.20</td>\n",
       "      <td>0</td>\n",
       "    </tr>\n",
       "    <tr>\n",
       "      <th>5</th>\n",
       "      <td>9305-CDSKC</td>\n",
       "      <td>Female</td>\n",
       "      <td>0</td>\n",
       "      <td>No</td>\n",
       "      <td>No</td>\n",
       "      <td>8</td>\n",
       "      <td>Yes</td>\n",
       "      <td>Yes</td>\n",
       "      <td>Fiber optic</td>\n",
       "      <td>No</td>\n",
       "      <td>...</td>\n",
       "      <td>6.682359</td>\n",
       "      <td>23.30</td>\n",
       "      <td>0</td>\n",
       "      <td>0</td>\n",
       "      <td>1</td>\n",
       "      <td>8.00</td>\n",
       "      <td>5</td>\n",
       "      <td>11.07</td>\n",
       "      <td>2.49</td>\n",
       "      <td>0</td>\n",
       "    </tr>\n",
       "    <tr>\n",
       "      <th>6</th>\n",
       "      <td>1452-KIOVK</td>\n",
       "      <td>Male</td>\n",
       "      <td>0</td>\n",
       "      <td>No</td>\n",
       "      <td>Yes</td>\n",
       "      <td>22</td>\n",
       "      <td>Yes</td>\n",
       "      <td>Yes</td>\n",
       "      <td>Fiber optic</td>\n",
       "      <td>No</td>\n",
       "      <td>...</td>\n",
       "      <td>7.581312</td>\n",
       "      <td>-10.80</td>\n",
       "      <td>1</td>\n",
       "      <td>0</td>\n",
       "      <td>1</td>\n",
       "      <td>22.00</td>\n",
       "      <td>4</td>\n",
       "      <td>3.87</td>\n",
       "      <td>1.58</td>\n",
       "      <td>0</td>\n",
       "    </tr>\n",
       "    <tr>\n",
       "      <th>7</th>\n",
       "      <td>6713-OKOMC</td>\n",
       "      <td>Female</td>\n",
       "      <td>0</td>\n",
       "      <td>No</td>\n",
       "      <td>No</td>\n",
       "      <td>10</td>\n",
       "      <td>No</td>\n",
       "      <td>No</td>\n",
       "      <td>DSL</td>\n",
       "      <td>Yes</td>\n",
       "      <td>...</td>\n",
       "      <td>5.698770</td>\n",
       "      <td>4.40</td>\n",
       "      <td>0</td>\n",
       "      <td>0</td>\n",
       "      <td>1</td>\n",
       "      <td>10.00</td>\n",
       "      <td>1</td>\n",
       "      <td>2.70</td>\n",
       "      <td>1.31</td>\n",
       "      <td>0</td>\n",
       "    </tr>\n",
       "    <tr>\n",
       "      <th>8</th>\n",
       "      <td>7892-POOKP</td>\n",
       "      <td>Female</td>\n",
       "      <td>0</td>\n",
       "      <td>Yes</td>\n",
       "      <td>No</td>\n",
       "      <td>28</td>\n",
       "      <td>Yes</td>\n",
       "      <td>Yes</td>\n",
       "      <td>Fiber optic</td>\n",
       "      <td>No</td>\n",
       "      <td>...</td>\n",
       "      <td>7.984599</td>\n",
       "      <td>111.65</td>\n",
       "      <td>0</td>\n",
       "      <td>0</td>\n",
       "      <td>1</td>\n",
       "      <td>28.00</td>\n",
       "      <td>6</td>\n",
       "      <td>3.61</td>\n",
       "      <td>1.53</td>\n",
       "      <td>0</td>\n",
       "    </tr>\n",
       "    <tr>\n",
       "      <th>9</th>\n",
       "      <td>6388-TABGU</td>\n",
       "      <td>Male</td>\n",
       "      <td>0</td>\n",
       "      <td>No</td>\n",
       "      <td>Yes</td>\n",
       "      <td>62</td>\n",
       "      <td>Yes</td>\n",
       "      <td>No</td>\n",
       "      <td>DSL</td>\n",
       "      <td>Yes</td>\n",
       "      <td>...</td>\n",
       "      <td>8.155448</td>\n",
       "      <td>6.65</td>\n",
       "      <td>0</td>\n",
       "      <td>1</td>\n",
       "      <td>12</td>\n",
       "      <td>5.17</td>\n",
       "      <td>3</td>\n",
       "      <td>0.89</td>\n",
       "      <td>0.64</td>\n",
       "      <td>0</td>\n",
       "    </tr>\n",
       "  </tbody>\n",
       "</table>\n",
       "<p>10 rows × 35 columns</p>\n",
       "</div>"
      ],
      "text/plain": [
       "   customerID  gender  SeniorCitizen Partner Dependents  tenure PhoneService  \\\n",
       "0  7590-VHVEG  Female              0     Yes         No       1           No   \n",
       "1  5575-GNVDE    Male              0      No         No      34          Yes   \n",
       "2  3668-QPYBK    Male              0      No         No       2          Yes   \n",
       "3  7795-CFOCW    Male              0      No         No      45           No   \n",
       "4  9237-HQITU  Female              0      No         No       2          Yes   \n",
       "5  9305-CDSKC  Female              0      No         No       8          Yes   \n",
       "6  1452-KIOVK    Male              0      No        Yes      22          Yes   \n",
       "7  6713-OKOMC  Female              0      No         No      10           No   \n",
       "8  7892-POOKP  Female              0     Yes         No      28          Yes   \n",
       "9  6388-TABGU    Male              0      No        Yes      62          Yes   \n",
       "\n",
       "  MultipleLines InternetService OnlineSecurity  ... EstimatedTotalCharges_log  \\\n",
       "0            No             DSL             No  ...                  3.429137   \n",
       "1            No             DSL            Yes  ...                  7.569051   \n",
       "2            No             DSL            Yes  ...                  4.688592   \n",
       "3            No             DSL            Yes  ...                  7.551975   \n",
       "4            No     Fiber optic             No  ...                  4.958640   \n",
       "5           Yes     Fiber optic             No  ...                  6.682359   \n",
       "6           Yes     Fiber optic             No  ...                  7.581312   \n",
       "7            No             DSL            Yes  ...                  5.698770   \n",
       "8           Yes     Fiber optic             No  ...                  7.984599   \n",
       "9            No             DSL            Yes  ...                  8.155448   \n",
       "\n",
       "  charge_diff missing_charge_flag contract_loyalty contract_length  \\\n",
       "0        0.00                   0                0               1   \n",
       "1      -46.80                   1                1              12   \n",
       "2        0.45                   0                0               1   \n",
       "3      -62.75                   1                1              12   \n",
       "4       10.25                   0                0               1   \n",
       "5       23.30                   0                0               1   \n",
       "6      -10.80                   1                0               1   \n",
       "7        4.40                   0                0               1   \n",
       "8      111.65                   0                0               1   \n",
       "9        6.65                   0                1              12   \n",
       "\n",
       "  contract_progress ServiceCount charge_tenure_ratio  charge_tenure_ratio_log  \\\n",
       "0              1.00            1               14.92                     2.77   \n",
       "1              2.83            3                1.63                     0.97   \n",
       "2              2.00            3               17.95                     2.94   \n",
       "3              3.75            3                0.92                     0.65   \n",
       "4              2.00            1               23.57                     3.20   \n",
       "5              8.00            5               11.07                     2.49   \n",
       "6             22.00            4                3.87                     1.58   \n",
       "7             10.00            1                2.70                     1.31   \n",
       "8             28.00            6                3.61                     1.53   \n",
       "9              5.17            3                0.89                     0.64   \n",
       "\n",
       "   high_engagement_loyalty  \n",
       "0                        0  \n",
       "1                        0  \n",
       "2                        0  \n",
       "3                        0  \n",
       "4                        0  \n",
       "5                        0  \n",
       "6                        0  \n",
       "7                        0  \n",
       "8                        0  \n",
       "9                        0  \n",
       "\n",
       "[10 rows x 35 columns]"
      ]
     },
     "execution_count": 24,
     "metadata": {},
     "output_type": "execute_result"
    }
   ],
   "source": [
    "dataset.head(10)"
   ]
  },
  {
   "cell_type": "code",
   "execution_count": 25,
   "id": "27aea602",
   "metadata": {},
   "outputs": [
    {
     "data": {
      "text/plain": [
       "Index(['customerID', 'gender', 'SeniorCitizen', 'Partner', 'Dependents',\n",
       "       'tenure', 'PhoneService', 'MultipleLines', 'InternetService',\n",
       "       'OnlineSecurity', 'OnlineBackup', 'DeviceProtection', 'TechSupport',\n",
       "       'StreamingTV', 'StreamingMovies', 'Contract', 'PaperlessBilling',\n",
       "       'PaymentMethod', 'MonthlyCharges', 'TotalCharges', 'Churn',\n",
       "       'MonthlyCharges_log', 'TotalCharges_log', 'tenure_bin',\n",
       "       'EstimatedTotalCharges', 'EstimatedTotalCharges_log', 'charge_diff',\n",
       "       'missing_charge_flag', 'contract_loyalty', 'contract_length',\n",
       "       'contract_progress', 'ServiceCount', 'charge_tenure_ratio',\n",
       "       'charge_tenure_ratio_log', 'high_engagement_loyalty'],\n",
       "      dtype='object')"
      ]
     },
     "execution_count": 25,
     "metadata": {},
     "output_type": "execute_result"
    }
   ],
   "source": [
    "dataset.columns"
   ]
  },
  {
   "cell_type": "markdown",
   "id": "77593e96",
   "metadata": {},
   "source": [
    "#### 1.3.11. Defining the matrix of features"
   ]
  },
  {
   "cell_type": "code",
   "execution_count": 26,
   "id": "36f9e589",
   "metadata": {},
   "outputs": [
    {
     "name": "stdout",
     "output_type": "stream",
     "text": [
      "<class 'pandas.core.frame.DataFrame'>\n",
      "\n",
      "\n"
     ]
    },
    {
     "data": {
      "text/html": [
       "<div>\n",
       "<style scoped>\n",
       "    .dataframe tbody tr th:only-of-type {\n",
       "        vertical-align: middle;\n",
       "    }\n",
       "\n",
       "    .dataframe tbody tr th {\n",
       "        vertical-align: top;\n",
       "    }\n",
       "\n",
       "    .dataframe thead th {\n",
       "        text-align: right;\n",
       "    }\n",
       "</style>\n",
       "<table border=\"1\" class=\"dataframe\">\n",
       "  <thead>\n",
       "    <tr style=\"text-align: right;\">\n",
       "      <th></th>\n",
       "      <th>gender</th>\n",
       "      <th>SeniorCitizen</th>\n",
       "      <th>Partner</th>\n",
       "      <th>Dependents</th>\n",
       "      <th>tenure</th>\n",
       "      <th>PhoneService</th>\n",
       "      <th>MultipleLines</th>\n",
       "      <th>InternetService</th>\n",
       "      <th>OnlineSecurity</th>\n",
       "      <th>OnlineBackup</th>\n",
       "      <th>...</th>\n",
       "      <th>tenure_bin</th>\n",
       "      <th>EstimatedTotalCharges_log</th>\n",
       "      <th>charge_diff</th>\n",
       "      <th>missing_charge_flag</th>\n",
       "      <th>contract_loyalty</th>\n",
       "      <th>contract_length</th>\n",
       "      <th>contract_progress</th>\n",
       "      <th>ServiceCount</th>\n",
       "      <th>charge_tenure_ratio_log</th>\n",
       "      <th>high_engagement_loyalty</th>\n",
       "    </tr>\n",
       "  </thead>\n",
       "  <tbody>\n",
       "    <tr>\n",
       "      <th>0</th>\n",
       "      <td>Female</td>\n",
       "      <td>0</td>\n",
       "      <td>Yes</td>\n",
       "      <td>No</td>\n",
       "      <td>1</td>\n",
       "      <td>No</td>\n",
       "      <td>No</td>\n",
       "      <td>DSL</td>\n",
       "      <td>No</td>\n",
       "      <td>Yes</td>\n",
       "      <td>...</td>\n",
       "      <td>Short term</td>\n",
       "      <td>3.429137</td>\n",
       "      <td>0.00</td>\n",
       "      <td>0</td>\n",
       "      <td>0</td>\n",
       "      <td>1</td>\n",
       "      <td>1.00</td>\n",
       "      <td>1</td>\n",
       "      <td>2.77</td>\n",
       "      <td>0</td>\n",
       "    </tr>\n",
       "    <tr>\n",
       "      <th>1</th>\n",
       "      <td>Male</td>\n",
       "      <td>0</td>\n",
       "      <td>No</td>\n",
       "      <td>No</td>\n",
       "      <td>34</td>\n",
       "      <td>Yes</td>\n",
       "      <td>No</td>\n",
       "      <td>DSL</td>\n",
       "      <td>Yes</td>\n",
       "      <td>No</td>\n",
       "      <td>...</td>\n",
       "      <td>Mid term</td>\n",
       "      <td>7.569051</td>\n",
       "      <td>-46.80</td>\n",
       "      <td>1</td>\n",
       "      <td>1</td>\n",
       "      <td>12</td>\n",
       "      <td>2.83</td>\n",
       "      <td>3</td>\n",
       "      <td>0.97</td>\n",
       "      <td>0</td>\n",
       "    </tr>\n",
       "    <tr>\n",
       "      <th>2</th>\n",
       "      <td>Male</td>\n",
       "      <td>0</td>\n",
       "      <td>No</td>\n",
       "      <td>No</td>\n",
       "      <td>2</td>\n",
       "      <td>Yes</td>\n",
       "      <td>No</td>\n",
       "      <td>DSL</td>\n",
       "      <td>Yes</td>\n",
       "      <td>Yes</td>\n",
       "      <td>...</td>\n",
       "      <td>Short term</td>\n",
       "      <td>4.688592</td>\n",
       "      <td>0.45</td>\n",
       "      <td>0</td>\n",
       "      <td>0</td>\n",
       "      <td>1</td>\n",
       "      <td>2.00</td>\n",
       "      <td>3</td>\n",
       "      <td>2.94</td>\n",
       "      <td>0</td>\n",
       "    </tr>\n",
       "    <tr>\n",
       "      <th>3</th>\n",
       "      <td>Male</td>\n",
       "      <td>0</td>\n",
       "      <td>No</td>\n",
       "      <td>No</td>\n",
       "      <td>45</td>\n",
       "      <td>No</td>\n",
       "      <td>No</td>\n",
       "      <td>DSL</td>\n",
       "      <td>Yes</td>\n",
       "      <td>No</td>\n",
       "      <td>...</td>\n",
       "      <td>Mid term</td>\n",
       "      <td>7.551975</td>\n",
       "      <td>-62.75</td>\n",
       "      <td>1</td>\n",
       "      <td>1</td>\n",
       "      <td>12</td>\n",
       "      <td>3.75</td>\n",
       "      <td>3</td>\n",
       "      <td>0.65</td>\n",
       "      <td>0</td>\n",
       "    </tr>\n",
       "    <tr>\n",
       "      <th>4</th>\n",
       "      <td>Female</td>\n",
       "      <td>0</td>\n",
       "      <td>No</td>\n",
       "      <td>No</td>\n",
       "      <td>2</td>\n",
       "      <td>Yes</td>\n",
       "      <td>No</td>\n",
       "      <td>Fiber optic</td>\n",
       "      <td>No</td>\n",
       "      <td>No</td>\n",
       "      <td>...</td>\n",
       "      <td>Short term</td>\n",
       "      <td>4.958640</td>\n",
       "      <td>10.25</td>\n",
       "      <td>0</td>\n",
       "      <td>0</td>\n",
       "      <td>1</td>\n",
       "      <td>2.00</td>\n",
       "      <td>1</td>\n",
       "      <td>3.20</td>\n",
       "      <td>0</td>\n",
       "    </tr>\n",
       "    <tr>\n",
       "      <th>5</th>\n",
       "      <td>Female</td>\n",
       "      <td>0</td>\n",
       "      <td>No</td>\n",
       "      <td>No</td>\n",
       "      <td>8</td>\n",
       "      <td>Yes</td>\n",
       "      <td>Yes</td>\n",
       "      <td>Fiber optic</td>\n",
       "      <td>No</td>\n",
       "      <td>No</td>\n",
       "      <td>...</td>\n",
       "      <td>Short term</td>\n",
       "      <td>6.682359</td>\n",
       "      <td>23.30</td>\n",
       "      <td>0</td>\n",
       "      <td>0</td>\n",
       "      <td>1</td>\n",
       "      <td>8.00</td>\n",
       "      <td>5</td>\n",
       "      <td>2.49</td>\n",
       "      <td>0</td>\n",
       "    </tr>\n",
       "    <tr>\n",
       "      <th>6</th>\n",
       "      <td>Male</td>\n",
       "      <td>0</td>\n",
       "      <td>No</td>\n",
       "      <td>Yes</td>\n",
       "      <td>22</td>\n",
       "      <td>Yes</td>\n",
       "      <td>Yes</td>\n",
       "      <td>Fiber optic</td>\n",
       "      <td>No</td>\n",
       "      <td>Yes</td>\n",
       "      <td>...</td>\n",
       "      <td>Mid term</td>\n",
       "      <td>7.581312</td>\n",
       "      <td>-10.80</td>\n",
       "      <td>1</td>\n",
       "      <td>0</td>\n",
       "      <td>1</td>\n",
       "      <td>22.00</td>\n",
       "      <td>4</td>\n",
       "      <td>1.58</td>\n",
       "      <td>0</td>\n",
       "    </tr>\n",
       "    <tr>\n",
       "      <th>7</th>\n",
       "      <td>Female</td>\n",
       "      <td>0</td>\n",
       "      <td>No</td>\n",
       "      <td>No</td>\n",
       "      <td>10</td>\n",
       "      <td>No</td>\n",
       "      <td>No</td>\n",
       "      <td>DSL</td>\n",
       "      <td>Yes</td>\n",
       "      <td>No</td>\n",
       "      <td>...</td>\n",
       "      <td>Short term</td>\n",
       "      <td>5.698770</td>\n",
       "      <td>4.40</td>\n",
       "      <td>0</td>\n",
       "      <td>0</td>\n",
       "      <td>1</td>\n",
       "      <td>10.00</td>\n",
       "      <td>1</td>\n",
       "      <td>1.31</td>\n",
       "      <td>0</td>\n",
       "    </tr>\n",
       "    <tr>\n",
       "      <th>8</th>\n",
       "      <td>Female</td>\n",
       "      <td>0</td>\n",
       "      <td>Yes</td>\n",
       "      <td>No</td>\n",
       "      <td>28</td>\n",
       "      <td>Yes</td>\n",
       "      <td>Yes</td>\n",
       "      <td>Fiber optic</td>\n",
       "      <td>No</td>\n",
       "      <td>No</td>\n",
       "      <td>...</td>\n",
       "      <td>Mid term</td>\n",
       "      <td>7.984599</td>\n",
       "      <td>111.65</td>\n",
       "      <td>0</td>\n",
       "      <td>0</td>\n",
       "      <td>1</td>\n",
       "      <td>28.00</td>\n",
       "      <td>6</td>\n",
       "      <td>1.53</td>\n",
       "      <td>0</td>\n",
       "    </tr>\n",
       "    <tr>\n",
       "      <th>9</th>\n",
       "      <td>Male</td>\n",
       "      <td>0</td>\n",
       "      <td>No</td>\n",
       "      <td>Yes</td>\n",
       "      <td>62</td>\n",
       "      <td>Yes</td>\n",
       "      <td>No</td>\n",
       "      <td>DSL</td>\n",
       "      <td>Yes</td>\n",
       "      <td>Yes</td>\n",
       "      <td>...</td>\n",
       "      <td>Long term</td>\n",
       "      <td>8.155448</td>\n",
       "      <td>6.65</td>\n",
       "      <td>0</td>\n",
       "      <td>1</td>\n",
       "      <td>12</td>\n",
       "      <td>5.17</td>\n",
       "      <td>3</td>\n",
       "      <td>0.64</td>\n",
       "      <td>0</td>\n",
       "    </tr>\n",
       "  </tbody>\n",
       "</table>\n",
       "<p>10 rows × 29 columns</p>\n",
       "</div>"
      ],
      "text/plain": [
       "   gender  SeniorCitizen Partner Dependents  tenure PhoneService  \\\n",
       "0  Female              0     Yes         No       1           No   \n",
       "1    Male              0      No         No      34          Yes   \n",
       "2    Male              0      No         No       2          Yes   \n",
       "3    Male              0      No         No      45           No   \n",
       "4  Female              0      No         No       2          Yes   \n",
       "5  Female              0      No         No       8          Yes   \n",
       "6    Male              0      No        Yes      22          Yes   \n",
       "7  Female              0      No         No      10           No   \n",
       "8  Female              0     Yes         No      28          Yes   \n",
       "9    Male              0      No        Yes      62          Yes   \n",
       "\n",
       "  MultipleLines InternetService OnlineSecurity OnlineBackup  ...  tenure_bin  \\\n",
       "0            No             DSL             No          Yes  ...  Short term   \n",
       "1            No             DSL            Yes           No  ...    Mid term   \n",
       "2            No             DSL            Yes          Yes  ...  Short term   \n",
       "3            No             DSL            Yes           No  ...    Mid term   \n",
       "4            No     Fiber optic             No           No  ...  Short term   \n",
       "5           Yes     Fiber optic             No           No  ...  Short term   \n",
       "6           Yes     Fiber optic             No          Yes  ...    Mid term   \n",
       "7            No             DSL            Yes           No  ...  Short term   \n",
       "8           Yes     Fiber optic             No           No  ...    Mid term   \n",
       "9            No             DSL            Yes          Yes  ...   Long term   \n",
       "\n",
       "  EstimatedTotalCharges_log charge_diff missing_charge_flag contract_loyalty  \\\n",
       "0                  3.429137        0.00                   0                0   \n",
       "1                  7.569051      -46.80                   1                1   \n",
       "2                  4.688592        0.45                   0                0   \n",
       "3                  7.551975      -62.75                   1                1   \n",
       "4                  4.958640       10.25                   0                0   \n",
       "5                  6.682359       23.30                   0                0   \n",
       "6                  7.581312      -10.80                   1                0   \n",
       "7                  5.698770        4.40                   0                0   \n",
       "8                  7.984599      111.65                   0                0   \n",
       "9                  8.155448        6.65                   0                1   \n",
       "\n",
       "  contract_length contract_progress  ServiceCount  charge_tenure_ratio_log  \\\n",
       "0               1              1.00             1                     2.77   \n",
       "1              12              2.83             3                     0.97   \n",
       "2               1              2.00             3                     2.94   \n",
       "3              12              3.75             3                     0.65   \n",
       "4               1              2.00             1                     3.20   \n",
       "5               1              8.00             5                     2.49   \n",
       "6               1             22.00             4                     1.58   \n",
       "7               1             10.00             1                     1.31   \n",
       "8               1             28.00             6                     1.53   \n",
       "9              12              5.17             3                     0.64   \n",
       "\n",
       "  high_engagement_loyalty  \n",
       "0                       0  \n",
       "1                       0  \n",
       "2                       0  \n",
       "3                       0  \n",
       "4                       0  \n",
       "5                       0  \n",
       "6                       0  \n",
       "7                       0  \n",
       "8                       0  \n",
       "9                       0  \n",
       "\n",
       "[10 rows x 29 columns]"
      ]
     },
     "execution_count": 26,
     "metadata": {},
     "output_type": "execute_result"
    }
   ],
   "source": [
    "# Defining the matrix of features\n",
    "cols_to_drop = ['customerID', 'TotalCharges', 'MonthlyCharges', 'EstimatedTotalCharges', 'charge_tenure_ratio', 'Churn']\n",
    "X_untransformed = dataset.drop(columns=cols_to_drop, axis=1)\n",
    "\n",
    "\n",
    "feature_names = X_untransformed.columns.tolist()\n",
    "\n",
    "\n",
    "# X_untransformed = dataset.iloc[:, 1:-1].copy()\n",
    "print(type(X_untransformed))\n",
    "\n",
    "print(\"\\n\")\n",
    "\n",
    "X_untransformed.head(10)"
   ]
  },
  {
   "cell_type": "code",
   "execution_count": 27,
   "id": "d480d81c",
   "metadata": {},
   "outputs": [
    {
     "data": {
      "text/plain": [
       "(7032, 29)"
      ]
     },
     "execution_count": 27,
     "metadata": {},
     "output_type": "execute_result"
    }
   ],
   "source": [
    "X_untransformed.shape"
   ]
  },
  {
   "cell_type": "code",
   "execution_count": 28,
   "id": "8b390f45",
   "metadata": {},
   "outputs": [
    {
     "data": {
      "text/plain": [
       "gender                         object\n",
       "SeniorCitizen                   int64\n",
       "Partner                        object\n",
       "Dependents                     object\n",
       "tenure                          int64\n",
       "PhoneService                   object\n",
       "MultipleLines                  object\n",
       "InternetService                object\n",
       "OnlineSecurity                 object\n",
       "OnlineBackup                   object\n",
       "DeviceProtection               object\n",
       "TechSupport                    object\n",
       "StreamingTV                    object\n",
       "StreamingMovies                object\n",
       "Contract                       object\n",
       "PaperlessBilling               object\n",
       "PaymentMethod                  object\n",
       "MonthlyCharges_log            float64\n",
       "TotalCharges_log              float64\n",
       "tenure_bin                   category\n",
       "EstimatedTotalCharges_log     float64\n",
       "charge_diff                   float64\n",
       "missing_charge_flag             int64\n",
       "contract_loyalty                int64\n",
       "contract_length                 int64\n",
       "contract_progress             float64\n",
       "ServiceCount                    int64\n",
       "charge_tenure_ratio_log       float64\n",
       "high_engagement_loyalty         int64\n",
       "dtype: object"
      ]
     },
     "execution_count": 28,
     "metadata": {},
     "output_type": "execute_result"
    }
   ],
   "source": [
    "X_untransformed.dtypes"
   ]
  },
  {
   "cell_type": "code",
   "execution_count": 29,
   "id": "4b423b17",
   "metadata": {},
   "outputs": [
    {
     "name": "stdout",
     "output_type": "stream",
     "text": [
      "Numerical cols: Index(['SeniorCitizen', 'tenure', 'MonthlyCharges_log', 'TotalCharges_log',\n",
      "       'EstimatedTotalCharges_log', 'charge_diff', 'missing_charge_flag',\n",
      "       'contract_loyalty', 'contract_length', 'contract_progress',\n",
      "       'ServiceCount', 'charge_tenure_ratio_log', 'high_engagement_loyalty'],\n",
      "      dtype='object')\n",
      "\n",
      "Categorical cols: Index(['gender', 'Partner', 'Dependents', 'PhoneService', 'MultipleLines',\n",
      "       'InternetService', 'OnlineSecurity', 'OnlineBackup', 'DeviceProtection',\n",
      "       'TechSupport', 'StreamingTV', 'StreamingMovies', 'Contract',\n",
      "       'PaperlessBilling', 'PaymentMethod'],\n",
      "      dtype='object')\n",
      "\n",
      "Categorical cols: Index(['tenure_bin'], dtype='object')\n"
     ]
    }
   ],
   "source": [
    "x_num = X_untransformed.select_dtypes(include=['number']).columns\n",
    "x_cat_1 = X_untransformed.select_dtypes(include=['object']).columns\n",
    "x_cat_2 = X_untransformed.select_dtypes(include=['category']).columns\n",
    "\n",
    "print(\"Numerical cols:\", x_num)\n",
    "print(\"\\nCategorical cols:\", x_cat_1)\n",
    "print(\"\\nCategorical cols:\", x_cat_2)"
   ]
  },
  {
   "cell_type": "code",
   "execution_count": 30,
   "id": "fa804151",
   "metadata": {},
   "outputs": [
    {
     "name": "stdout",
     "output_type": "stream",
     "text": [
      "Unique Values for the 'gender' Column\n",
      "['Female' 'Male']\n",
      "==================================================\n",
      "Unique Values for the 'Partner' Column\n",
      "['Yes' 'No']\n",
      "==================================================\n",
      "Unique Values for the 'Dependents' Column\n",
      "['No' 'Yes']\n",
      "==================================================\n",
      "Unique Values for the 'PhoneService' Column\n",
      "['No' 'Yes']\n",
      "==================================================\n",
      "Unique Values for the 'MultipleLines' Column\n",
      "['No' 'Yes']\n",
      "==================================================\n",
      "Unique Values for the 'InternetService' Column\n",
      "['DSL' 'Fiber optic' 'No']\n",
      "==================================================\n",
      "Unique Values for the 'OnlineSecurity' Column\n",
      "['No' 'Yes']\n",
      "==================================================\n",
      "Unique Values for the 'OnlineBackup' Column\n",
      "['Yes' 'No']\n",
      "==================================================\n",
      "Unique Values for the 'DeviceProtection' Column\n",
      "['No' 'Yes']\n",
      "==================================================\n",
      "Unique Values for the 'TechSupport' Column\n",
      "['No' 'Yes']\n",
      "==================================================\n",
      "Unique Values for the 'StreamingTV' Column\n",
      "['No' 'Yes']\n",
      "==================================================\n",
      "Unique Values for the 'StreamingMovies' Column\n",
      "['No' 'Yes']\n",
      "==================================================\n",
      "Unique Values for the 'Contract' Column\n",
      "['Month-to-month' 'One year' 'Two year']\n",
      "==================================================\n",
      "Unique Values for the 'PaperlessBilling' Column\n",
      "['Yes' 'No']\n",
      "==================================================\n",
      "Unique Values for the 'PaymentMethod' Column\n",
      "['Automatic' 'Manual']\n",
      "==================================================\n",
      "Unique Values for the 'tenure_bin' Column\n",
      "['Short term', 'Mid term', 'Long term', NaN]\n",
      "Categories (3, object): ['Short term' < 'Mid term' < 'Long term']\n",
      "==================================================\n"
     ]
    }
   ],
   "source": [
    "cat_cols = x_cat_1.tolist() + x_cat_2.tolist()\n",
    "\n",
    "for col in cat_cols:\n",
    "    print(f\"Unique Values for the '{col}' Column\")\n",
    "    print(dataset[col].unique())\n",
    "    print('=' * 50)"
   ]
  },
  {
   "cell_type": "markdown",
   "id": "efeb9d2e",
   "metadata": {},
   "source": [
    "### 1.3.12. Encoding the Categorical Columns"
   ]
  },
  {
   "cell_type": "code",
   "execution_count": 31,
   "id": "7e65deb9",
   "metadata": {},
   "outputs": [],
   "source": [
    "# Identify columns\n",
    "binary_cols = ['gender', 'Partner', 'Dependents', 'PhoneService', \n",
    "               'MultipleLines', 'OnlineSecurity', 'OnlineBackup', \n",
    "               'DeviceProtection', 'TechSupport', 'StreamingTV', \n",
    "               'StreamingMovies','PaperlessBilling', 'PaymentMethod']   # Binary-class\n",
    "\n",
    "multi_cat_cols = ['InternetService', 'Contract', 'tenure_bin']  # Multi-class\n",
    "\n",
    "numeric_cols = ['SeniorCitizen', 'tenure', 'MonthlyCharges_log', 'TotalCharges_log', \n",
    "                'EstimatedTotalCharges_log', 'charge_diff', 'missing_charge_flag',\n",
    "                'contract_loyalty', 'contract_length', 'contract_progress',\n",
    "                'ServiceCount', 'charge_tenure_ratio_log', 'high_engagement_loyalty'] # Numerical cols"
   ]
  },
  {
   "cell_type": "code",
   "execution_count": 32,
   "id": "1af86956",
   "metadata": {},
   "outputs": [
    {
     "name": "stdout",
     "output_type": "stream",
     "text": [
      "Checking columns in X: ['gender', 'SeniorCitizen', 'Partner', 'Dependents', 'tenure', 'PhoneService', 'MultipleLines', 'InternetService', 'OnlineSecurity', 'OnlineBackup', 'DeviceProtection', 'TechSupport', 'StreamingTV', 'StreamingMovies', 'Contract', 'PaperlessBilling', 'PaymentMethod', 'MonthlyCharges_log', 'TotalCharges_log', 'tenure_bin', 'EstimatedTotalCharges_log', 'charge_diff', 'missing_charge_flag', 'contract_loyalty', 'contract_length', 'contract_progress', 'ServiceCount', 'charge_tenure_ratio_log', 'high_engagement_loyalty']\n",
      "All multi-class categorical columns are present.\n"
     ]
    }
   ],
   "source": [
    "# Make sure these columns exist before encoding\n",
    "print(\"Checking columns in X:\", X_untransformed.columns.tolist())\n",
    "missing_cols = [col for col in multi_cat_cols if col not in X_untransformed.columns]\n",
    "\n",
    "if missing_cols:\n",
    "    print(\"These expected columns are missing from X:\", missing_cols)\n",
    "else:\n",
    "    print(\"All multi-class categorical columns are present.\")"
   ]
  },
  {
   "cell_type": "markdown",
   "id": "23aeabe1",
   "metadata": {},
   "source": [
    "##### 1.3.12.1. Encoding the independent variables with label encoding"
   ]
  },
  {
   "cell_type": "code",
   "execution_count": 33,
   "id": "4398c037",
   "metadata": {},
   "outputs": [
    {
     "name": "stdout",
     "output_type": "stream",
     "text": [
      "   gender  SeniorCitizen  Partner  Dependents  tenure  PhoneService  \\\n",
      "0       0              0        1           0       1             0   \n",
      "1       1              0        0           0      34             1   \n",
      "2       1              0        0           0       2             1   \n",
      "3       1              0        0           0      45             0   \n",
      "4       0              0        0           0       2             1   \n",
      "\n",
      "   MultipleLines InternetService  OnlineSecurity  OnlineBackup  ...  \\\n",
      "0              0             DSL               0             1  ...   \n",
      "1              0             DSL               1             0  ...   \n",
      "2              0             DSL               1             1  ...   \n",
      "3              0             DSL               1             0  ...   \n",
      "4              0     Fiber optic               0             0  ...   \n",
      "\n",
      "   tenure_bin  EstimatedTotalCharges_log  charge_diff  missing_charge_flag  \\\n",
      "0  Short term                   3.429137         0.00                    0   \n",
      "1    Mid term                   7.569051       -46.80                    1   \n",
      "2  Short term                   4.688592         0.45                    0   \n",
      "3    Mid term                   7.551975       -62.75                    1   \n",
      "4  Short term                   4.958640        10.25                    0   \n",
      "\n",
      "  contract_loyalty  contract_length  contract_progress  ServiceCount  \\\n",
      "0                0                1               1.00             1   \n",
      "1                1               12               2.83             3   \n",
      "2                0                1               2.00             3   \n",
      "3                1               12               3.75             3   \n",
      "4                0                1               2.00             1   \n",
      "\n",
      "   charge_tenure_ratio_log high_engagement_loyalty  \n",
      "0                     2.77                       0  \n",
      "1                     0.97                       0  \n",
      "2                     2.94                       0  \n",
      "3                     0.65                       0  \n",
      "4                     3.20                       0  \n",
      "\n",
      "[5 rows x 29 columns]\n"
     ]
    }
   ],
   "source": [
    "from sklearn.preprocessing import LabelEncoder\n",
    "\n",
    "# Label encode binary categorical columns\n",
    "#X_untransformed = dataset.iloc[:, 1:-1].copy()\n",
    "\n",
    "for col in binary_cols:\n",
    "    le = LabelEncoder()\n",
    "    X_untransformed[col] = le.fit_transform(X_untransformed[col])\n",
    "\n",
    "print(X_untransformed.head())  # Show first few rows"
   ]
  },
  {
   "cell_type": "code",
   "execution_count": 34,
   "id": "65d2a05c",
   "metadata": {},
   "outputs": [
    {
     "data": {
      "text/plain": [
       "(7032, 29)"
      ]
     },
     "execution_count": 34,
     "metadata": {},
     "output_type": "execute_result"
    }
   ],
   "source": [
    "X_untransformed.shape"
   ]
  },
  {
   "cell_type": "markdown",
   "id": "44e5da3b",
   "metadata": {},
   "source": [
    "##### 1.3.12.2. Encoding the independent variables with one-hot encoding"
   ]
  },
  {
   "cell_type": "code",
   "execution_count": 35,
   "id": "fa5febef",
   "metadata": {},
   "outputs": [
    {
     "name": "stderr",
     "output_type": "stream",
     "text": [
      "/var/folders/6v/w8nfkj8x66xc_mdtqnhljxq40000gn/T/ipykernel_41117/3051527315.py:7: FutureWarning: DataFrame.applymap has been deprecated. Use DataFrame.map instead.\n",
      "  X_encoded = X_encoded.applymap(lambda val: int(val) if isinstance(val, bool) else val) #  Convert boolean columns (true/false) to int (0/1)\n"
     ]
    }
   ],
   "source": [
    "# One-hot encode multi-class categorical columns while still a DataFrame\n",
    "X_encoded = pd.get_dummies(data=X_untransformed, columns=multi_cat_cols)\n",
    "\n",
    "feature_names = X_encoded.columns  # save column names\n",
    "\n",
    "# Now convert to NumPy array before feeding into model\n",
    "X_encoded = X_encoded.applymap(lambda val: int(val) if isinstance(val, bool) else val) #  Convert boolean columns (true/false) to int (0/1)"
   ]
  },
  {
   "cell_type": "code",
   "execution_count": 36,
   "id": "103c94cb",
   "metadata": {},
   "outputs": [],
   "source": [
    "X = X_encoded.values # Convert the DataFrame to a NumPy array for model input"
   ]
  },
  {
   "cell_type": "code",
   "execution_count": 37,
   "id": "1c97bf0e",
   "metadata": {},
   "outputs": [
    {
     "name": "stdout",
     "output_type": "stream",
     "text": [
      "[[0. 0. 1. ... 1. 0. 0.]\n",
      " [1. 0. 0. ... 0. 1. 0.]\n",
      " [1. 0. 0. ... 1. 0. 0.]\n",
      " ...\n",
      " [0. 0. 1. ... 1. 0. 0.]\n",
      " [1. 1. 1. ... 1. 0. 0.]\n",
      " [1. 0. 0. ... 0. 0. 1.]]\n"
     ]
    }
   ],
   "source": [
    "print(X)"
   ]
  },
  {
   "cell_type": "code",
   "execution_count": 38,
   "id": "ef3b4dc2",
   "metadata": {},
   "outputs": [
    {
     "data": {
      "text/plain": [
       "(7032, 35)"
      ]
     },
     "execution_count": 38,
     "metadata": {},
     "output_type": "execute_result"
    }
   ],
   "source": [
    "X.shape"
   ]
  },
  {
   "cell_type": "markdown",
   "id": "6edfb797",
   "metadata": {},
   "source": [
    "#### 1.4.4. Encoding the dependent variable vector"
   ]
  },
  {
   "cell_type": "code",
   "execution_count": 39,
   "id": "f48c442f",
   "metadata": {},
   "outputs": [
    {
     "name": "stdout",
     "output_type": "stream",
     "text": [
      "['No' 'No' 'Yes' ... 'No' 'Yes' 'No']\n"
     ]
    }
   ],
   "source": [
    "# Defining the dependent variable vector\n",
    "y = dataset['Churn'].values\n",
    "print(y)"
   ]
  },
  {
   "cell_type": "code",
   "execution_count": 40,
   "id": "e4c014d9",
   "metadata": {},
   "outputs": [
    {
     "name": "stdout",
     "output_type": "stream",
     "text": [
      "[0 0 1 ... 0 1 0]\n"
     ]
    }
   ],
   "source": [
    "y = le.fit_transform(y)\n",
    "\n",
    "print(y)"
   ]
  },
  {
   "cell_type": "markdown",
   "id": "8be3aa77",
   "metadata": {},
   "source": [
    "### 1.4. Feature Selection"
   ]
  },
  {
   "cell_type": "markdown",
   "id": "2fc10425",
   "metadata": {},
   "source": [
    "#### 1.4.1. Filtering"
   ]
  },
  {
   "cell_type": "markdown",
   "id": "cd3f1cec",
   "metadata": {},
   "source": [
    "##### 1.4.1.1. Check Feature Correlations"
   ]
  },
  {
   "cell_type": "code",
   "execution_count": 41,
   "id": "2af2d175",
   "metadata": {},
   "outputs": [],
   "source": [
    "# Convert back to dataframe\n",
    "X_clean = pd.DataFrame(X, columns=feature_names)\n",
    "\n",
    "# Add Churn\n",
    "X_clean['Churn'] = y"
   ]
  },
  {
   "cell_type": "code",
   "execution_count": 42,
   "id": "a952da51",
   "metadata": {},
   "outputs": [
    {
     "name": "stdout",
     "output_type": "stream",
     "text": [
      "Churn                          1.000000\n",
      "charge_tenure_ratio_log        0.475048\n",
      "Contract_Month-to-month        0.404565\n",
      "tenure_bin_Short term          0.319816\n",
      "InternetService_Fiber optic    0.307463\n",
      "MonthlyCharges_log             0.209690\n",
      "PaperlessBilling               0.191454\n",
      "SeniorCitizen                  0.150541\n",
      "StreamingTV                    0.063254\n",
      "contract_progress              0.062205\n",
      "StreamingMovies                0.060860\n",
      "MultipleLines                  0.040033\n",
      "PhoneService                   0.011691\n",
      "charge_diff                    0.000305\n",
      "gender                        -0.008545\n",
      "tenure_bin_Mid term           -0.041064\n",
      "DeviceProtection              -0.066193\n",
      "missing_charge_flag           -0.067358\n",
      "ServiceCount                  -0.067459\n",
      "OnlineBackup                  -0.082307\n",
      "PaymentMethod                 -0.090773\n",
      "InternetService_DSL           -0.124141\n",
      "Partner                       -0.149982\n",
      "Dependents                    -0.163128\n",
      "TechSupport                   -0.164716\n",
      "OnlineSecurity                -0.171270\n",
      "Contract_One year             -0.178225\n",
      "high_engagement_loyalty       -0.198517\n",
      "tenure_bin_Long term          -0.215958\n",
      "InternetService_No            -0.227578\n",
      "EstimatedTotalCharges_log     -0.241726\n",
      "TotalCharges_log              -0.241908\n",
      "Contract_Two year             -0.301552\n",
      "tenure                        -0.354049\n",
      "contract_loyalty              -0.384408\n",
      "contract_length               -0.393888\n",
      "Name: Churn, dtype: float64\n"
     ]
    }
   ],
   "source": [
    "# Select only numeric columns\n",
    "\n",
    "X_clean = X_clean.select_dtypes(include='number')\n",
    "\n",
    "# Compute correlataion\n",
    "correlations = X_clean.corr()['Churn'].sort_values(ascending=False)\n",
    "print(correlations)"
   ]
  },
  {
   "cell_type": "markdown",
   "id": "74a6bd01",
   "metadata": {},
   "source": [
    "##### Observation:\n",
    "\n",
    "##### Top correlated features with Churn\n",
    "These features have the strongest positive correlation with churn. The customers with higher values here are more likely to chrun\n",
    "| Feature                       | Correlation with Churn |\n",
    "| ----------------------------- | ---------------------- |\n",
    "| `charge_tenure_ratio_log`     | **+0.475**             |\n",
    "| `Contract_Month-to-month`     | **+0.405**             |\n",
    "| `tenure_bin_Short term`       | **+0.320**             |\n",
    "| `InternetService_Fiber optic` | **+0.307**             |\n",
    "| `MonthlyCharges_log`          | **+0.210**             |\n",
    "\n",
    "\n",
    "- Customers on month-to-month plans,\n",
    "- With short tenure,\n",
    "- Using fiber optip internet,\n",
    "- and paying higher charges are more likely to churn\n",
    "\n",
    "#### Negatively Correlated Features\n",
    "These features reduce the likelihood of churn.\n",
    "| Feature             | Correlation |\n",
    "| ------------------- | ----------- |\n",
    "| `contract_length`   | **-0.394**  |\n",
    "| `contract_loyalty`  | **-0.384**  |\n",
    "| `tenure`            | **-0.354**  |\n",
    "| `Contract_Two year` | **-0.302**  |\n",
    "| `TotalCharges_log`  | **-0.242**  |\n",
    "\n",
    "-Customers with longer tenure and longer contracts tend to stay.\n",
    "\n",
    "##### What to Do With This\n",
    "1. Feature Selection: Focus on top correlated features (±0.2 and above) when training your model.\n",
    "2. Model Insight: Use this to explain why your model makes certain predictions.\n",
    "3. Business Action: For churn reduction:\n",
    "\n",
    "    - Encourage longer contracts.\n",
    "    - Target short-tenure, fiber users for retention.\n",
    "\n"
   ]
  },
  {
   "cell_type": "markdown",
   "id": "6b47d81e",
   "metadata": {},
   "source": [
    "##### 1.4.1.2. Dropping low-correalation features\n",
    "\n",
    "To help reduce overfitting and improve model performance"
   ]
  },
  {
   "cell_type": "code",
   "execution_count": 43,
   "id": "d150c1bc",
   "metadata": {},
   "outputs": [],
   "source": [
    "# Filter features based on a correlation threshold\n",
    "\n",
    "threshold = 0.1\n",
    "selected_features = correlations[abs(correlations) >= threshold].index.tolist()\n",
    "\n",
    "if 'Churn' in selected_features:\n",
    "    selected_features.remove('Churn')\n",
    "\n",
    "selected_features\n",
    "\n",
    "# Store selected features in a new feature matrix\n",
    "X_selected = X_clean[selected_features]"
   ]
  },
  {
   "cell_type": "code",
   "execution_count": 44,
   "id": "76795608",
   "metadata": {},
   "outputs": [
    {
     "data": {
      "text/plain": [
       "pandas.core.frame.DataFrame"
      ]
     },
     "execution_count": 44,
     "metadata": {},
     "output_type": "execute_result"
    }
   ],
   "source": [
    "type(X_selected)"
   ]
  },
  {
   "cell_type": "markdown",
   "id": "349c9f25",
   "metadata": {},
   "source": [
    "High correlations (|r| > 0.8 or 0.9) between features may indicate multicollinearity, which can hurt linear models like logistic regression.\n",
    "\n",
    "- TotalCharges_log and EstimatedTotalCharges_log have near-perfect correlation.\n",
    "- contract_loyalty, contract_length, and Contract_Two year also show high correlation.\n",
    "- tenure and tenure_bin_Long term are closely correlated.\n"
   ]
  },
  {
   "cell_type": "markdown",
   "id": "eb1bde5d",
   "metadata": {},
   "source": [
    "##### 1.4.1.3. Checking for Multicollinearity With Variance Inflation Factor (VIF)"
   ]
  },
  {
   "cell_type": "code",
   "execution_count": 45,
   "id": "195541db",
   "metadata": {},
   "outputs": [
    {
     "name": "stderr",
     "output_type": "stream",
     "text": [
      "/Users/eseoseodion/Documents/Portfolio/Customer Churn Prediction/.venv/lib/python3.12/site-packages/statsmodels/stats/outliers_influence.py:197: RuntimeWarning: divide by zero encountered in scalar divide\n",
      "  vif = 1. / (1. - r_squared_i)\n"
     ]
    },
    {
     "name": "stdout",
     "output_type": "stream",
     "text": [
      "                        feature          VIF\n",
      "0       charge_tenure_ratio_log    85.771745\n",
      "1       Contract_Month-to-month          inf\n",
      "2         tenure_bin_Short term     4.887556\n",
      "3   InternetService_Fiber optic          inf\n",
      "4            MonthlyCharges_log    91.055418\n",
      "5              PaperlessBilling     1.195247\n",
      "6                 SeniorCitizen     1.145940\n",
      "7           InternetService_DSL          inf\n",
      "8                       Partner     1.465036\n",
      "9                    Dependents     1.381024\n",
      "10                  TechSupport     1.593922\n",
      "11               OnlineSecurity     1.476220\n",
      "12            Contract_One year          inf\n",
      "13      high_engagement_loyalty     3.334725\n",
      "14         tenure_bin_Long term     2.324149\n",
      "15           InternetService_No          inf\n",
      "16    EstimatedTotalCharges_log  1061.229412\n",
      "17             TotalCharges_log   943.454690\n",
      "18            Contract_Two year          inf\n",
      "19                       tenure    10.382758\n",
      "20             contract_loyalty    13.410906\n",
      "21              contract_length          inf\n"
     ]
    }
   ],
   "source": [
    "from statsmodels.stats.outliers_influence import variance_inflation_factor\n",
    "\n",
    "# Compute VIF for each feature\n",
    "\n",
    "vif_data = pd.DataFrame()\n",
    "vif_data['feature'] = X_selected.columns\n",
    "vif_data['VIF'] = [variance_inflation_factor(X_selected.values, i) for i in range(X_selected.shape[1])]\n",
    "\n",
    "print(vif_data)"
   ]
  },
  {
   "cell_type": "markdown",
   "id": "0c627598",
   "metadata": {},
   "source": [
    "##### Observation:\n",
    "**Very high VIF values (≫ 10) for features like**\n",
    "- EstimatedTotalCharges_log (1061+)\n",
    "- TotalCharges_log (943+)\n",
    "- MonthlyCharges_log (91+)\n",
    "- charge_tenure_ratio_log (85+)\n",
    "- contract_loyalty, tenure, contract_length (10–13)\n",
    "\n",
    "**Infinite VIF (inf) - variables that are perfectly collinear with others, e.g.:**\n",
    "- Contract_Month-to-month, InternetService_Fiber optic, Contract_Two year, etc. — likely because they are one-hot encoded categorical variables and all dummy variables have been included (no base category dropped)."
   ]
  },
  {
   "cell_type": "markdown",
   "id": "4908d9a1",
   "metadata": {},
   "source": [
    "##### 1.4.1.3.1.  Solution #1: Dropping one dummy per categorical variable"
   ]
  },
  {
   "cell_type": "markdown",
   "id": "c02e3002",
   "metadata": {},
   "source": [
    "Dropping the most common category\n",
    "\n",
    "- To help the model compare everything to the \"usual\" case. This makes the model interpret other categories in relation to the most common one."
   ]
  },
  {
   "cell_type": "markdown",
   "id": "bfd9aaa1",
   "metadata": {},
   "source": [
    "##### Finding the most common category in each column"
   ]
  },
  {
   "cell_type": "code",
   "execution_count": 46,
   "id": "7c59f7f4",
   "metadata": {},
   "outputs": [],
   "source": [
    "# Replace the most common category with NaN\n",
    "most_common = {\n",
    "    col: X_selected[col].mode()[0]\n",
    "    for col in X_selected.select_dtypes(include='object').columns\n",
    "}"
   ]
  },
  {
   "cell_type": "markdown",
   "id": "dec673d7",
   "metadata": {},
   "source": [
    "##### Replacing the most common category with NaN(so that it is ignored by get_dummies)"
   ]
  },
  {
   "cell_type": "code",
   "execution_count": 47,
   "id": "daf460d3",
   "metadata": {},
   "outputs": [],
   "source": [
    "X_selected_reduced = X_selected.copy()\n",
    "\n",
    "for col, val in most_common.items():\n",
    "    X_selected_reduced[col] = X_selected_reduced[col].replace(val, pd.NA)"
   ]
  },
  {
   "cell_type": "markdown",
   "id": "3ccd6702",
   "metadata": {},
   "source": [
    "##### Create dummy variables (so that the missing category is automatically dropped)"
   ]
  },
  {
   "cell_type": "code",
   "execution_count": 48,
   "id": "d5b7e25a",
   "metadata": {},
   "outputs": [],
   "source": [
    "# Create dummy variables, dropping the first category to avoid multicollinearity\n",
    "X_dummies = pd.get_dummies(X_selected_reduced, drop_first=True)  # <–– KEY CHANGE HERE"
   ]
  },
  {
   "cell_type": "code",
   "execution_count": 49,
   "id": "90ab0e85",
   "metadata": {},
   "outputs": [
    {
     "name": "stdout",
     "output_type": "stream",
     "text": [
      "   charge_tenure_ratio_log  Contract_Month-to-month  tenure_bin_Short term  \\\n",
      "0                     2.77                      1.0                    1.0   \n",
      "1                     0.97                      0.0                    0.0   \n",
      "2                     2.94                      1.0                    1.0   \n",
      "3                     0.65                      0.0                    0.0   \n",
      "4                     3.20                      1.0                    1.0   \n",
      "\n",
      "   InternetService_Fiber optic  MonthlyCharges_log  PaperlessBilling  \\\n",
      "0                          0.0            3.429137               1.0   \n",
      "1                          0.0            4.059581               0.0   \n",
      "2                          0.0            4.004602               1.0   \n",
      "3                          0.0            3.768153               0.0   \n",
      "4                          1.0            4.272491               1.0   \n",
      "\n",
      "   SeniorCitizen  InternetService_DSL  Partner  Dependents  ...  \\\n",
      "0            0.0                  1.0      1.0         0.0  ...   \n",
      "1            0.0                  1.0      0.0         0.0  ...   \n",
      "2            0.0                  1.0      0.0         0.0  ...   \n",
      "3            0.0                  1.0      0.0         0.0  ...   \n",
      "4            0.0                  0.0      0.0         0.0  ...   \n",
      "\n",
      "   Contract_One year  high_engagement_loyalty  tenure_bin_Long term  \\\n",
      "0                0.0                      0.0                   0.0   \n",
      "1                1.0                      0.0                   0.0   \n",
      "2                0.0                      0.0                   0.0   \n",
      "3                1.0                      0.0                   0.0   \n",
      "4                0.0                      0.0                   0.0   \n",
      "\n",
      "   InternetService_No  EstimatedTotalCharges_log  TotalCharges_log  \\\n",
      "0                 0.0                   3.429137          3.429137   \n",
      "1                 0.0                   7.569051          7.544597   \n",
      "2                 0.0                   4.688592          4.692723   \n",
      "3                 0.0                   7.551975          7.518471   \n",
      "4                 0.0                   4.958640          5.028148   \n",
      "\n",
      "   Contract_Two year  tenure  contract_loyalty  contract_length  \n",
      "0                0.0     1.0               0.0              1.0  \n",
      "1                0.0    34.0               1.0             12.0  \n",
      "2                0.0     2.0               0.0              1.0  \n",
      "3                0.0    45.0               1.0             12.0  \n",
      "4                0.0     2.0               0.0              1.0  \n",
      "\n",
      "[5 rows x 22 columns]\n"
     ]
    }
   ],
   "source": [
    "print(X_dummies.head())"
   ]
  },
  {
   "cell_type": "code",
   "execution_count": 50,
   "id": "97423fe2",
   "metadata": {},
   "outputs": [
    {
     "name": "stdout",
     "output_type": "stream",
     "text": [
      "Index(['charge_tenure_ratio_log', 'Contract_Month-to-month',\n",
      "       'tenure_bin_Short term', 'InternetService_Fiber optic',\n",
      "       'MonthlyCharges_log', 'PaperlessBilling', 'SeniorCitizen',\n",
      "       'InternetService_DSL', 'Partner', 'Dependents', 'TechSupport',\n",
      "       'OnlineSecurity', 'Contract_One year', 'high_engagement_loyalty',\n",
      "       'tenure_bin_Long term', 'InternetService_No',\n",
      "       'EstimatedTotalCharges_log', 'TotalCharges_log', 'Contract_Two year',\n",
      "       'tenure', 'contract_loyalty', 'contract_length'],\n",
      "      dtype='object')\n"
     ]
    }
   ],
   "source": [
    "print(X_dummies.columns)"
   ]
  },
  {
   "cell_type": "code",
   "execution_count": 51,
   "id": "e9ea464c",
   "metadata": {},
   "outputs": [],
   "source": [
    "columns_to_remove = ['Contract_Month-to-month',       # most common contract type\n",
    "                     'Contract_One year',\n",
    "                     'Contract_Two year',\n",
    "                     'InternetService_Fiber optic',   # or any of the 3, but preferably the most common\n",
    "]\n",
    "\n",
    "X_dummies = X_dummies.drop(columns=columns_to_remove)"
   ]
  },
  {
   "cell_type": "markdown",
   "id": "d640a17a",
   "metadata": {},
   "source": [
    "##### Checking the VIF"
   ]
  },
  {
   "cell_type": "code",
   "execution_count": 52,
   "id": "41b0528f",
   "metadata": {},
   "outputs": [
    {
     "name": "stdout",
     "output_type": "stream",
     "text": [
      "                      feature           VIF\n",
      "13  EstimatedTotalCharges_log  22429.718404\n",
      "14           TotalCharges_log  19928.662951\n",
      "2          MonthlyCharges_log   3965.943541\n",
      "0     charge_tenure_ratio_log    296.584281\n",
      "15                     tenure     26.713848\n",
      "17            contract_length      9.932986\n",
      "16           contract_loyalty      9.762791\n",
      "1       tenure_bin_Short term      6.529802\n",
      "10    high_engagement_loyalty      3.836243\n",
      "11       tenure_bin_Long term      3.176096\n",
      "12         InternetService_No      2.963750\n",
      "3            PaperlessBilling      2.933514\n",
      "6                     Partner      2.828560\n",
      "8                 TechSupport      2.189659\n",
      "5         InternetService_DSL      2.099920\n",
      "9              OnlineSecurity      2.047500\n",
      "7                  Dependents      1.967304\n",
      "4               SeniorCitizen      1.367310\n"
     ]
    }
   ],
   "source": [
    "from statsmodels.stats.outliers_influence import variance_inflation_factor\n",
    "import pandas as pd\n",
    "\n",
    "# If df_dummies is your cleaned feature matrix:\n",
    "X_vif = pd.DataFrame(X_dummies)\n",
    "\n",
    "# Calculate VIF\n",
    "vif_data = pd.DataFrame()\n",
    "vif_data[\"feature\"] = X_vif.columns\n",
    "vif_data[\"VIF\"] = [variance_inflation_factor(X_vif.values, i) for i in range(X_vif.shape[1])]\n",
    "\n",
    "print(vif_data.sort_values(\"VIF\", ascending=False))"
   ]
  },
  {
   "cell_type": "code",
   "execution_count": 53,
   "id": "6b65f7b8",
   "metadata": {},
   "outputs": [
    {
     "data": {
      "text/plain": [
       "pandas.core.frame.DataFrame"
      ]
     },
     "execution_count": 53,
     "metadata": {},
     "output_type": "execute_result"
    }
   ],
   "source": [
    "type(X_selected)"
   ]
  },
  {
   "cell_type": "markdown",
   "id": "2b7457c9",
   "metadata": {},
   "source": []
  },
  {
   "cell_type": "markdown",
   "id": "9344ace1",
   "metadata": {},
   "source": [
    "##### 1.4.1.3.2. Solution #2: Removing or combining highly correlated features"
   ]
  },
  {
   "cell_type": "code",
   "execution_count": 54,
   "id": "c4dd9e53",
   "metadata": {},
   "outputs": [],
   "source": [
    "X_dummies = X_dummies.drop(columns=[\n",
    "    'EstimatedTotalCharges_log',  # or drop 'TotalCharges_log'\n",
    "    'charge_tenure_ratio_log',    # or drop 'MonthlyCharges_log'\n",
    "    'contract_loyalty'            # optional if keeping contract_length\n",
    "])"
   ]
  },
  {
   "cell_type": "code",
   "execution_count": 55,
   "id": "ed15e450",
   "metadata": {},
   "outputs": [
    {
     "name": "stdout",
     "output_type": "stream",
     "text": [
      "                    feature         VIF\n",
      "12         TotalCharges_log  274.213232\n",
      "1        MonthlyCharges_log  220.215361\n",
      "13                   tenure   26.260308\n",
      "0     tenure_bin_Short term    5.896042\n",
      "14          contract_length    5.357708\n",
      "10     tenure_bin_Long term    3.146590\n",
      "2          PaperlessBilling    2.931843\n",
      "9   high_engagement_loyalty    2.829563\n",
      "5                   Partner    2.825204\n",
      "11       InternetService_No    2.728345\n",
      "7               TechSupport    2.165328\n",
      "4       InternetService_DSL    2.062016\n",
      "8            OnlineSecurity    2.025388\n",
      "6                Dependents    1.966003\n",
      "3             SeniorCitizen    1.366209\n"
     ]
    }
   ],
   "source": [
    "# If df_dummies is your cleaned feature matrix:\n",
    "X_vif = pd.DataFrame(X_dummies)\n",
    "\n",
    "# Calculate VIF\n",
    "vif_data = pd.DataFrame()\n",
    "vif_data[\"feature\"] = X_vif.columns\n",
    "vif_data[\"VIF\"] = [variance_inflation_factor(X_vif.values, i) for i in range(X_vif.shape[1])]\n",
    "\n",
    "print(vif_data.sort_values(\"VIF\", ascending=False))"
   ]
  },
  {
   "cell_type": "markdown",
   "id": "3bda8f82",
   "metadata": {},
   "source": [
    "Dropping TotalCharges because:\n",
    "- It's a derived variable (product of MonthlyCharges × tenure).\n",
    "- It has the highest VIF.\n",
    "- You already have the core components: MonthlyCharges_log and tenure."
   ]
  },
  {
   "cell_type": "code",
   "execution_count": 56,
   "id": "485613ea",
   "metadata": {},
   "outputs": [],
   "source": [
    "X_dummies = X_dummies.drop(columns=['TotalCharges_log'])"
   ]
  },
  {
   "cell_type": "code",
   "execution_count": 57,
   "id": "c290afa7",
   "metadata": {},
   "outputs": [
    {
     "name": "stdout",
     "output_type": "stream",
     "text": [
      "                    feature        VIF\n",
      "12                   tenure  16.907910\n",
      "1        MonthlyCharges_log  13.300648\n",
      "13          contract_length   5.357693\n",
      "0     tenure_bin_Short term   3.361510\n",
      "10     tenure_bin_Long term   3.114426\n",
      "2          PaperlessBilling   2.931814\n",
      "5                   Partner   2.821718\n",
      "9   high_engagement_loyalty   2.754086\n",
      "11       InternetService_No   2.283873\n",
      "7               TechSupport   2.164430\n",
      "8            OnlineSecurity   2.025129\n",
      "4       InternetService_DSL   1.968034\n",
      "6                Dependents   1.965661\n",
      "3             SeniorCitizen   1.366203\n"
     ]
    }
   ],
   "source": [
    "# If df_dummies is your cleaned feature matrix:\n",
    "X_vif = pd.DataFrame(X_dummies)\n",
    "\n",
    "# Calculate VIF\n",
    "vif_data = pd.DataFrame()\n",
    "vif_data[\"feature\"] = X_vif.columns\n",
    "vif_data[\"VIF\"] = [variance_inflation_factor(X_vif.values, i) for i in range(X_vif.shape[1])]\n",
    "\n",
    "print(vif_data.sort_values(\"VIF\", ascending=False))"
   ]
  },
  {
   "cell_type": "code",
   "execution_count": 58,
   "id": "bd6af249",
   "metadata": {},
   "outputs": [],
   "source": [
    "X_features = X_dummies"
   ]
  },
  {
   "cell_type": "code",
   "execution_count": 59,
   "id": "9c700a3d",
   "metadata": {},
   "outputs": [
    {
     "data": {
      "text/plain": [
       "(7032, 14)"
      ]
     },
     "execution_count": 59,
     "metadata": {},
     "output_type": "execute_result"
    }
   ],
   "source": [
    "X_features.shape"
   ]
  },
  {
   "cell_type": "code",
   "execution_count": 60,
   "id": "94944932",
   "metadata": {},
   "outputs": [
    {
     "data": {
      "text/plain": [
       "pandas.core.frame.DataFrame"
      ]
     },
     "execution_count": 60,
     "metadata": {},
     "output_type": "execute_result"
    }
   ],
   "source": [
    "type(X_features)"
   ]
  },
  {
   "cell_type": "code",
   "execution_count": 61,
   "id": "8a468f79",
   "metadata": {},
   "outputs": [
    {
     "data": {
      "text/plain": [
       "tenure_bin_Short term         2\n",
       "MonthlyCharges_log         1584\n",
       "PaperlessBilling              2\n",
       "SeniorCitizen                 2\n",
       "InternetService_DSL           2\n",
       "Partner                       2\n",
       "Dependents                    2\n",
       "TechSupport                   2\n",
       "OnlineSecurity                2\n",
       "high_engagement_loyalty       2\n",
       "tenure_bin_Long term          2\n",
       "InternetService_No            2\n",
       "tenure                       72\n",
       "contract_length               3\n",
       "dtype: int64"
      ]
     },
     "execution_count": 61,
     "metadata": {},
     "output_type": "execute_result"
    }
   ],
   "source": [
    "X_features.nunique()"
   ]
  },
  {
   "cell_type": "code",
   "execution_count": 62,
   "id": "6ac74fc9",
   "metadata": {},
   "outputs": [],
   "source": [
    "# Convert to a numpy array \n",
    "X_array = X_features.values "
   ]
  },
  {
   "cell_type": "markdown",
   "id": "7f296de8",
   "metadata": {},
   "source": [
    "### 1.5. Splitting the dataset into training and testing"
   ]
  },
  {
   "cell_type": "code",
   "execution_count": 63,
   "id": "52261026",
   "metadata": {},
   "outputs": [],
   "source": [
    "from sklearn.model_selection import train_test_split\n",
    "\n",
    "X_train, X_test, y_train, y_test = train_test_split(X_array, y, stratify=y, test_size=0.3, random_state=42)"
   ]
  },
  {
   "cell_type": "markdown",
   "id": "f17a4553",
   "metadata": {},
   "source": [
    "### 1.6. Using the SMOTE (Synthetic Minority Oversampling Technique) To handle imbalanced classes"
   ]
  },
  {
   "cell_type": "code",
   "execution_count": 64,
   "id": "ea3715f8",
   "metadata": {},
   "outputs": [],
   "source": [
    "from imblearn.over_sampling import SMOTE\n",
    "\n",
    "smote = SMOTE(random_state=42)\n",
    "X_train_resampled, y_train_resampled = smote.fit_resample(X_train, y_train)"
   ]
  },
  {
   "cell_type": "markdown",
   "id": "b5bf97a9",
   "metadata": {},
   "source": [
    "This is a mild to moderate imbalance (not extreme like 95:5), so both oversampling and undersampling are viable options — but each has trade-offs.\n",
    "\n",
    "\n",
    "Your dataset is not huge → oversampling won’t be too slow\n",
    "Minority class is still decently sized (1869) → SMOTE can create diverse synthetic samples\n",
    "Undersampling would discard too much useful data (removing from 5174 to ~1869)\n",
    "\n",
    "Why I Didn't Use Undersampling (alone)?\n",
    "\n",
    "The dataset is mild to moderately imbalanced for the target variable, so both oversampling and undersampling would've been viable options. However, there was a high likelihood that a lot of the the majority class would've been thrown away, which would've have created a risk of underfitting and poor generalization.\n",
    "\n",
    "\n",
    "##### From EDA\n",
    "During evaluation, use metrics that handle the imbalance; use precision, recall, f1-score, auc-roc, and confusion matrices. Avoid only using accuracy\n",
    "\n",
    "Consider implementing ensemble methods like RandomForest or XGBoost; these perform better on imbalanced datasets.\n",
    "\n",
    "Possibly use other models or algorithms that handle imbalance better (like class_weight='balanced' in logistic regression, decision trees, etc.).\n",
    "\n"
   ]
  },
  {
   "cell_type": "code",
   "execution_count": 65,
   "id": "d3ae2411",
   "metadata": {},
   "outputs": [
    {
     "name": "stdout",
     "output_type": "stream",
     "text": [
      "Counter({np.int64(1): 3614, np.int64(0): 3614})\n"
     ]
    }
   ],
   "source": [
    "# Optional: Check class distribution after resampling\n",
    "\n",
    "from collections import Counter\n",
    "print(Counter(y_train_resampled))"
   ]
  },
  {
   "cell_type": "code",
   "execution_count": 66,
   "id": "fe0dd483",
   "metadata": {},
   "outputs": [
    {
     "name": "stdout",
     "output_type": "stream",
     "text": [
      "[[ 0.          4.37323813  1.         ...  0.         12.\n",
      "   1.        ]\n",
      " [ 0.          3.0301337   1.         ...  1.         20.\n",
      "  12.        ]\n",
      " [ 1.          4.130355    1.         ...  0.          2.\n",
      "   1.        ]\n",
      " ...\n",
      " [ 0.          4.65085203  0.70573326 ...  0.         70.70573326\n",
      "  24.        ]\n",
      " [ 1.          3.05561428  0.         ...  1.          1.\n",
      "   1.        ]\n",
      " [ 1.          3.27502663  0.         ...  0.          1.\n",
      "   1.        ]]\n"
     ]
    }
   ],
   "source": [
    "print(X_train_resampled)"
   ]
  },
  {
   "cell_type": "code",
   "execution_count": 67,
   "id": "647ce4d2",
   "metadata": {},
   "outputs": [
    {
     "name": "stdout",
     "output_type": "stream",
     "text": [
      "[[ 1.          3.01062089  0.         ...  1.          1.\n",
      "   1.        ]\n",
      " [ 1.          3.84267293  0.         ...  0.          6.\n",
      "   1.        ]\n",
      " [ 0.          4.70682384  1.         ...  0.         71.\n",
      "  24.        ]\n",
      " ...\n",
      " [ 0.          4.52233191  0.         ...  0.         32.\n",
      "   1.        ]\n",
      " [ 0.          3.0301337   0.         ...  1.         24.\n",
      "  24.        ]\n",
      " [ 0.          4.55282371  1.         ...  0.         45.\n",
      "   1.        ]]\n"
     ]
    }
   ],
   "source": [
    "print(X_test)"
   ]
  },
  {
   "cell_type": "code",
   "execution_count": 68,
   "id": "422e6251",
   "metadata": {},
   "outputs": [
    {
     "name": "stdout",
     "output_type": "stream",
     "text": [
      "[1 0 0 ... 1 1 1]\n"
     ]
    }
   ],
   "source": [
    "print(y_train_resampled)"
   ]
  },
  {
   "cell_type": "code",
   "execution_count": 69,
   "id": "92e505f7",
   "metadata": {},
   "outputs": [
    {
     "name": "stdout",
     "output_type": "stream",
     "text": [
      "[0 0 0 ... 0 0 0]\n"
     ]
    }
   ],
   "source": [
    "print(y_test)"
   ]
  },
  {
   "cell_type": "code",
   "execution_count": 70,
   "id": "f0fc5378",
   "metadata": {},
   "outputs": [
    {
     "data": {
      "text/plain": [
       "['y_test.pkl']"
      ]
     },
     "execution_count": 70,
     "metadata": {},
     "output_type": "execute_result"
    }
   ],
   "source": [
    "import joblib\n",
    "\n",
    "# Save train-test data\n",
    "joblib.dump(X_train_resampled, 'X_train.pkl')\n",
    "joblib.dump(X_test, 'X_test.pkl')\n",
    "joblib.dump(y_train_resampled, 'y_train.pkl')\n",
    "joblib.dump(y_test, 'y_test.pkl')\n"
   ]
  },
  {
   "cell_type": "code",
   "execution_count": 71,
   "id": "86666890",
   "metadata": {},
   "outputs": [],
   "source": [
    "# Save original copies\n",
    "\n",
    "X_train_original = X_train_resampled.copy()\n",
    "X_test_original = X_test.copy()\n",
    "y_train_original = y_train_resampled.copy()\n",
    "y_test_original = y_test.copy()"
   ]
  },
  {
   "cell_type": "markdown",
   "id": "4d280196",
   "metadata": {},
   "source": [
    "### 1.7. Feature Scaling"
   ]
  },
  {
   "cell_type": "code",
   "execution_count": 72,
   "id": "7c30e6a3",
   "metadata": {},
   "outputs": [
    {
     "data": {
      "image/png": "[encoded data removed]",
      "text/plain": [
       "<Figure size 300x200 with 1 Axes>"
      ]
     },
     "metadata": {},
     "output_type": "display_data"
    },
    {
     "data": {
      "image/png": "[encoded data removed]",
      "text/plain": [
       "<Figure size 300x200 with 1 Axes>"
      ]
     },
     "metadata": {},
     "output_type": "display_data"
    }
   ],
   "source": [
    "continuous_cols = ['tenure', 'MonthlyCharges_log']\n",
    "\n",
    "for col in continuous_cols:\n",
    "    plt.figure(figsize=(3, 2))\n",
    "    sns.histplot(X_features[col], kde=True)\n",
    "    plt.title(f\"Distribution of {col}\")\n",
    "    plt.show()"
   ]
  },
  {
   "cell_type": "markdown",
   "id": "3c57d2f3",
   "metadata": {},
   "source": [
    "**Shape of the tenure distribution:** \n",
    "- The plot is U-shaped or bimodal: there are many customers with either very low or very high tenure.\n",
    "- The distribution is not normal and contains outliers (in the sense of skewness or heavy tails).\n",
    "\n",
    "Implication for scaling:\n",
    "**Shape of the MonthlyCharges_log distribution:** \n",
    "\n",
    "- It’s not perfectly symmetrical.\n",
    "- It shows some skewness and multiple peaks.\n",
    "- There's a noticeable dip in the middle (i.e., bimodal or multimodal distribution).\n",
    "- After log transformation, this variable has a more symmetric but still somewhat multimodal distribution.\n",
    "- The log helped reduce skewness, making the data look more normalized."
   ]
  },
  {
   "cell_type": "code",
   "execution_count": 73,
   "id": "aa4e66c4",
   "metadata": {},
   "outputs": [],
   "source": [
    "# Reset before new model\n",
    "\n",
    "X_train = X_train_original.copy()\n",
    "X_test = X_test_original.copy()\n",
    "y_train = y_train_original.copy()\n",
    "y_test = y_test_original.copy()"
   ]
  },
  {
   "cell_type": "code",
   "execution_count": 74,
   "id": "5e6c58c6",
   "metadata": {},
   "outputs": [],
   "source": [
    "from sklearn.preprocessing import RobustScaler\n",
    "\n",
    "scaler = RobustScaler()\n",
    "X_train = scaler.fit_transform(X_train)\n",
    "X_test = scaler.transform(X_test)"
   ]
  },
  {
   "cell_type": "code",
   "execution_count": 75,
   "id": "8629b223",
   "metadata": {},
   "outputs": [
    {
     "data": {
      "text/plain": [
       "['scaler.pkl']"
      ]
     },
     "execution_count": 75,
     "metadata": {},
     "output_type": "execute_result"
    }
   ],
   "source": [
    "import joblib\n",
    "\n",
    "# --- Save scaled data ---\n",
    "joblib.dump(scaler, 'scaler.pkl')  # in modelling.ipynb"
   ]
  },
  {
   "cell_type": "markdown",
   "id": "e5ce0908",
   "metadata": {},
   "source": [
    "I decided to use RobustScaler because it handles skewed or non-Gaussian data and is resistant to outliers."
   ]
  },
  {
   "cell_type": "markdown",
   "id": "0be3208c",
   "metadata": {},
   "source": [
    "## 2. Modelling"
   ]
  },
  {
   "cell_type": "markdown",
   "id": "b2fd4c27",
   "metadata": {},
   "source": [
    "Preserving the original data when testing the multiple models so that data leakage, transformation effects, or accidental mutations don’t interfere with the comparisons."
   ]
  },
  {
   "cell_type": "markdown",
   "id": "65045cce",
   "metadata": {},
   "source": [
    "Before training a new model, reset working variables:"
   ]
  },
  {
   "cell_type": "markdown",
   "id": "7cab924e",
   "metadata": {},
   "source": [
    "#### 2.1. Building A Reusable Pipeline"
   ]
  },
  {
   "cell_type": "code",
   "execution_count": 76,
   "id": "b5730289",
   "metadata": {},
   "outputs": [
    {
     "name": "stderr",
     "output_type": "stream",
     "text": [
      "/Users/eseoseodion/Documents/Portfolio/Customer Churn Prediction/.venv/lib/python3.12/site-packages/sklearn/linear_model/_logistic.py:465: ConvergenceWarning: lbfgs failed to converge (status=1):\n",
      "STOP: TOTAL NO. OF ITERATIONS REACHED LIMIT.\n",
      "\n",
      "Increase the number of iterations (max_iter) or scale the data as shown in:\n",
      "    https://scikit-learn.org/stable/modules/preprocessing.html\n",
      "Please also refer to the documentation for alternative solver options:\n",
      "    https://scikit-learn.org/stable/modules/linear_model.html#logistic-regression\n",
      "  n_iter_i = _check_optimize_result(\n"
     ]
    },
    {
     "name": "stdout",
     "output_type": "stream",
     "text": [
      "Learning rate set to 0.023974\n",
      "0:\tlearn: 0.6796172\ttotal: 57ms\tremaining: 56.9s\n",
      "1:\tlearn: 0.6684468\ttotal: 59.4ms\tremaining: 29.6s\n",
      "2:\tlearn: 0.6569509\ttotal: 61.7ms\tremaining: 20.5s\n",
      "3:\tlearn: 0.6463526\ttotal: 64ms\tremaining: 15.9s\n",
      "4:\tlearn: 0.6347305\ttotal: 66.9ms\tremaining: 13.3s\n",
      "5:\tlearn: 0.6243357\ttotal: 69.9ms\tremaining: 11.6s\n",
      "6:\tlearn: 0.6138311\ttotal: 72.6ms\tremaining: 10.3s\n",
      "7:\tlearn: 0.6047592\ttotal: 75.6ms\tremaining: 9.37s\n",
      "8:\tlearn: 0.5958261\ttotal: 78.2ms\tremaining: 8.61s\n",
      "9:\tlearn: 0.5874491\ttotal: 80.7ms\tremaining: 7.99s\n",
      "10:\tlearn: 0.5789963\ttotal: 83.5ms\tremaining: 7.5s\n",
      "11:\tlearn: 0.5703034\ttotal: 85.9ms\tremaining: 7.07s\n",
      "12:\tlearn: 0.5630031\ttotal: 88.4ms\tremaining: 6.71s\n",
      "13:\tlearn: 0.5560578\ttotal: 90.8ms\tremaining: 6.4s\n",
      "14:\tlearn: 0.5503434\ttotal: 93.4ms\tremaining: 6.13s\n",
      "15:\tlearn: 0.5441389\ttotal: 95.9ms\tremaining: 5.9s\n",
      "16:\tlearn: 0.5379503\ttotal: 98.6ms\tremaining: 5.7s\n",
      "17:\tlearn: 0.5320493\ttotal: 101ms\tremaining: 5.51s\n",
      "18:\tlearn: 0.5259699\ttotal: 103ms\tremaining: 5.33s\n",
      "19:\tlearn: 0.5202705\ttotal: 106ms\tremaining: 5.18s\n",
      "20:\tlearn: 0.5158185\ttotal: 108ms\tremaining: 5.04s\n",
      "21:\tlearn: 0.5112237\ttotal: 111ms\tremaining: 4.92s\n",
      "22:\tlearn: 0.5071222\ttotal: 113ms\tremaining: 4.82s\n",
      "23:\tlearn: 0.5031876\ttotal: 116ms\tremaining: 4.71s\n",
      "24:\tlearn: 0.4987212\ttotal: 118ms\tremaining: 4.62s\n",
      "25:\tlearn: 0.4941287\ttotal: 121ms\tremaining: 4.52s\n",
      "26:\tlearn: 0.4900882\ttotal: 123ms\tremaining: 4.44s\n",
      "27:\tlearn: 0.4851049\ttotal: 126ms\tremaining: 4.36s\n",
      "28:\tlearn: 0.4813597\ttotal: 128ms\tremaining: 4.28s\n",
      "29:\tlearn: 0.4778272\ttotal: 130ms\tremaining: 4.2s\n",
      "30:\tlearn: 0.4738424\ttotal: 132ms\tremaining: 4.12s\n",
      "31:\tlearn: 0.4706933\ttotal: 134ms\tremaining: 4.05s\n",
      "32:\tlearn: 0.4679960\ttotal: 136ms\tremaining: 3.98s\n",
      "33:\tlearn: 0.4653426\ttotal: 138ms\tremaining: 3.92s\n",
      "34:\tlearn: 0.4627880\ttotal: 140ms\tremaining: 3.86s\n",
      "35:\tlearn: 0.4592221\ttotal: 142ms\tremaining: 3.81s\n",
      "36:\tlearn: 0.4561842\ttotal: 144ms\tremaining: 3.75s\n",
      "37:\tlearn: 0.4536540\ttotal: 146ms\tremaining: 3.7s\n",
      "38:\tlearn: 0.4508309\ttotal: 148ms\tremaining: 3.65s\n",
      "39:\tlearn: 0.4478883\ttotal: 150ms\tremaining: 3.6s\n",
      "40:\tlearn: 0.4454706\ttotal: 152ms\tremaining: 3.56s\n",
      "41:\tlearn: 0.4433186\ttotal: 154ms\tremaining: 3.52s\n",
      "42:\tlearn: 0.4408028\ttotal: 157ms\tremaining: 3.48s\n",
      "43:\tlearn: 0.4385407\ttotal: 159ms\tremaining: 3.45s\n",
      "44:\tlearn: 0.4365144\ttotal: 161ms\tremaining: 3.41s\n",
      "45:\tlearn: 0.4340530\ttotal: 163ms\tremaining: 3.38s\n",
      "46:\tlearn: 0.4318777\ttotal: 165ms\tremaining: 3.34s\n",
      "47:\tlearn: 0.4298296\ttotal: 167ms\tremaining: 3.31s\n",
      "48:\tlearn: 0.4280798\ttotal: 169ms\tremaining: 3.28s\n",
      "49:\tlearn: 0.4263064\ttotal: 171ms\tremaining: 3.25s\n",
      "50:\tlearn: 0.4241927\ttotal: 173ms\tremaining: 3.22s\n",
      "51:\tlearn: 0.4225129\ttotal: 175ms\tremaining: 3.2s\n",
      "52:\tlearn: 0.4204950\ttotal: 178ms\tremaining: 3.17s\n",
      "53:\tlearn: 0.4179689\ttotal: 180ms\tremaining: 3.15s\n",
      "54:\tlearn: 0.4164387\ttotal: 182ms\tremaining: 3.12s\n",
      "55:\tlearn: 0.4143971\ttotal: 184ms\tremaining: 3.1s\n",
      "56:\tlearn: 0.4129483\ttotal: 186ms\tremaining: 3.08s\n",
      "57:\tlearn: 0.4115294\ttotal: 188ms\tremaining: 3.05s\n",
      "58:\tlearn: 0.4099735\ttotal: 190ms\tremaining: 3.04s\n",
      "59:\tlearn: 0.4086307\ttotal: 193ms\tremaining: 3.02s\n",
      "60:\tlearn: 0.4076418\ttotal: 195ms\tremaining: 3s\n",
      "61:\tlearn: 0.4065212\ttotal: 197ms\tremaining: 2.98s\n",
      "62:\tlearn: 0.4054966\ttotal: 199ms\tremaining: 2.96s\n",
      "63:\tlearn: 0.4039978\ttotal: 202ms\tremaining: 2.95s\n",
      "64:\tlearn: 0.4028241\ttotal: 205ms\tremaining: 2.95s\n",
      "65:\tlearn: 0.4017030\ttotal: 207ms\tremaining: 2.94s\n",
      "66:\tlearn: 0.4007222\ttotal: 210ms\tremaining: 2.92s\n",
      "67:\tlearn: 0.3999030\ttotal: 212ms\tremaining: 2.91s\n",
      "68:\tlearn: 0.3991447\ttotal: 214ms\tremaining: 2.89s\n",
      "69:\tlearn: 0.3981056\ttotal: 216ms\tremaining: 2.88s\n",
      "70:\tlearn: 0.3973595\ttotal: 219ms\tremaining: 2.86s\n",
      "71:\tlearn: 0.3961995\ttotal: 221ms\tremaining: 2.85s\n",
      "72:\tlearn: 0.3948008\ttotal: 224ms\tremaining: 2.85s\n",
      "73:\tlearn: 0.3938998\ttotal: 227ms\tremaining: 2.84s\n",
      "74:\tlearn: 0.3926801\ttotal: 230ms\tremaining: 2.84s\n",
      "75:\tlearn: 0.3921242\ttotal: 233ms\tremaining: 2.83s\n",
      "76:\tlearn: 0.3914617\ttotal: 235ms\tremaining: 2.82s\n",
      "77:\tlearn: 0.3903184\ttotal: 238ms\tremaining: 2.81s\n",
      "78:\tlearn: 0.3895827\ttotal: 240ms\tremaining: 2.8s\n",
      "79:\tlearn: 0.3888413\ttotal: 242ms\tremaining: 2.78s\n",
      "80:\tlearn: 0.3878954\ttotal: 244ms\tremaining: 2.77s\n",
      "81:\tlearn: 0.3873071\ttotal: 247ms\tremaining: 2.76s\n",
      "82:\tlearn: 0.3857920\ttotal: 249ms\tremaining: 2.75s\n",
      "83:\tlearn: 0.3848267\ttotal: 251ms\tremaining: 2.74s\n",
      "84:\tlearn: 0.3843414\ttotal: 254ms\tremaining: 2.73s\n",
      "85:\tlearn: 0.3836132\ttotal: 256ms\tremaining: 2.72s\n",
      "86:\tlearn: 0.3829621\ttotal: 258ms\tremaining: 2.71s\n",
      "87:\tlearn: 0.3822265\ttotal: 261ms\tremaining: 2.7s\n",
      "88:\tlearn: 0.3811843\ttotal: 263ms\tremaining: 2.69s\n",
      "89:\tlearn: 0.3807364\ttotal: 265ms\tremaining: 2.68s\n",
      "90:\tlearn: 0.3795423\ttotal: 267ms\tremaining: 2.67s\n",
      "91:\tlearn: 0.3790652\ttotal: 269ms\tremaining: 2.66s\n",
      "92:\tlearn: 0.3784606\ttotal: 271ms\tremaining: 2.65s\n",
      "93:\tlearn: 0.3776501\ttotal: 273ms\tremaining: 2.63s\n",
      "94:\tlearn: 0.3773162\ttotal: 275ms\tremaining: 2.62s\n",
      "95:\tlearn: 0.3767392\ttotal: 277ms\tremaining: 2.61s\n",
      "96:\tlearn: 0.3760076\ttotal: 279ms\tremaining: 2.6s\n",
      "97:\tlearn: 0.3755872\ttotal: 281ms\tremaining: 2.59s\n",
      "98:\tlearn: 0.3752016\ttotal: 284ms\tremaining: 2.58s\n",
      "99:\tlearn: 0.3747549\ttotal: 286ms\tremaining: 2.57s\n",
      "100:\tlearn: 0.3744452\ttotal: 288ms\tremaining: 2.56s\n",
      "101:\tlearn: 0.3740550\ttotal: 290ms\tremaining: 2.55s\n",
      "102:\tlearn: 0.3734922\ttotal: 292ms\tremaining: 2.54s\n",
      "103:\tlearn: 0.3726441\ttotal: 294ms\tremaining: 2.54s\n",
      "104:\tlearn: 0.3722706\ttotal: 297ms\tremaining: 2.53s\n",
      "105:\tlearn: 0.3717159\ttotal: 299ms\tremaining: 2.52s\n",
      "106:\tlearn: 0.3713201\ttotal: 301ms\tremaining: 2.52s\n",
      "107:\tlearn: 0.3709257\ttotal: 304ms\tremaining: 2.51s\n",
      "108:\tlearn: 0.3705210\ttotal: 306ms\tremaining: 2.5s\n",
      "109:\tlearn: 0.3700518\ttotal: 309ms\tremaining: 2.5s\n",
      "110:\tlearn: 0.3694754\ttotal: 311ms\tremaining: 2.49s\n",
      "111:\tlearn: 0.3692402\ttotal: 313ms\tremaining: 2.48s\n",
      "112:\tlearn: 0.3686691\ttotal: 315ms\tremaining: 2.48s\n",
      "113:\tlearn: 0.3682201\ttotal: 317ms\tremaining: 2.47s\n",
      "114:\tlearn: 0.3675610\ttotal: 319ms\tremaining: 2.46s\n",
      "115:\tlearn: 0.3665618\ttotal: 321ms\tremaining: 2.45s\n",
      "116:\tlearn: 0.3661059\ttotal: 324ms\tremaining: 2.44s\n",
      "117:\tlearn: 0.3654502\ttotal: 326ms\tremaining: 2.44s\n",
      "118:\tlearn: 0.3650933\ttotal: 329ms\tremaining: 2.43s\n",
      "119:\tlearn: 0.3647305\ttotal: 331ms\tremaining: 2.43s\n",
      "120:\tlearn: 0.3642643\ttotal: 333ms\tremaining: 2.42s\n",
      "121:\tlearn: 0.3638098\ttotal: 335ms\tremaining: 2.41s\n",
      "122:\tlearn: 0.3635252\ttotal: 337ms\tremaining: 2.4s\n",
      "123:\tlearn: 0.3632503\ttotal: 339ms\tremaining: 2.4s\n",
      "124:\tlearn: 0.3628770\ttotal: 342ms\tremaining: 2.39s\n",
      "125:\tlearn: 0.3625160\ttotal: 344ms\tremaining: 2.38s\n",
      "126:\tlearn: 0.3621422\ttotal: 346ms\tremaining: 2.38s\n",
      "127:\tlearn: 0.3618943\ttotal: 348ms\tremaining: 2.37s\n",
      "128:\tlearn: 0.3614579\ttotal: 351ms\tremaining: 2.37s\n",
      "129:\tlearn: 0.3611555\ttotal: 353ms\tremaining: 2.36s\n",
      "130:\tlearn: 0.3603445\ttotal: 355ms\tremaining: 2.35s\n",
      "131:\tlearn: 0.3599560\ttotal: 357ms\tremaining: 2.35s\n",
      "132:\tlearn: 0.3595924\ttotal: 359ms\tremaining: 2.34s\n",
      "133:\tlearn: 0.3592683\ttotal: 361ms\tremaining: 2.33s\n",
      "134:\tlearn: 0.3589776\ttotal: 363ms\tremaining: 2.32s\n",
      "135:\tlearn: 0.3585268\ttotal: 365ms\tremaining: 2.32s\n",
      "136:\tlearn: 0.3582362\ttotal: 367ms\tremaining: 2.31s\n",
      "137:\tlearn: 0.3579387\ttotal: 368ms\tremaining: 2.3s\n",
      "138:\tlearn: 0.3573003\ttotal: 370ms\tremaining: 2.29s\n",
      "139:\tlearn: 0.3569720\ttotal: 373ms\tremaining: 2.29s\n",
      "140:\tlearn: 0.3564136\ttotal: 375ms\tremaining: 2.28s\n",
      "141:\tlearn: 0.3560359\ttotal: 378ms\tremaining: 2.29s\n",
      "142:\tlearn: 0.3558522\ttotal: 381ms\tremaining: 2.28s\n",
      "143:\tlearn: 0.3550965\ttotal: 383ms\tremaining: 2.28s\n",
      "144:\tlearn: 0.3548951\ttotal: 385ms\tremaining: 2.27s\n",
      "145:\tlearn: 0.3544957\ttotal: 387ms\tremaining: 2.26s\n",
      "146:\tlearn: 0.3537909\ttotal: 389ms\tremaining: 2.26s\n",
      "147:\tlearn: 0.3536021\ttotal: 391ms\tremaining: 2.25s\n",
      "148:\tlearn: 0.3533269\ttotal: 394ms\tremaining: 2.25s\n",
      "149:\tlearn: 0.3530074\ttotal: 397ms\tremaining: 2.25s\n",
      "150:\tlearn: 0.3526792\ttotal: 399ms\tremaining: 2.24s\n",
      "151:\tlearn: 0.3525156\ttotal: 400ms\tremaining: 2.23s\n",
      "152:\tlearn: 0.3523101\ttotal: 402ms\tremaining: 2.23s\n",
      "153:\tlearn: 0.3517836\ttotal: 404ms\tremaining: 2.22s\n",
      "154:\tlearn: 0.3513848\ttotal: 406ms\tremaining: 2.21s\n",
      "155:\tlearn: 0.3511119\ttotal: 408ms\tremaining: 2.21s\n",
      "156:\tlearn: 0.3509190\ttotal: 410ms\tremaining: 2.2s\n",
      "157:\tlearn: 0.3507952\ttotal: 412ms\tremaining: 2.2s\n",
      "158:\tlearn: 0.3502743\ttotal: 414ms\tremaining: 2.19s\n",
      "159:\tlearn: 0.3498632\ttotal: 416ms\tremaining: 2.19s\n",
      "160:\tlearn: 0.3495650\ttotal: 418ms\tremaining: 2.18s\n",
      "161:\tlearn: 0.3493233\ttotal: 420ms\tremaining: 2.17s\n",
      "162:\tlearn: 0.3491339\ttotal: 423ms\tremaining: 2.17s\n",
      "163:\tlearn: 0.3488142\ttotal: 425ms\tremaining: 2.17s\n",
      "164:\tlearn: 0.3486193\ttotal: 427ms\tremaining: 2.16s\n",
      "165:\tlearn: 0.3484169\ttotal: 429ms\tremaining: 2.15s\n",
      "166:\tlearn: 0.3478879\ttotal: 431ms\tremaining: 2.15s\n",
      "167:\tlearn: 0.3476875\ttotal: 433ms\tremaining: 2.14s\n",
      "168:\tlearn: 0.3473443\ttotal: 435ms\tremaining: 2.14s\n",
      "169:\tlearn: 0.3471867\ttotal: 437ms\tremaining: 2.13s\n",
      "170:\tlearn: 0.3469478\ttotal: 439ms\tremaining: 2.13s\n",
      "171:\tlearn: 0.3467285\ttotal: 441ms\tremaining: 2.12s\n",
      "172:\tlearn: 0.3465248\ttotal: 443ms\tremaining: 2.12s\n",
      "173:\tlearn: 0.3463150\ttotal: 445ms\tremaining: 2.11s\n",
      "174:\tlearn: 0.3460978\ttotal: 447ms\tremaining: 2.11s\n",
      "175:\tlearn: 0.3459831\ttotal: 449ms\tremaining: 2.1s\n",
      "176:\tlearn: 0.3457895\ttotal: 451ms\tremaining: 2.1s\n",
      "177:\tlearn: 0.3456563\ttotal: 453ms\tremaining: 2.09s\n",
      "178:\tlearn: 0.3454904\ttotal: 455ms\tremaining: 2.09s\n",
      "179:\tlearn: 0.3453090\ttotal: 457ms\tremaining: 2.08s\n",
      "180:\tlearn: 0.3452064\ttotal: 459ms\tremaining: 2.08s\n",
      "181:\tlearn: 0.3446761\ttotal: 461ms\tremaining: 2.07s\n",
      "182:\tlearn: 0.3445103\ttotal: 463ms\tremaining: 2.07s\n",
      "183:\tlearn: 0.3442425\ttotal: 465ms\tremaining: 2.06s\n",
      "184:\tlearn: 0.3440736\ttotal: 467ms\tremaining: 2.06s\n",
      "185:\tlearn: 0.3437915\ttotal: 469ms\tremaining: 2.05s\n",
      "186:\tlearn: 0.3434332\ttotal: 471ms\tremaining: 2.05s\n",
      "187:\tlearn: 0.3432076\ttotal: 473ms\tremaining: 2.04s\n",
      "188:\tlearn: 0.3428916\ttotal: 475ms\tremaining: 2.04s\n",
      "189:\tlearn: 0.3427302\ttotal: 477ms\tremaining: 2.03s\n",
      "190:\tlearn: 0.3426345\ttotal: 479ms\tremaining: 2.03s\n",
      "191:\tlearn: 0.3424648\ttotal: 482ms\tremaining: 2.03s\n",
      "192:\tlearn: 0.3422611\ttotal: 484ms\tremaining: 2.02s\n",
      "193:\tlearn: 0.3421145\ttotal: 487ms\tremaining: 2.02s\n",
      "194:\tlearn: 0.3420216\ttotal: 489ms\tremaining: 2.02s\n",
      "195:\tlearn: 0.3417919\ttotal: 492ms\tremaining: 2.02s\n",
      "196:\tlearn: 0.3416415\ttotal: 494ms\tremaining: 2.01s\n",
      "197:\tlearn: 0.3413252\ttotal: 497ms\tremaining: 2.01s\n",
      "198:\tlearn: 0.3411057\ttotal: 499ms\tremaining: 2.01s\n",
      "199:\tlearn: 0.3409534\ttotal: 501ms\tremaining: 2s\n",
      "200:\tlearn: 0.3408017\ttotal: 504ms\tremaining: 2s\n",
      "201:\tlearn: 0.3406050\ttotal: 506ms\tremaining: 2s\n",
      "202:\tlearn: 0.3403525\ttotal: 508ms\tremaining: 1.99s\n",
      "203:\tlearn: 0.3402293\ttotal: 510ms\tremaining: 1.99s\n",
      "204:\tlearn: 0.3400270\ttotal: 512ms\tremaining: 1.99s\n",
      "205:\tlearn: 0.3398439\ttotal: 514ms\tremaining: 1.98s\n",
      "206:\tlearn: 0.3396754\ttotal: 517ms\tremaining: 1.98s\n",
      "207:\tlearn: 0.3392666\ttotal: 519ms\tremaining: 1.98s\n",
      "208:\tlearn: 0.3389027\ttotal: 521ms\tremaining: 1.97s\n",
      "209:\tlearn: 0.3387002\ttotal: 523ms\tremaining: 1.97s\n",
      "210:\tlearn: 0.3385605\ttotal: 526ms\tremaining: 1.97s\n",
      "211:\tlearn: 0.3384572\ttotal: 528ms\tremaining: 1.96s\n",
      "212:\tlearn: 0.3383191\ttotal: 530ms\tremaining: 1.96s\n",
      "213:\tlearn: 0.3381295\ttotal: 532ms\tremaining: 1.96s\n",
      "214:\tlearn: 0.3378987\ttotal: 535ms\tremaining: 1.95s\n",
      "215:\tlearn: 0.3375093\ttotal: 537ms\tremaining: 1.95s\n",
      "216:\tlearn: 0.3374575\ttotal: 539ms\tremaining: 1.94s\n",
      "217:\tlearn: 0.3373080\ttotal: 541ms\tremaining: 1.94s\n",
      "218:\tlearn: 0.3370332\ttotal: 543ms\tremaining: 1.94s\n",
      "219:\tlearn: 0.3368056\ttotal: 545ms\tremaining: 1.93s\n",
      "220:\tlearn: 0.3366141\ttotal: 548ms\tremaining: 1.93s\n",
      "221:\tlearn: 0.3364275\ttotal: 550ms\tremaining: 1.93s\n",
      "222:\tlearn: 0.3362929\ttotal: 552ms\tremaining: 1.92s\n",
      "223:\tlearn: 0.3361393\ttotal: 555ms\tremaining: 1.92s\n",
      "224:\tlearn: 0.3359830\ttotal: 557ms\tremaining: 1.92s\n",
      "225:\tlearn: 0.3359061\ttotal: 559ms\tremaining: 1.92s\n",
      "226:\tlearn: 0.3356986\ttotal: 562ms\tremaining: 1.91s\n",
      "227:\tlearn: 0.3354616\ttotal: 564ms\tremaining: 1.91s\n",
      "228:\tlearn: 0.3353160\ttotal: 566ms\tremaining: 1.91s\n",
      "229:\tlearn: 0.3350849\ttotal: 569ms\tremaining: 1.9s\n",
      "230:\tlearn: 0.3348812\ttotal: 571ms\tremaining: 1.9s\n",
      "231:\tlearn: 0.3346427\ttotal: 573ms\tremaining: 1.9s\n",
      "232:\tlearn: 0.3345138\ttotal: 575ms\tremaining: 1.89s\n",
      "233:\tlearn: 0.3342628\ttotal: 577ms\tremaining: 1.89s\n",
      "234:\tlearn: 0.3340597\ttotal: 580ms\tremaining: 1.89s\n",
      "235:\tlearn: 0.3338059\ttotal: 582ms\tremaining: 1.88s\n",
      "236:\tlearn: 0.3335642\ttotal: 584ms\tremaining: 1.88s\n",
      "237:\tlearn: 0.3333593\ttotal: 586ms\tremaining: 1.88s\n",
      "238:\tlearn: 0.3332585\ttotal: 588ms\tremaining: 1.87s\n",
      "239:\tlearn: 0.3331028\ttotal: 591ms\tremaining: 1.87s\n",
      "240:\tlearn: 0.3330279\ttotal: 593ms\tremaining: 1.87s\n",
      "241:\tlearn: 0.3329158\ttotal: 595ms\tremaining: 1.86s\n",
      "242:\tlearn: 0.3328501\ttotal: 598ms\tremaining: 1.86s\n",
      "243:\tlearn: 0.3326375\ttotal: 600ms\tremaining: 1.86s\n",
      "244:\tlearn: 0.3325023\ttotal: 602ms\tremaining: 1.85s\n",
      "245:\tlearn: 0.3323258\ttotal: 604ms\tremaining: 1.85s\n",
      "246:\tlearn: 0.3322531\ttotal: 606ms\tremaining: 1.85s\n",
      "247:\tlearn: 0.3320320\ttotal: 609ms\tremaining: 1.85s\n",
      "248:\tlearn: 0.3318953\ttotal: 612ms\tremaining: 1.84s\n",
      "249:\tlearn: 0.3317966\ttotal: 615ms\tremaining: 1.84s\n",
      "250:\tlearn: 0.3316878\ttotal: 617ms\tremaining: 1.84s\n",
      "251:\tlearn: 0.3315977\ttotal: 620ms\tremaining: 1.84s\n",
      "252:\tlearn: 0.3314413\ttotal: 623ms\tremaining: 1.84s\n",
      "253:\tlearn: 0.3313078\ttotal: 626ms\tremaining: 1.84s\n",
      "254:\tlearn: 0.3309289\ttotal: 628ms\tremaining: 1.83s\n",
      "255:\tlearn: 0.3307843\ttotal: 630ms\tremaining: 1.83s\n",
      "256:\tlearn: 0.3306920\ttotal: 632ms\tremaining: 1.83s\n",
      "257:\tlearn: 0.3305656\ttotal: 634ms\tremaining: 1.82s\n",
      "258:\tlearn: 0.3304529\ttotal: 637ms\tremaining: 1.82s\n",
      "259:\tlearn: 0.3303746\ttotal: 639ms\tremaining: 1.82s\n",
      "260:\tlearn: 0.3302147\ttotal: 641ms\tremaining: 1.81s\n",
      "261:\tlearn: 0.3300965\ttotal: 643ms\tremaining: 1.81s\n",
      "262:\tlearn: 0.3299339\ttotal: 645ms\tremaining: 1.81s\n",
      "263:\tlearn: 0.3297282\ttotal: 647ms\tremaining: 1.8s\n",
      "264:\tlearn: 0.3296490\ttotal: 649ms\tremaining: 1.8s\n",
      "265:\tlearn: 0.3295619\ttotal: 651ms\tremaining: 1.79s\n",
      "266:\tlearn: 0.3294402\ttotal: 653ms\tremaining: 1.79s\n",
      "267:\tlearn: 0.3292908\ttotal: 655ms\tremaining: 1.79s\n",
      "268:\tlearn: 0.3291727\ttotal: 657ms\tremaining: 1.78s\n",
      "269:\tlearn: 0.3291087\ttotal: 659ms\tremaining: 1.78s\n",
      "270:\tlearn: 0.3289405\ttotal: 662ms\tremaining: 1.78s\n",
      "271:\tlearn: 0.3287650\ttotal: 664ms\tremaining: 1.78s\n",
      "272:\tlearn: 0.3285608\ttotal: 666ms\tremaining: 1.77s\n",
      "273:\tlearn: 0.3283654\ttotal: 669ms\tremaining: 1.77s\n",
      "274:\tlearn: 0.3282571\ttotal: 671ms\tremaining: 1.77s\n",
      "275:\tlearn: 0.3280878\ttotal: 674ms\tremaining: 1.77s\n",
      "276:\tlearn: 0.3279270\ttotal: 676ms\tremaining: 1.76s\n",
      "277:\tlearn: 0.3278372\ttotal: 678ms\tremaining: 1.76s\n",
      "278:\tlearn: 0.3276653\ttotal: 680ms\tremaining: 1.76s\n",
      "279:\tlearn: 0.3275654\ttotal: 682ms\tremaining: 1.75s\n",
      "280:\tlearn: 0.3274200\ttotal: 684ms\tremaining: 1.75s\n",
      "281:\tlearn: 0.3272962\ttotal: 687ms\tremaining: 1.75s\n",
      "282:\tlearn: 0.3270892\ttotal: 689ms\tremaining: 1.75s\n",
      "283:\tlearn: 0.3269443\ttotal: 692ms\tremaining: 1.74s\n",
      "284:\tlearn: 0.3267833\ttotal: 694ms\tremaining: 1.74s\n",
      "285:\tlearn: 0.3266141\ttotal: 696ms\tremaining: 1.74s\n",
      "286:\tlearn: 0.3265342\ttotal: 698ms\tremaining: 1.73s\n",
      "287:\tlearn: 0.3263761\ttotal: 700ms\tremaining: 1.73s\n",
      "288:\tlearn: 0.3261769\ttotal: 703ms\tremaining: 1.73s\n",
      "289:\tlearn: 0.3260347\ttotal: 705ms\tremaining: 1.73s\n",
      "290:\tlearn: 0.3259447\ttotal: 707ms\tremaining: 1.72s\n",
      "291:\tlearn: 0.3257915\ttotal: 709ms\tremaining: 1.72s\n",
      "292:\tlearn: 0.3256522\ttotal: 711ms\tremaining: 1.71s\n",
      "293:\tlearn: 0.3255556\ttotal: 713ms\tremaining: 1.71s\n",
      "294:\tlearn: 0.3254608\ttotal: 715ms\tremaining: 1.71s\n",
      "295:\tlearn: 0.3252202\ttotal: 717ms\tremaining: 1.71s\n",
      "296:\tlearn: 0.3251194\ttotal: 719ms\tremaining: 1.7s\n",
      "297:\tlearn: 0.3250283\ttotal: 722ms\tremaining: 1.7s\n",
      "298:\tlearn: 0.3249350\ttotal: 724ms\tremaining: 1.7s\n",
      "299:\tlearn: 0.3248006\ttotal: 726ms\tremaining: 1.69s\n",
      "300:\tlearn: 0.3246376\ttotal: 728ms\tremaining: 1.69s\n",
      "301:\tlearn: 0.3245696\ttotal: 730ms\tremaining: 1.69s\n",
      "302:\tlearn: 0.3244440\ttotal: 733ms\tremaining: 1.69s\n",
      "303:\tlearn: 0.3243457\ttotal: 735ms\tremaining: 1.68s\n",
      "304:\tlearn: 0.3242325\ttotal: 737ms\tremaining: 1.68s\n",
      "305:\tlearn: 0.3241352\ttotal: 740ms\tremaining: 1.68s\n",
      "306:\tlearn: 0.3239290\ttotal: 742ms\tremaining: 1.67s\n",
      "307:\tlearn: 0.3237508\ttotal: 744ms\tremaining: 1.67s\n",
      "308:\tlearn: 0.3236944\ttotal: 747ms\tremaining: 1.67s\n",
      "309:\tlearn: 0.3236090\ttotal: 749ms\tremaining: 1.67s\n",
      "310:\tlearn: 0.3235921\ttotal: 751ms\tremaining: 1.66s\n",
      "311:\tlearn: 0.3235101\ttotal: 753ms\tremaining: 1.66s\n",
      "312:\tlearn: 0.3234367\ttotal: 756ms\tremaining: 1.66s\n",
      "313:\tlearn: 0.3232547\ttotal: 758ms\tremaining: 1.66s\n",
      "314:\tlearn: 0.3231867\ttotal: 761ms\tremaining: 1.65s\n",
      "315:\tlearn: 0.3230609\ttotal: 763ms\tremaining: 1.65s\n",
      "316:\tlearn: 0.3229655\ttotal: 765ms\tremaining: 1.65s\n",
      "317:\tlearn: 0.3228028\ttotal: 768ms\tremaining: 1.65s\n",
      "318:\tlearn: 0.3227458\ttotal: 770ms\tremaining: 1.64s\n",
      "319:\tlearn: 0.3225126\ttotal: 773ms\tremaining: 1.64s\n",
      "320:\tlearn: 0.3223345\ttotal: 775ms\tremaining: 1.64s\n",
      "321:\tlearn: 0.3222753\ttotal: 777ms\tremaining: 1.64s\n",
      "322:\tlearn: 0.3221108\ttotal: 779ms\tremaining: 1.63s\n",
      "323:\tlearn: 0.3220270\ttotal: 782ms\tremaining: 1.63s\n",
      "324:\tlearn: 0.3219324\ttotal: 784ms\tremaining: 1.63s\n",
      "325:\tlearn: 0.3218404\ttotal: 786ms\tremaining: 1.62s\n",
      "326:\tlearn: 0.3217373\ttotal: 788ms\tremaining: 1.62s\n",
      "327:\tlearn: 0.3216297\ttotal: 790ms\tremaining: 1.62s\n",
      "328:\tlearn: 0.3215793\ttotal: 792ms\tremaining: 1.61s\n",
      "329:\tlearn: 0.3214385\ttotal: 794ms\tremaining: 1.61s\n",
      "330:\tlearn: 0.3213383\ttotal: 797ms\tremaining: 1.61s\n",
      "331:\tlearn: 0.3212599\ttotal: 799ms\tremaining: 1.61s\n",
      "332:\tlearn: 0.3211963\ttotal: 801ms\tremaining: 1.6s\n",
      "333:\tlearn: 0.3210523\ttotal: 803ms\tremaining: 1.6s\n",
      "334:\tlearn: 0.3209335\ttotal: 805ms\tremaining: 1.6s\n",
      "335:\tlearn: 0.3207314\ttotal: 807ms\tremaining: 1.59s\n",
      "336:\tlearn: 0.3205947\ttotal: 809ms\tremaining: 1.59s\n",
      "337:\tlearn: 0.3204710\ttotal: 812ms\tremaining: 1.59s\n",
      "338:\tlearn: 0.3203670\ttotal: 814ms\tremaining: 1.59s\n",
      "339:\tlearn: 0.3202684\ttotal: 816ms\tremaining: 1.58s\n",
      "340:\tlearn: 0.3201524\ttotal: 818ms\tremaining: 1.58s\n",
      "341:\tlearn: 0.3200397\ttotal: 820ms\tremaining: 1.58s\n",
      "342:\tlearn: 0.3199145\ttotal: 823ms\tremaining: 1.57s\n",
      "343:\tlearn: 0.3197925\ttotal: 825ms\tremaining: 1.57s\n",
      "344:\tlearn: 0.3197033\ttotal: 827ms\tremaining: 1.57s\n",
      "345:\tlearn: 0.3195735\ttotal: 829ms\tremaining: 1.57s\n",
      "346:\tlearn: 0.3193773\ttotal: 832ms\tremaining: 1.56s\n",
      "347:\tlearn: 0.3193303\ttotal: 834ms\tremaining: 1.56s\n",
      "348:\tlearn: 0.3192488\ttotal: 836ms\tremaining: 1.56s\n",
      "349:\tlearn: 0.3190946\ttotal: 838ms\tremaining: 1.56s\n",
      "350:\tlearn: 0.3189885\ttotal: 840ms\tremaining: 1.55s\n",
      "351:\tlearn: 0.3188175\ttotal: 843ms\tremaining: 1.55s\n",
      "352:\tlearn: 0.3186890\ttotal: 845ms\tremaining: 1.55s\n",
      "353:\tlearn: 0.3185817\ttotal: 848ms\tremaining: 1.55s\n",
      "354:\tlearn: 0.3184880\ttotal: 850ms\tremaining: 1.54s\n",
      "355:\tlearn: 0.3183152\ttotal: 852ms\tremaining: 1.54s\n",
      "356:\tlearn: 0.3182111\ttotal: 854ms\tremaining: 1.54s\n",
      "357:\tlearn: 0.3181015\ttotal: 856ms\tremaining: 1.53s\n",
      "358:\tlearn: 0.3179762\ttotal: 859ms\tremaining: 1.53s\n",
      "359:\tlearn: 0.3177880\ttotal: 861ms\tremaining: 1.53s\n",
      "360:\tlearn: 0.3176765\ttotal: 863ms\tremaining: 1.53s\n",
      "361:\tlearn: 0.3176168\ttotal: 865ms\tremaining: 1.52s\n",
      "362:\tlearn: 0.3175015\ttotal: 867ms\tremaining: 1.52s\n",
      "363:\tlearn: 0.3173806\ttotal: 869ms\tremaining: 1.52s\n",
      "364:\tlearn: 0.3173373\ttotal: 872ms\tremaining: 1.52s\n",
      "365:\tlearn: 0.3171902\ttotal: 874ms\tremaining: 1.51s\n",
      "366:\tlearn: 0.3170837\ttotal: 877ms\tremaining: 1.51s\n",
      "367:\tlearn: 0.3169748\ttotal: 879ms\tremaining: 1.51s\n",
      "368:\tlearn: 0.3169660\ttotal: 881ms\tremaining: 1.51s\n",
      "369:\tlearn: 0.3168238\ttotal: 883ms\tremaining: 1.5s\n",
      "370:\tlearn: 0.3167274\ttotal: 885ms\tremaining: 1.5s\n",
      "371:\tlearn: 0.3166367\ttotal: 887ms\tremaining: 1.5s\n",
      "372:\tlearn: 0.3165428\ttotal: 890ms\tremaining: 1.5s\n",
      "373:\tlearn: 0.3164903\ttotal: 892ms\tremaining: 1.49s\n",
      "374:\tlearn: 0.3163982\ttotal: 894ms\tremaining: 1.49s\n",
      "375:\tlearn: 0.3163295\ttotal: 896ms\tremaining: 1.49s\n",
      "376:\tlearn: 0.3161514\ttotal: 899ms\tremaining: 1.48s\n",
      "377:\tlearn: 0.3160099\ttotal: 901ms\tremaining: 1.48s\n",
      "378:\tlearn: 0.3158797\ttotal: 903ms\tremaining: 1.48s\n",
      "379:\tlearn: 0.3157376\ttotal: 906ms\tremaining: 1.48s\n",
      "380:\tlearn: 0.3155992\ttotal: 908ms\tremaining: 1.48s\n",
      "381:\tlearn: 0.3154874\ttotal: 911ms\tremaining: 1.47s\n",
      "382:\tlearn: 0.3153698\ttotal: 913ms\tremaining: 1.47s\n",
      "383:\tlearn: 0.3152485\ttotal: 915ms\tremaining: 1.47s\n",
      "384:\tlearn: 0.3150758\ttotal: 918ms\tremaining: 1.47s\n",
      "385:\tlearn: 0.3149782\ttotal: 920ms\tremaining: 1.46s\n",
      "386:\tlearn: 0.3148561\ttotal: 922ms\tremaining: 1.46s\n",
      "387:\tlearn: 0.3147528\ttotal: 924ms\tremaining: 1.46s\n",
      "388:\tlearn: 0.3146537\ttotal: 926ms\tremaining: 1.45s\n",
      "389:\tlearn: 0.3145227\ttotal: 928ms\tremaining: 1.45s\n",
      "390:\tlearn: 0.3144332\ttotal: 930ms\tremaining: 1.45s\n",
      "391:\tlearn: 0.3142674\ttotal: 933ms\tremaining: 1.45s\n",
      "392:\tlearn: 0.3140953\ttotal: 935ms\tremaining: 1.44s\n",
      "393:\tlearn: 0.3140205\ttotal: 937ms\tremaining: 1.44s\n",
      "394:\tlearn: 0.3139795\ttotal: 939ms\tremaining: 1.44s\n",
      "395:\tlearn: 0.3138709\ttotal: 941ms\tremaining: 1.44s\n",
      "396:\tlearn: 0.3137496\ttotal: 943ms\tremaining: 1.43s\n",
      "397:\tlearn: 0.3136660\ttotal: 946ms\tremaining: 1.43s\n",
      "398:\tlearn: 0.3135801\ttotal: 949ms\tremaining: 1.43s\n",
      "399:\tlearn: 0.3135046\ttotal: 951ms\tremaining: 1.43s\n",
      "400:\tlearn: 0.3134296\ttotal: 954ms\tremaining: 1.42s\n",
      "401:\tlearn: 0.3132950\ttotal: 956ms\tremaining: 1.42s\n",
      "402:\tlearn: 0.3130990\ttotal: 959ms\tremaining: 1.42s\n",
      "403:\tlearn: 0.3130351\ttotal: 961ms\tremaining: 1.42s\n",
      "404:\tlearn: 0.3128865\ttotal: 963ms\tremaining: 1.42s\n",
      "405:\tlearn: 0.3127861\ttotal: 966ms\tremaining: 1.41s\n",
      "406:\tlearn: 0.3126708\ttotal: 968ms\tremaining: 1.41s\n",
      "407:\tlearn: 0.3125582\ttotal: 971ms\tremaining: 1.41s\n",
      "408:\tlearn: 0.3124890\ttotal: 973ms\tremaining: 1.41s\n",
      "409:\tlearn: 0.3123911\ttotal: 975ms\tremaining: 1.4s\n",
      "410:\tlearn: 0.3123245\ttotal: 977ms\tremaining: 1.4s\n",
      "411:\tlearn: 0.3122049\ttotal: 979ms\tremaining: 1.4s\n",
      "412:\tlearn: 0.3120402\ttotal: 982ms\tremaining: 1.4s\n",
      "413:\tlearn: 0.3119236\ttotal: 984ms\tremaining: 1.39s\n",
      "414:\tlearn: 0.3118723\ttotal: 986ms\tremaining: 1.39s\n",
      "415:\tlearn: 0.3117202\ttotal: 989ms\tremaining: 1.39s\n",
      "416:\tlearn: 0.3115978\ttotal: 991ms\tremaining: 1.39s\n",
      "417:\tlearn: 0.3114393\ttotal: 993ms\tremaining: 1.38s\n",
      "418:\tlearn: 0.3113305\ttotal: 996ms\tremaining: 1.38s\n",
      "419:\tlearn: 0.3112632\ttotal: 998ms\tremaining: 1.38s\n",
      "420:\tlearn: 0.3111363\ttotal: 1s\tremaining: 1.38s\n",
      "421:\tlearn: 0.3110572\ttotal: 1s\tremaining: 1.37s\n",
      "422:\tlearn: 0.3109229\ttotal: 1s\tremaining: 1.37s\n",
      "423:\tlearn: 0.3108593\ttotal: 1.01s\tremaining: 1.37s\n",
      "424:\tlearn: 0.3107618\ttotal: 1.01s\tremaining: 1.36s\n",
      "425:\tlearn: 0.3106631\ttotal: 1.01s\tremaining: 1.36s\n",
      "426:\tlearn: 0.3104716\ttotal: 1.01s\tremaining: 1.36s\n",
      "427:\tlearn: 0.3103749\ttotal: 1.02s\tremaining: 1.36s\n",
      "428:\tlearn: 0.3103201\ttotal: 1.02s\tremaining: 1.35s\n",
      "429:\tlearn: 0.3102535\ttotal: 1.02s\tremaining: 1.35s\n",
      "430:\tlearn: 0.3100968\ttotal: 1.02s\tremaining: 1.35s\n",
      "431:\tlearn: 0.3099962\ttotal: 1.02s\tremaining: 1.35s\n",
      "432:\tlearn: 0.3099409\ttotal: 1.03s\tremaining: 1.34s\n",
      "433:\tlearn: 0.3097687\ttotal: 1.03s\tremaining: 1.34s\n",
      "434:\tlearn: 0.3096256\ttotal: 1.03s\tremaining: 1.34s\n",
      "435:\tlearn: 0.3095464\ttotal: 1.03s\tremaining: 1.34s\n",
      "436:\tlearn: 0.3093218\ttotal: 1.03s\tremaining: 1.33s\n",
      "437:\tlearn: 0.3092080\ttotal: 1.04s\tremaining: 1.33s\n",
      "438:\tlearn: 0.3090983\ttotal: 1.04s\tremaining: 1.33s\n",
      "439:\tlearn: 0.3090529\ttotal: 1.04s\tremaining: 1.33s\n",
      "440:\tlearn: 0.3089450\ttotal: 1.04s\tremaining: 1.32s\n",
      "441:\tlearn: 0.3088582\ttotal: 1.05s\tremaining: 1.32s\n",
      "442:\tlearn: 0.3087158\ttotal: 1.05s\tremaining: 1.32s\n",
      "443:\tlearn: 0.3086451\ttotal: 1.05s\tremaining: 1.32s\n",
      "444:\tlearn: 0.3085124\ttotal: 1.05s\tremaining: 1.31s\n",
      "445:\tlearn: 0.3083909\ttotal: 1.05s\tremaining: 1.31s\n",
      "446:\tlearn: 0.3083274\ttotal: 1.06s\tremaining: 1.31s\n",
      "447:\tlearn: 0.3082036\ttotal: 1.06s\tremaining: 1.3s\n",
      "448:\tlearn: 0.3081442\ttotal: 1.06s\tremaining: 1.3s\n",
      "449:\tlearn: 0.3080899\ttotal: 1.06s\tremaining: 1.3s\n",
      "450:\tlearn: 0.3079400\ttotal: 1.07s\tremaining: 1.3s\n",
      "451:\tlearn: 0.3078262\ttotal: 1.07s\tremaining: 1.29s\n",
      "452:\tlearn: 0.3077432\ttotal: 1.07s\tremaining: 1.29s\n",
      "453:\tlearn: 0.3075750\ttotal: 1.07s\tremaining: 1.29s\n",
      "454:\tlearn: 0.3074862\ttotal: 1.07s\tremaining: 1.29s\n",
      "455:\tlearn: 0.3073849\ttotal: 1.08s\tremaining: 1.28s\n",
      "456:\tlearn: 0.3072431\ttotal: 1.08s\tremaining: 1.28s\n",
      "457:\tlearn: 0.3070890\ttotal: 1.08s\tremaining: 1.28s\n",
      "458:\tlearn: 0.3069552\ttotal: 1.08s\tremaining: 1.28s\n",
      "459:\tlearn: 0.3068039\ttotal: 1.08s\tremaining: 1.27s\n",
      "460:\tlearn: 0.3066505\ttotal: 1.09s\tremaining: 1.27s\n",
      "461:\tlearn: 0.3065463\ttotal: 1.09s\tremaining: 1.27s\n",
      "462:\tlearn: 0.3064753\ttotal: 1.09s\tremaining: 1.26s\n",
      "463:\tlearn: 0.3062195\ttotal: 1.09s\tremaining: 1.26s\n",
      "464:\tlearn: 0.3061570\ttotal: 1.09s\tremaining: 1.26s\n",
      "465:\tlearn: 0.3060446\ttotal: 1.1s\tremaining: 1.26s\n",
      "466:\tlearn: 0.3059166\ttotal: 1.1s\tremaining: 1.25s\n",
      "467:\tlearn: 0.3057980\ttotal: 1.1s\tremaining: 1.25s\n",
      "468:\tlearn: 0.3056873\ttotal: 1.1s\tremaining: 1.25s\n",
      "469:\tlearn: 0.3055245\ttotal: 1.1s\tremaining: 1.25s\n",
      "470:\tlearn: 0.3053943\ttotal: 1.11s\tremaining: 1.24s\n",
      "471:\tlearn: 0.3053016\ttotal: 1.11s\tremaining: 1.24s\n",
      "472:\tlearn: 0.3051895\ttotal: 1.11s\tremaining: 1.24s\n",
      "473:\tlearn: 0.3050695\ttotal: 1.11s\tremaining: 1.24s\n",
      "474:\tlearn: 0.3049772\ttotal: 1.11s\tremaining: 1.23s\n",
      "475:\tlearn: 0.3048620\ttotal: 1.12s\tremaining: 1.23s\n",
      "476:\tlearn: 0.3047641\ttotal: 1.12s\tremaining: 1.23s\n",
      "477:\tlearn: 0.3046620\ttotal: 1.12s\tremaining: 1.23s\n",
      "478:\tlearn: 0.3045439\ttotal: 1.12s\tremaining: 1.22s\n",
      "479:\tlearn: 0.3044567\ttotal: 1.13s\tremaining: 1.22s\n",
      "480:\tlearn: 0.3043087\ttotal: 1.13s\tremaining: 1.22s\n",
      "481:\tlearn: 0.3041839\ttotal: 1.13s\tremaining: 1.21s\n",
      "482:\tlearn: 0.3040628\ttotal: 1.13s\tremaining: 1.21s\n",
      "483:\tlearn: 0.3039649\ttotal: 1.13s\tremaining: 1.21s\n",
      "484:\tlearn: 0.3038793\ttotal: 1.14s\tremaining: 1.21s\n",
      "485:\tlearn: 0.3037667\ttotal: 1.14s\tremaining: 1.2s\n",
      "486:\tlearn: 0.3036659\ttotal: 1.14s\tremaining: 1.2s\n",
      "487:\tlearn: 0.3035642\ttotal: 1.14s\tremaining: 1.2s\n",
      "488:\tlearn: 0.3034252\ttotal: 1.15s\tremaining: 1.2s\n",
      "489:\tlearn: 0.3033091\ttotal: 1.15s\tremaining: 1.19s\n",
      "490:\tlearn: 0.3032347\ttotal: 1.15s\tremaining: 1.19s\n",
      "491:\tlearn: 0.3031188\ttotal: 1.15s\tremaining: 1.19s\n",
      "492:\tlearn: 0.3029879\ttotal: 1.16s\tremaining: 1.19s\n",
      "493:\tlearn: 0.3028033\ttotal: 1.16s\tremaining: 1.19s\n",
      "494:\tlearn: 0.3027054\ttotal: 1.16s\tremaining: 1.18s\n",
      "495:\tlearn: 0.3025897\ttotal: 1.16s\tremaining: 1.18s\n",
      "496:\tlearn: 0.3024747\ttotal: 1.16s\tremaining: 1.18s\n",
      "497:\tlearn: 0.3024143\ttotal: 1.17s\tremaining: 1.18s\n",
      "498:\tlearn: 0.3023523\ttotal: 1.17s\tremaining: 1.17s\n",
      "499:\tlearn: 0.3021579\ttotal: 1.17s\tremaining: 1.17s\n",
      "500:\tlearn: 0.3020755\ttotal: 1.17s\tremaining: 1.17s\n",
      "501:\tlearn: 0.3019822\ttotal: 1.17s\tremaining: 1.17s\n",
      "502:\tlearn: 0.3019072\ttotal: 1.18s\tremaining: 1.16s\n",
      "503:\tlearn: 0.3017432\ttotal: 1.18s\tremaining: 1.16s\n",
      "504:\tlearn: 0.3016516\ttotal: 1.18s\tremaining: 1.16s\n",
      "505:\tlearn: 0.3015590\ttotal: 1.18s\tremaining: 1.15s\n",
      "506:\tlearn: 0.3014302\ttotal: 1.18s\tremaining: 1.15s\n",
      "507:\tlearn: 0.3013239\ttotal: 1.19s\tremaining: 1.15s\n",
      "508:\tlearn: 0.3012496\ttotal: 1.19s\tremaining: 1.15s\n",
      "509:\tlearn: 0.3011883\ttotal: 1.19s\tremaining: 1.14s\n",
      "510:\tlearn: 0.3011025\ttotal: 1.19s\tremaining: 1.14s\n",
      "511:\tlearn: 0.3009940\ttotal: 1.2s\tremaining: 1.14s\n",
      "512:\tlearn: 0.3008847\ttotal: 1.2s\tremaining: 1.14s\n",
      "513:\tlearn: 0.3007985\ttotal: 1.2s\tremaining: 1.13s\n",
      "514:\tlearn: 0.3007405\ttotal: 1.2s\tremaining: 1.13s\n",
      "515:\tlearn: 0.3006749\ttotal: 1.2s\tremaining: 1.13s\n",
      "516:\tlearn: 0.3005434\ttotal: 1.21s\tremaining: 1.13s\n",
      "517:\tlearn: 0.3004566\ttotal: 1.21s\tremaining: 1.12s\n",
      "518:\tlearn: 0.3003798\ttotal: 1.21s\tremaining: 1.12s\n",
      "519:\tlearn: 0.3003129\ttotal: 1.21s\tremaining: 1.12s\n",
      "520:\tlearn: 0.3001764\ttotal: 1.21s\tremaining: 1.12s\n",
      "521:\tlearn: 0.3001120\ttotal: 1.22s\tremaining: 1.11s\n",
      "522:\tlearn: 0.3000032\ttotal: 1.22s\tremaining: 1.11s\n",
      "523:\tlearn: 0.2999041\ttotal: 1.22s\tremaining: 1.11s\n",
      "524:\tlearn: 0.2997933\ttotal: 1.22s\tremaining: 1.1s\n",
      "525:\tlearn: 0.2996884\ttotal: 1.22s\tremaining: 1.1s\n",
      "526:\tlearn: 0.2996084\ttotal: 1.23s\tremaining: 1.1s\n",
      "527:\tlearn: 0.2995233\ttotal: 1.23s\tremaining: 1.1s\n",
      "528:\tlearn: 0.2994691\ttotal: 1.23s\tremaining: 1.09s\n",
      "529:\tlearn: 0.2992852\ttotal: 1.23s\tremaining: 1.09s\n",
      "530:\tlearn: 0.2991551\ttotal: 1.24s\tremaining: 1.09s\n",
      "531:\tlearn: 0.2990991\ttotal: 1.24s\tremaining: 1.09s\n",
      "532:\tlearn: 0.2989001\ttotal: 1.24s\tremaining: 1.09s\n",
      "533:\tlearn: 0.2987790\ttotal: 1.24s\tremaining: 1.08s\n",
      "534:\tlearn: 0.2986529\ttotal: 1.24s\tremaining: 1.08s\n",
      "535:\tlearn: 0.2985678\ttotal: 1.25s\tremaining: 1.08s\n",
      "536:\tlearn: 0.2984722\ttotal: 1.25s\tremaining: 1.08s\n",
      "537:\tlearn: 0.2983726\ttotal: 1.25s\tremaining: 1.07s\n",
      "538:\tlearn: 0.2982907\ttotal: 1.25s\tremaining: 1.07s\n",
      "539:\tlearn: 0.2982366\ttotal: 1.25s\tremaining: 1.07s\n",
      "540:\tlearn: 0.2981846\ttotal: 1.26s\tremaining: 1.07s\n",
      "541:\tlearn: 0.2981025\ttotal: 1.26s\tremaining: 1.06s\n",
      "542:\tlearn: 0.2980076\ttotal: 1.26s\tremaining: 1.06s\n",
      "543:\tlearn: 0.2979413\ttotal: 1.27s\tremaining: 1.06s\n",
      "544:\tlearn: 0.2978374\ttotal: 1.27s\tremaining: 1.06s\n",
      "545:\tlearn: 0.2976668\ttotal: 1.27s\tremaining: 1.06s\n",
      "546:\tlearn: 0.2976059\ttotal: 1.27s\tremaining: 1.05s\n",
      "547:\tlearn: 0.2974884\ttotal: 1.27s\tremaining: 1.05s\n",
      "548:\tlearn: 0.2973496\ttotal: 1.28s\tremaining: 1.05s\n",
      "549:\tlearn: 0.2972587\ttotal: 1.28s\tremaining: 1.05s\n",
      "550:\tlearn: 0.2972120\ttotal: 1.28s\tremaining: 1.04s\n",
      "551:\tlearn: 0.2971134\ttotal: 1.28s\tremaining: 1.04s\n",
      "552:\tlearn: 0.2970366\ttotal: 1.29s\tremaining: 1.04s\n",
      "553:\tlearn: 0.2969909\ttotal: 1.29s\tremaining: 1.04s\n",
      "554:\tlearn: 0.2968709\ttotal: 1.29s\tremaining: 1.03s\n",
      "555:\tlearn: 0.2968107\ttotal: 1.29s\tremaining: 1.03s\n",
      "556:\tlearn: 0.2966924\ttotal: 1.3s\tremaining: 1.03s\n",
      "557:\tlearn: 0.2966012\ttotal: 1.3s\tremaining: 1.03s\n",
      "558:\tlearn: 0.2965069\ttotal: 1.3s\tremaining: 1.03s\n",
      "559:\tlearn: 0.2964358\ttotal: 1.3s\tremaining: 1.02s\n",
      "560:\tlearn: 0.2963586\ttotal: 1.31s\tremaining: 1.02s\n",
      "561:\tlearn: 0.2962559\ttotal: 1.31s\tremaining: 1.02s\n",
      "562:\tlearn: 0.2961373\ttotal: 1.31s\tremaining: 1.02s\n",
      "563:\tlearn: 0.2960297\ttotal: 1.31s\tremaining: 1.02s\n",
      "564:\tlearn: 0.2958949\ttotal: 1.32s\tremaining: 1.01s\n",
      "565:\tlearn: 0.2957909\ttotal: 1.32s\tremaining: 1.01s\n",
      "566:\tlearn: 0.2956236\ttotal: 1.32s\tremaining: 1.01s\n",
      "567:\tlearn: 0.2954493\ttotal: 1.33s\tremaining: 1.01s\n",
      "568:\tlearn: 0.2952832\ttotal: 1.33s\tremaining: 1.01s\n",
      "569:\tlearn: 0.2951947\ttotal: 1.33s\tremaining: 1s\n",
      "570:\tlearn: 0.2950673\ttotal: 1.33s\tremaining: 1s\n",
      "571:\tlearn: 0.2949912\ttotal: 1.34s\tremaining: 1s\n",
      "572:\tlearn: 0.2948793\ttotal: 1.34s\tremaining: 1000ms\n",
      "573:\tlearn: 0.2947600\ttotal: 1.34s\tremaining: 998ms\n",
      "574:\tlearn: 0.2946668\ttotal: 1.35s\tremaining: 996ms\n",
      "575:\tlearn: 0.2945523\ttotal: 1.35s\tremaining: 994ms\n",
      "576:\tlearn: 0.2944476\ttotal: 1.35s\tremaining: 992ms\n",
      "577:\tlearn: 0.2943771\ttotal: 1.36s\tremaining: 990ms\n",
      "578:\tlearn: 0.2941652\ttotal: 1.36s\tremaining: 988ms\n",
      "579:\tlearn: 0.2940887\ttotal: 1.36s\tremaining: 986ms\n",
      "580:\tlearn: 0.2939723\ttotal: 1.36s\tremaining: 984ms\n",
      "581:\tlearn: 0.2939070\ttotal: 1.37s\tremaining: 983ms\n",
      "582:\tlearn: 0.2938253\ttotal: 1.37s\tremaining: 981ms\n",
      "583:\tlearn: 0.2937232\ttotal: 1.38s\tremaining: 980ms\n",
      "584:\tlearn: 0.2936327\ttotal: 1.38s\tremaining: 978ms\n",
      "585:\tlearn: 0.2935351\ttotal: 1.38s\tremaining: 976ms\n",
      "586:\tlearn: 0.2934516\ttotal: 1.38s\tremaining: 974ms\n",
      "587:\tlearn: 0.2933399\ttotal: 1.39s\tremaining: 972ms\n",
      "588:\tlearn: 0.2932744\ttotal: 1.39s\tremaining: 970ms\n",
      "589:\tlearn: 0.2931816\ttotal: 1.39s\tremaining: 968ms\n",
      "590:\tlearn: 0.2931003\ttotal: 1.4s\tremaining: 966ms\n",
      "591:\tlearn: 0.2929983\ttotal: 1.4s\tremaining: 964ms\n",
      "592:\tlearn: 0.2929051\ttotal: 1.4s\tremaining: 963ms\n",
      "593:\tlearn: 0.2928093\ttotal: 1.41s\tremaining: 960ms\n",
      "594:\tlearn: 0.2927138\ttotal: 1.41s\tremaining: 958ms\n",
      "595:\tlearn: 0.2925623\ttotal: 1.41s\tremaining: 957ms\n",
      "596:\tlearn: 0.2924183\ttotal: 1.41s\tremaining: 955ms\n",
      "597:\tlearn: 0.2922939\ttotal: 1.42s\tremaining: 953ms\n",
      "598:\tlearn: 0.2921948\ttotal: 1.42s\tremaining: 951ms\n",
      "599:\tlearn: 0.2921192\ttotal: 1.42s\tremaining: 950ms\n",
      "600:\tlearn: 0.2920282\ttotal: 1.43s\tremaining: 948ms\n",
      "601:\tlearn: 0.2919826\ttotal: 1.43s\tremaining: 946ms\n",
      "602:\tlearn: 0.2918929\ttotal: 1.43s\tremaining: 944ms\n",
      "603:\tlearn: 0.2918085\ttotal: 1.44s\tremaining: 942ms\n",
      "604:\tlearn: 0.2917151\ttotal: 1.44s\tremaining: 940ms\n",
      "605:\tlearn: 0.2915996\ttotal: 1.44s\tremaining: 938ms\n",
      "606:\tlearn: 0.2915038\ttotal: 1.45s\tremaining: 937ms\n",
      "607:\tlearn: 0.2914234\ttotal: 1.45s\tremaining: 935ms\n",
      "608:\tlearn: 0.2913806\ttotal: 1.45s\tremaining: 933ms\n",
      "609:\tlearn: 0.2913391\ttotal: 1.46s\tremaining: 931ms\n",
      "610:\tlearn: 0.2912426\ttotal: 1.46s\tremaining: 930ms\n",
      "611:\tlearn: 0.2911144\ttotal: 1.46s\tremaining: 928ms\n",
      "612:\tlearn: 0.2910293\ttotal: 1.47s\tremaining: 926ms\n",
      "613:\tlearn: 0.2909355\ttotal: 1.47s\tremaining: 924ms\n",
      "614:\tlearn: 0.2908286\ttotal: 1.47s\tremaining: 921ms\n",
      "615:\tlearn: 0.2907835\ttotal: 1.48s\tremaining: 920ms\n",
      "616:\tlearn: 0.2906946\ttotal: 1.48s\tremaining: 918ms\n",
      "617:\tlearn: 0.2906087\ttotal: 1.48s\tremaining: 916ms\n",
      "618:\tlearn: 0.2905404\ttotal: 1.48s\tremaining: 913ms\n",
      "619:\tlearn: 0.2903791\ttotal: 1.49s\tremaining: 911ms\n",
      "620:\tlearn: 0.2903083\ttotal: 1.49s\tremaining: 909ms\n",
      "621:\tlearn: 0.2902261\ttotal: 1.49s\tremaining: 907ms\n",
      "622:\tlearn: 0.2901494\ttotal: 1.5s\tremaining: 905ms\n",
      "623:\tlearn: 0.2900784\ttotal: 1.5s\tremaining: 903ms\n",
      "624:\tlearn: 0.2899664\ttotal: 1.5s\tremaining: 901ms\n",
      "625:\tlearn: 0.2898979\ttotal: 1.5s\tremaining: 899ms\n",
      "626:\tlearn: 0.2898094\ttotal: 1.51s\tremaining: 897ms\n",
      "627:\tlearn: 0.2897446\ttotal: 1.51s\tremaining: 895ms\n",
      "628:\tlearn: 0.2896740\ttotal: 1.51s\tremaining: 893ms\n",
      "629:\tlearn: 0.2895921\ttotal: 1.52s\tremaining: 891ms\n",
      "630:\tlearn: 0.2894967\ttotal: 1.52s\tremaining: 889ms\n",
      "631:\tlearn: 0.2894113\ttotal: 1.52s\tremaining: 887ms\n",
      "632:\tlearn: 0.2893622\ttotal: 1.53s\tremaining: 885ms\n",
      "633:\tlearn: 0.2893212\ttotal: 1.53s\tremaining: 883ms\n",
      "634:\tlearn: 0.2892166\ttotal: 1.53s\tremaining: 880ms\n",
      "635:\tlearn: 0.2891528\ttotal: 1.53s\tremaining: 878ms\n",
      "636:\tlearn: 0.2890783\ttotal: 1.54s\tremaining: 876ms\n",
      "637:\tlearn: 0.2890335\ttotal: 1.54s\tremaining: 873ms\n",
      "638:\tlearn: 0.2889380\ttotal: 1.54s\tremaining: 871ms\n",
      "639:\tlearn: 0.2888825\ttotal: 1.54s\tremaining: 868ms\n",
      "640:\tlearn: 0.2887623\ttotal: 1.54s\tremaining: 866ms\n",
      "641:\tlearn: 0.2886851\ttotal: 1.55s\tremaining: 863ms\n",
      "642:\tlearn: 0.2886404\ttotal: 1.55s\tremaining: 861ms\n",
      "643:\tlearn: 0.2885760\ttotal: 1.55s\tremaining: 859ms\n",
      "644:\tlearn: 0.2884227\ttotal: 1.55s\tremaining: 856ms\n",
      "645:\tlearn: 0.2883472\ttotal: 1.56s\tremaining: 853ms\n",
      "646:\tlearn: 0.2882419\ttotal: 1.56s\tremaining: 851ms\n",
      "647:\tlearn: 0.2881640\ttotal: 1.56s\tremaining: 848ms\n",
      "648:\tlearn: 0.2881077\ttotal: 1.56s\tremaining: 845ms\n",
      "649:\tlearn: 0.2879848\ttotal: 1.56s\tremaining: 843ms\n",
      "650:\tlearn: 0.2879594\ttotal: 1.57s\tremaining: 840ms\n",
      "651:\tlearn: 0.2878623\ttotal: 1.57s\tremaining: 838ms\n",
      "652:\tlearn: 0.2877287\ttotal: 1.57s\tremaining: 835ms\n",
      "653:\tlearn: 0.2876124\ttotal: 1.57s\tremaining: 832ms\n",
      "654:\tlearn: 0.2875380\ttotal: 1.57s\tremaining: 830ms\n",
      "655:\tlearn: 0.2874896\ttotal: 1.58s\tremaining: 827ms\n",
      "656:\tlearn: 0.2874209\ttotal: 1.58s\tremaining: 825ms\n",
      "657:\tlearn: 0.2873304\ttotal: 1.58s\tremaining: 822ms\n",
      "658:\tlearn: 0.2872672\ttotal: 1.58s\tremaining: 819ms\n",
      "659:\tlearn: 0.2872060\ttotal: 1.58s\tremaining: 817ms\n",
      "660:\tlearn: 0.2871374\ttotal: 1.59s\tremaining: 814ms\n",
      "661:\tlearn: 0.2870823\ttotal: 1.59s\tremaining: 812ms\n",
      "662:\tlearn: 0.2870114\ttotal: 1.59s\tremaining: 809ms\n",
      "663:\tlearn: 0.2869178\ttotal: 1.59s\tremaining: 806ms\n",
      "664:\tlearn: 0.2868631\ttotal: 1.59s\tremaining: 804ms\n",
      "665:\tlearn: 0.2867113\ttotal: 1.6s\tremaining: 801ms\n",
      "666:\tlearn: 0.2865679\ttotal: 1.6s\tremaining: 799ms\n",
      "667:\tlearn: 0.2864861\ttotal: 1.6s\tremaining: 796ms\n",
      "668:\tlearn: 0.2863852\ttotal: 1.6s\tremaining: 793ms\n",
      "669:\tlearn: 0.2863032\ttotal: 1.6s\tremaining: 791ms\n",
      "670:\tlearn: 0.2862777\ttotal: 1.61s\tremaining: 788ms\n",
      "671:\tlearn: 0.2862272\ttotal: 1.61s\tremaining: 786ms\n",
      "672:\tlearn: 0.2861726\ttotal: 1.61s\tremaining: 783ms\n",
      "673:\tlearn: 0.2861082\ttotal: 1.61s\tremaining: 781ms\n",
      "674:\tlearn: 0.2860555\ttotal: 1.62s\tremaining: 778ms\n",
      "675:\tlearn: 0.2860099\ttotal: 1.62s\tremaining: 775ms\n",
      "676:\tlearn: 0.2859072\ttotal: 1.62s\tremaining: 773ms\n",
      "677:\tlearn: 0.2858393\ttotal: 1.62s\tremaining: 770ms\n",
      "678:\tlearn: 0.2857827\ttotal: 1.62s\tremaining: 768ms\n",
      "679:\tlearn: 0.2857028\ttotal: 1.63s\tremaining: 765ms\n",
      "680:\tlearn: 0.2856382\ttotal: 1.63s\tremaining: 763ms\n",
      "681:\tlearn: 0.2855709\ttotal: 1.63s\tremaining: 760ms\n",
      "682:\tlearn: 0.2854729\ttotal: 1.63s\tremaining: 758ms\n",
      "683:\tlearn: 0.2854009\ttotal: 1.63s\tremaining: 755ms\n",
      "684:\tlearn: 0.2853734\ttotal: 1.64s\tremaining: 753ms\n",
      "685:\tlearn: 0.2853295\ttotal: 1.64s\tremaining: 750ms\n",
      "686:\tlearn: 0.2852460\ttotal: 1.64s\tremaining: 747ms\n",
      "687:\tlearn: 0.2851261\ttotal: 1.64s\tremaining: 745ms\n",
      "688:\tlearn: 0.2849355\ttotal: 1.64s\tremaining: 742ms\n",
      "689:\tlearn: 0.2848477\ttotal: 1.65s\tremaining: 740ms\n",
      "690:\tlearn: 0.2847800\ttotal: 1.65s\tremaining: 737ms\n",
      "691:\tlearn: 0.2846829\ttotal: 1.65s\tremaining: 735ms\n",
      "692:\tlearn: 0.2846259\ttotal: 1.65s\tremaining: 732ms\n",
      "693:\tlearn: 0.2845166\ttotal: 1.65s\tremaining: 729ms\n",
      "694:\tlearn: 0.2844220\ttotal: 1.66s\tremaining: 727ms\n",
      "695:\tlearn: 0.2843565\ttotal: 1.66s\tremaining: 724ms\n",
      "696:\tlearn: 0.2842804\ttotal: 1.66s\tremaining: 722ms\n",
      "697:\tlearn: 0.2841849\ttotal: 1.66s\tremaining: 719ms\n",
      "698:\tlearn: 0.2840921\ttotal: 1.66s\tremaining: 717ms\n",
      "699:\tlearn: 0.2839927\ttotal: 1.67s\tremaining: 714ms\n",
      "700:\tlearn: 0.2839134\ttotal: 1.67s\tremaining: 712ms\n",
      "701:\tlearn: 0.2837863\ttotal: 1.67s\tremaining: 709ms\n",
      "702:\tlearn: 0.2837060\ttotal: 1.67s\tremaining: 707ms\n",
      "703:\tlearn: 0.2836471\ttotal: 1.67s\tremaining: 704ms\n",
      "704:\tlearn: 0.2836108\ttotal: 1.68s\tremaining: 701ms\n",
      "705:\tlearn: 0.2835195\ttotal: 1.68s\tremaining: 699ms\n",
      "706:\tlearn: 0.2834592\ttotal: 1.68s\tremaining: 696ms\n",
      "707:\tlearn: 0.2833326\ttotal: 1.68s\tremaining: 694ms\n",
      "708:\tlearn: 0.2832652\ttotal: 1.68s\tremaining: 691ms\n",
      "709:\tlearn: 0.2831833\ttotal: 1.69s\tremaining: 689ms\n",
      "710:\tlearn: 0.2830660\ttotal: 1.69s\tremaining: 686ms\n",
      "711:\tlearn: 0.2830070\ttotal: 1.69s\tremaining: 684ms\n",
      "712:\tlearn: 0.2829566\ttotal: 1.69s\tremaining: 682ms\n",
      "713:\tlearn: 0.2828853\ttotal: 1.7s\tremaining: 679ms\n",
      "714:\tlearn: 0.2828401\ttotal: 1.7s\tremaining: 677ms\n",
      "715:\tlearn: 0.2828023\ttotal: 1.7s\tremaining: 674ms\n",
      "716:\tlearn: 0.2827503\ttotal: 1.7s\tremaining: 672ms\n",
      "717:\tlearn: 0.2827129\ttotal: 1.7s\tremaining: 669ms\n",
      "718:\tlearn: 0.2826013\ttotal: 1.71s\tremaining: 667ms\n",
      "719:\tlearn: 0.2824778\ttotal: 1.71s\tremaining: 665ms\n",
      "720:\tlearn: 0.2823731\ttotal: 1.71s\tremaining: 662ms\n",
      "721:\tlearn: 0.2823105\ttotal: 1.71s\tremaining: 660ms\n",
      "722:\tlearn: 0.2822409\ttotal: 1.72s\tremaining: 657ms\n",
      "723:\tlearn: 0.2821039\ttotal: 1.72s\tremaining: 655ms\n",
      "724:\tlearn: 0.2819925\ttotal: 1.72s\tremaining: 652ms\n",
      "725:\tlearn: 0.2819269\ttotal: 1.72s\tremaining: 650ms\n",
      "726:\tlearn: 0.2818799\ttotal: 1.72s\tremaining: 648ms\n",
      "727:\tlearn: 0.2818444\ttotal: 1.73s\tremaining: 645ms\n",
      "728:\tlearn: 0.2818224\ttotal: 1.73s\tremaining: 643ms\n",
      "729:\tlearn: 0.2817082\ttotal: 1.73s\tremaining: 640ms\n",
      "730:\tlearn: 0.2816510\ttotal: 1.73s\tremaining: 638ms\n",
      "731:\tlearn: 0.2815767\ttotal: 1.73s\tremaining: 635ms\n",
      "732:\tlearn: 0.2815109\ttotal: 1.74s\tremaining: 633ms\n",
      "733:\tlearn: 0.2814526\ttotal: 1.74s\tremaining: 630ms\n",
      "734:\tlearn: 0.2813859\ttotal: 1.74s\tremaining: 628ms\n",
      "735:\tlearn: 0.2813248\ttotal: 1.74s\tremaining: 625ms\n",
      "736:\tlearn: 0.2812507\ttotal: 1.74s\tremaining: 623ms\n",
      "737:\tlearn: 0.2811660\ttotal: 1.75s\tremaining: 620ms\n",
      "738:\tlearn: 0.2811120\ttotal: 1.75s\tremaining: 618ms\n",
      "739:\tlearn: 0.2810261\ttotal: 1.75s\tremaining: 616ms\n",
      "740:\tlearn: 0.2809513\ttotal: 1.75s\tremaining: 613ms\n",
      "741:\tlearn: 0.2808736\ttotal: 1.76s\tremaining: 611ms\n",
      "742:\tlearn: 0.2808146\ttotal: 1.76s\tremaining: 608ms\n",
      "743:\tlearn: 0.2807056\ttotal: 1.76s\tremaining: 606ms\n",
      "744:\tlearn: 0.2806405\ttotal: 1.76s\tremaining: 603ms\n",
      "745:\tlearn: 0.2805844\ttotal: 1.76s\tremaining: 601ms\n",
      "746:\tlearn: 0.2805588\ttotal: 1.77s\tremaining: 598ms\n",
      "747:\tlearn: 0.2805062\ttotal: 1.77s\tremaining: 596ms\n",
      "748:\tlearn: 0.2804379\ttotal: 1.77s\tremaining: 593ms\n",
      "749:\tlearn: 0.2803789\ttotal: 1.77s\tremaining: 591ms\n",
      "750:\tlearn: 0.2802505\ttotal: 1.77s\tremaining: 588ms\n",
      "751:\tlearn: 0.2801938\ttotal: 1.78s\tremaining: 586ms\n",
      "752:\tlearn: 0.2801290\ttotal: 1.78s\tremaining: 583ms\n",
      "753:\tlearn: 0.2800799\ttotal: 1.78s\tremaining: 581ms\n",
      "754:\tlearn: 0.2799584\ttotal: 1.78s\tremaining: 578ms\n",
      "755:\tlearn: 0.2798564\ttotal: 1.78s\tremaining: 576ms\n",
      "756:\tlearn: 0.2797911\ttotal: 1.79s\tremaining: 574ms\n",
      "757:\tlearn: 0.2797241\ttotal: 1.79s\tremaining: 571ms\n",
      "758:\tlearn: 0.2796549\ttotal: 1.79s\tremaining: 569ms\n",
      "759:\tlearn: 0.2795818\ttotal: 1.79s\tremaining: 566ms\n",
      "760:\tlearn: 0.2794990\ttotal: 1.79s\tremaining: 564ms\n",
      "761:\tlearn: 0.2794479\ttotal: 1.8s\tremaining: 561ms\n",
      "762:\tlearn: 0.2793872\ttotal: 1.8s\tremaining: 559ms\n",
      "763:\tlearn: 0.2793032\ttotal: 1.8s\tremaining: 556ms\n",
      "764:\tlearn: 0.2791766\ttotal: 1.8s\tremaining: 554ms\n",
      "765:\tlearn: 0.2790816\ttotal: 1.8s\tremaining: 551ms\n",
      "766:\tlearn: 0.2790525\ttotal: 1.81s\tremaining: 549ms\n",
      "767:\tlearn: 0.2790044\ttotal: 1.81s\tremaining: 546ms\n",
      "768:\tlearn: 0.2789445\ttotal: 1.81s\tremaining: 544ms\n",
      "769:\tlearn: 0.2788880\ttotal: 1.81s\tremaining: 541ms\n",
      "770:\tlearn: 0.2787806\ttotal: 1.81s\tremaining: 539ms\n",
      "771:\tlearn: 0.2786946\ttotal: 1.82s\tremaining: 537ms\n",
      "772:\tlearn: 0.2785830\ttotal: 1.82s\tremaining: 534ms\n",
      "773:\tlearn: 0.2785548\ttotal: 1.82s\tremaining: 532ms\n",
      "774:\tlearn: 0.2785175\ttotal: 1.82s\tremaining: 529ms\n",
      "775:\tlearn: 0.2784098\ttotal: 1.82s\tremaining: 527ms\n",
      "776:\tlearn: 0.2783499\ttotal: 1.83s\tremaining: 524ms\n",
      "777:\tlearn: 0.2782503\ttotal: 1.83s\tremaining: 522ms\n",
      "778:\tlearn: 0.2781449\ttotal: 1.83s\tremaining: 520ms\n",
      "779:\tlearn: 0.2781042\ttotal: 1.83s\tremaining: 517ms\n",
      "780:\tlearn: 0.2780533\ttotal: 1.83s\tremaining: 515ms\n",
      "781:\tlearn: 0.2779729\ttotal: 1.84s\tremaining: 512ms\n",
      "782:\tlearn: 0.2778472\ttotal: 1.84s\tremaining: 510ms\n",
      "783:\tlearn: 0.2777481\ttotal: 1.84s\tremaining: 507ms\n",
      "784:\tlearn: 0.2776901\ttotal: 1.84s\tremaining: 505ms\n",
      "785:\tlearn: 0.2775805\ttotal: 1.84s\tremaining: 502ms\n",
      "786:\tlearn: 0.2775357\ttotal: 1.85s\tremaining: 500ms\n",
      "787:\tlearn: 0.2774869\ttotal: 1.85s\tremaining: 497ms\n",
      "788:\tlearn: 0.2774006\ttotal: 1.85s\tremaining: 495ms\n",
      "789:\tlearn: 0.2773415\ttotal: 1.85s\tremaining: 493ms\n",
      "790:\tlearn: 0.2772786\ttotal: 1.85s\tremaining: 490ms\n",
      "791:\tlearn: 0.2771533\ttotal: 1.86s\tremaining: 488ms\n",
      "792:\tlearn: 0.2770815\ttotal: 1.86s\tremaining: 485ms\n",
      "793:\tlearn: 0.2770149\ttotal: 1.86s\tremaining: 483ms\n",
      "794:\tlearn: 0.2769576\ttotal: 1.86s\tremaining: 480ms\n",
      "795:\tlearn: 0.2768709\ttotal: 1.86s\tremaining: 478ms\n",
      "796:\tlearn: 0.2767399\ttotal: 1.87s\tremaining: 476ms\n",
      "797:\tlearn: 0.2766207\ttotal: 1.87s\tremaining: 473ms\n",
      "798:\tlearn: 0.2765336\ttotal: 1.87s\tremaining: 471ms\n",
      "799:\tlearn: 0.2764749\ttotal: 1.87s\tremaining: 468ms\n",
      "800:\tlearn: 0.2764224\ttotal: 1.88s\tremaining: 466ms\n",
      "801:\tlearn: 0.2763626\ttotal: 1.88s\tremaining: 463ms\n",
      "802:\tlearn: 0.2762616\ttotal: 1.88s\tremaining: 461ms\n",
      "803:\tlearn: 0.2761737\ttotal: 1.88s\tremaining: 459ms\n",
      "804:\tlearn: 0.2761230\ttotal: 1.88s\tremaining: 456ms\n",
      "805:\tlearn: 0.2760657\ttotal: 1.89s\tremaining: 454ms\n",
      "806:\tlearn: 0.2759365\ttotal: 1.89s\tremaining: 452ms\n",
      "807:\tlearn: 0.2758581\ttotal: 1.89s\tremaining: 449ms\n",
      "808:\tlearn: 0.2758171\ttotal: 1.89s\tremaining: 447ms\n",
      "809:\tlearn: 0.2757338\ttotal: 1.89s\tremaining: 444ms\n",
      "810:\tlearn: 0.2756906\ttotal: 1.9s\tremaining: 442ms\n",
      "811:\tlearn: 0.2756427\ttotal: 1.9s\tremaining: 440ms\n",
      "812:\tlearn: 0.2755639\ttotal: 1.9s\tremaining: 437ms\n",
      "813:\tlearn: 0.2755138\ttotal: 1.9s\tremaining: 435ms\n",
      "814:\tlearn: 0.2754416\ttotal: 1.9s\tremaining: 432ms\n",
      "815:\tlearn: 0.2753203\ttotal: 1.91s\tremaining: 430ms\n",
      "816:\tlearn: 0.2752805\ttotal: 1.91s\tremaining: 428ms\n",
      "817:\tlearn: 0.2751657\ttotal: 1.91s\tremaining: 425ms\n",
      "818:\tlearn: 0.2751090\ttotal: 1.91s\tremaining: 423ms\n",
      "819:\tlearn: 0.2750865\ttotal: 1.92s\tremaining: 420ms\n",
      "820:\tlearn: 0.2750342\ttotal: 1.92s\tremaining: 418ms\n",
      "821:\tlearn: 0.2749116\ttotal: 1.92s\tremaining: 416ms\n",
      "822:\tlearn: 0.2748262\ttotal: 1.92s\tremaining: 413ms\n",
      "823:\tlearn: 0.2747438\ttotal: 1.92s\tremaining: 411ms\n",
      "824:\tlearn: 0.2746449\ttotal: 1.93s\tremaining: 409ms\n",
      "825:\tlearn: 0.2745328\ttotal: 1.93s\tremaining: 406ms\n",
      "826:\tlearn: 0.2744838\ttotal: 1.93s\tremaining: 404ms\n",
      "827:\tlearn: 0.2743874\ttotal: 1.93s\tremaining: 402ms\n",
      "828:\tlearn: 0.2743435\ttotal: 1.94s\tremaining: 399ms\n",
      "829:\tlearn: 0.2742698\ttotal: 1.94s\tremaining: 397ms\n",
      "830:\tlearn: 0.2741780\ttotal: 1.94s\tremaining: 394ms\n",
      "831:\tlearn: 0.2741281\ttotal: 1.94s\tremaining: 392ms\n",
      "832:\tlearn: 0.2740484\ttotal: 1.94s\tremaining: 390ms\n",
      "833:\tlearn: 0.2739727\ttotal: 1.95s\tremaining: 387ms\n",
      "834:\tlearn: 0.2739027\ttotal: 1.95s\tremaining: 385ms\n",
      "835:\tlearn: 0.2738049\ttotal: 1.95s\tremaining: 383ms\n",
      "836:\tlearn: 0.2737781\ttotal: 1.95s\tremaining: 380ms\n",
      "837:\tlearn: 0.2737381\ttotal: 1.95s\tremaining: 378ms\n",
      "838:\tlearn: 0.2736538\ttotal: 1.96s\tremaining: 375ms\n",
      "839:\tlearn: 0.2736070\ttotal: 1.96s\tremaining: 373ms\n",
      "840:\tlearn: 0.2735165\ttotal: 1.96s\tremaining: 371ms\n",
      "841:\tlearn: 0.2734240\ttotal: 1.96s\tremaining: 368ms\n",
      "842:\tlearn: 0.2733799\ttotal: 1.97s\tremaining: 366ms\n",
      "843:\tlearn: 0.2733262\ttotal: 1.97s\tremaining: 364ms\n",
      "844:\tlearn: 0.2732348\ttotal: 1.97s\tremaining: 361ms\n",
      "845:\tlearn: 0.2731780\ttotal: 1.97s\tremaining: 359ms\n",
      "846:\tlearn: 0.2731555\ttotal: 1.97s\tremaining: 357ms\n",
      "847:\tlearn: 0.2731101\ttotal: 1.98s\tremaining: 354ms\n",
      "848:\tlearn: 0.2729979\ttotal: 1.98s\tremaining: 352ms\n",
      "849:\tlearn: 0.2729277\ttotal: 1.98s\tremaining: 350ms\n",
      "850:\tlearn: 0.2728656\ttotal: 1.98s\tremaining: 347ms\n",
      "851:\tlearn: 0.2727734\ttotal: 1.99s\tremaining: 345ms\n",
      "852:\tlearn: 0.2726535\ttotal: 1.99s\tremaining: 342ms\n",
      "853:\tlearn: 0.2725933\ttotal: 1.99s\tremaining: 340ms\n",
      "854:\tlearn: 0.2725406\ttotal: 1.99s\tremaining: 338ms\n",
      "855:\tlearn: 0.2724600\ttotal: 1.99s\tremaining: 335ms\n",
      "856:\tlearn: 0.2723212\ttotal: 2s\tremaining: 333ms\n",
      "857:\tlearn: 0.2722708\ttotal: 2s\tremaining: 331ms\n",
      "858:\tlearn: 0.2721969\ttotal: 2s\tremaining: 328ms\n",
      "859:\tlearn: 0.2721427\ttotal: 2s\tremaining: 326ms\n",
      "860:\tlearn: 0.2720569\ttotal: 2s\tremaining: 324ms\n",
      "861:\tlearn: 0.2719270\ttotal: 2.01s\tremaining: 321ms\n",
      "862:\tlearn: 0.2718255\ttotal: 2.01s\tremaining: 319ms\n",
      "863:\tlearn: 0.2717752\ttotal: 2.01s\tremaining: 317ms\n",
      "864:\tlearn: 0.2716697\ttotal: 2.01s\tremaining: 314ms\n",
      "865:\tlearn: 0.2715938\ttotal: 2.02s\tremaining: 312ms\n",
      "866:\tlearn: 0.2714848\ttotal: 2.02s\tremaining: 310ms\n",
      "867:\tlearn: 0.2713614\ttotal: 2.02s\tremaining: 307ms\n",
      "868:\tlearn: 0.2712442\ttotal: 2.02s\tremaining: 305ms\n",
      "869:\tlearn: 0.2711788\ttotal: 2.02s\tremaining: 302ms\n",
      "870:\tlearn: 0.2711011\ttotal: 2.03s\tremaining: 300ms\n",
      "871:\tlearn: 0.2710596\ttotal: 2.03s\tremaining: 298ms\n",
      "872:\tlearn: 0.2709580\ttotal: 2.03s\tremaining: 295ms\n",
      "873:\tlearn: 0.2709164\ttotal: 2.03s\tremaining: 293ms\n",
      "874:\tlearn: 0.2708054\ttotal: 2.03s\tremaining: 291ms\n",
      "875:\tlearn: 0.2707300\ttotal: 2.04s\tremaining: 288ms\n",
      "876:\tlearn: 0.2706354\ttotal: 2.04s\tremaining: 286ms\n",
      "877:\tlearn: 0.2705977\ttotal: 2.04s\tremaining: 283ms\n",
      "878:\tlearn: 0.2705356\ttotal: 2.04s\tremaining: 281ms\n",
      "879:\tlearn: 0.2704581\ttotal: 2.04s\tremaining: 279ms\n",
      "880:\tlearn: 0.2704208\ttotal: 2.05s\tremaining: 276ms\n",
      "881:\tlearn: 0.2703692\ttotal: 2.05s\tremaining: 274ms\n",
      "882:\tlearn: 0.2702877\ttotal: 2.05s\tremaining: 272ms\n",
      "883:\tlearn: 0.2702203\ttotal: 2.05s\tremaining: 269ms\n",
      "884:\tlearn: 0.2701254\ttotal: 2.05s\tremaining: 267ms\n",
      "885:\tlearn: 0.2700354\ttotal: 2.06s\tremaining: 265ms\n",
      "886:\tlearn: 0.2699646\ttotal: 2.06s\tremaining: 262ms\n",
      "887:\tlearn: 0.2699062\ttotal: 2.06s\tremaining: 260ms\n",
      "888:\tlearn: 0.2698303\ttotal: 2.06s\tremaining: 258ms\n",
      "889:\tlearn: 0.2697849\ttotal: 2.06s\tremaining: 255ms\n",
      "890:\tlearn: 0.2697546\ttotal: 2.07s\tremaining: 253ms\n",
      "891:\tlearn: 0.2697135\ttotal: 2.07s\tremaining: 251ms\n",
      "892:\tlearn: 0.2696574\ttotal: 2.07s\tremaining: 248ms\n",
      "893:\tlearn: 0.2695928\ttotal: 2.07s\tremaining: 246ms\n",
      "894:\tlearn: 0.2695687\ttotal: 2.08s\tremaining: 244ms\n",
      "895:\tlearn: 0.2695051\ttotal: 2.08s\tremaining: 241ms\n",
      "896:\tlearn: 0.2694456\ttotal: 2.08s\tremaining: 239ms\n",
      "897:\tlearn: 0.2693505\ttotal: 2.08s\tremaining: 236ms\n",
      "898:\tlearn: 0.2693229\ttotal: 2.08s\tremaining: 234ms\n",
      "899:\tlearn: 0.2692800\ttotal: 2.09s\tremaining: 232ms\n",
      "900:\tlearn: 0.2692474\ttotal: 2.09s\tremaining: 229ms\n",
      "901:\tlearn: 0.2691881\ttotal: 2.09s\tremaining: 227ms\n",
      "902:\tlearn: 0.2691111\ttotal: 2.09s\tremaining: 225ms\n",
      "903:\tlearn: 0.2690671\ttotal: 2.09s\tremaining: 222ms\n",
      "904:\tlearn: 0.2690147\ttotal: 2.1s\tremaining: 220ms\n",
      "905:\tlearn: 0.2689530\ttotal: 2.1s\tremaining: 218ms\n",
      "906:\tlearn: 0.2688298\ttotal: 2.1s\tremaining: 215ms\n",
      "907:\tlearn: 0.2687440\ttotal: 2.1s\tremaining: 213ms\n",
      "908:\tlearn: 0.2686442\ttotal: 2.1s\tremaining: 211ms\n",
      "909:\tlearn: 0.2685801\ttotal: 2.11s\tremaining: 208ms\n",
      "910:\tlearn: 0.2685076\ttotal: 2.11s\tremaining: 206ms\n",
      "911:\tlearn: 0.2684024\ttotal: 2.11s\tremaining: 204ms\n",
      "912:\tlearn: 0.2683195\ttotal: 2.11s\tremaining: 201ms\n",
      "913:\tlearn: 0.2682558\ttotal: 2.12s\tremaining: 199ms\n",
      "914:\tlearn: 0.2682040\ttotal: 2.12s\tremaining: 197ms\n",
      "915:\tlearn: 0.2681475\ttotal: 2.12s\tremaining: 194ms\n",
      "916:\tlearn: 0.2680607\ttotal: 2.12s\tremaining: 192ms\n",
      "917:\tlearn: 0.2679887\ttotal: 2.12s\tremaining: 190ms\n",
      "918:\tlearn: 0.2679272\ttotal: 2.13s\tremaining: 187ms\n",
      "919:\tlearn: 0.2678683\ttotal: 2.13s\tremaining: 185ms\n",
      "920:\tlearn: 0.2678121\ttotal: 2.13s\tremaining: 183ms\n",
      "921:\tlearn: 0.2677153\ttotal: 2.13s\tremaining: 180ms\n",
      "922:\tlearn: 0.2676477\ttotal: 2.13s\tremaining: 178ms\n",
      "923:\tlearn: 0.2675845\ttotal: 2.13s\tremaining: 176ms\n",
      "924:\tlearn: 0.2674992\ttotal: 2.14s\tremaining: 173ms\n",
      "925:\tlearn: 0.2674378\ttotal: 2.14s\tremaining: 171ms\n",
      "926:\tlearn: 0.2673614\ttotal: 2.14s\tremaining: 169ms\n",
      "927:\tlearn: 0.2672914\ttotal: 2.14s\tremaining: 166ms\n",
      "928:\tlearn: 0.2672569\ttotal: 2.15s\tremaining: 164ms\n",
      "929:\tlearn: 0.2671788\ttotal: 2.15s\tremaining: 162ms\n",
      "930:\tlearn: 0.2670738\ttotal: 2.15s\tremaining: 159ms\n",
      "931:\tlearn: 0.2669938\ttotal: 2.15s\tremaining: 157ms\n",
      "932:\tlearn: 0.2669062\ttotal: 2.15s\tremaining: 155ms\n",
      "933:\tlearn: 0.2668322\ttotal: 2.15s\tremaining: 152ms\n",
      "934:\tlearn: 0.2667680\ttotal: 2.16s\tremaining: 150ms\n",
      "935:\tlearn: 0.2666803\ttotal: 2.16s\tremaining: 148ms\n",
      "936:\tlearn: 0.2665997\ttotal: 2.16s\tremaining: 145ms\n",
      "937:\tlearn: 0.2665587\ttotal: 2.16s\tremaining: 143ms\n",
      "938:\tlearn: 0.2664739\ttotal: 2.17s\tremaining: 141ms\n",
      "939:\tlearn: 0.2663603\ttotal: 2.17s\tremaining: 138ms\n",
      "940:\tlearn: 0.2662598\ttotal: 2.17s\tremaining: 136ms\n",
      "941:\tlearn: 0.2662034\ttotal: 2.17s\tremaining: 134ms\n",
      "942:\tlearn: 0.2661053\ttotal: 2.17s\tremaining: 131ms\n",
      "943:\tlearn: 0.2660831\ttotal: 2.17s\tremaining: 129ms\n",
      "944:\tlearn: 0.2660024\ttotal: 2.18s\tremaining: 127ms\n",
      "945:\tlearn: 0.2659197\ttotal: 2.18s\tremaining: 124ms\n",
      "946:\tlearn: 0.2658231\ttotal: 2.18s\tremaining: 122ms\n",
      "947:\tlearn: 0.2657539\ttotal: 2.18s\tremaining: 120ms\n",
      "948:\tlearn: 0.2656983\ttotal: 2.19s\tremaining: 117ms\n",
      "949:\tlearn: 0.2656443\ttotal: 2.19s\tremaining: 115ms\n",
      "950:\tlearn: 0.2655835\ttotal: 2.19s\tremaining: 113ms\n",
      "951:\tlearn: 0.2655653\ttotal: 2.19s\tremaining: 111ms\n",
      "952:\tlearn: 0.2654941\ttotal: 2.19s\tremaining: 108ms\n",
      "953:\tlearn: 0.2654792\ttotal: 2.2s\tremaining: 106ms\n",
      "954:\tlearn: 0.2654453\ttotal: 2.2s\tremaining: 104ms\n",
      "955:\tlearn: 0.2653634\ttotal: 2.2s\tremaining: 101ms\n",
      "956:\tlearn: 0.2653046\ttotal: 2.2s\tremaining: 99ms\n",
      "957:\tlearn: 0.2652512\ttotal: 2.2s\tremaining: 96.7ms\n",
      "958:\tlearn: 0.2651709\ttotal: 2.21s\tremaining: 94.3ms\n",
      "959:\tlearn: 0.2650903\ttotal: 2.21s\tremaining: 92ms\n",
      "960:\tlearn: 0.2650332\ttotal: 2.21s\tremaining: 89.7ms\n",
      "961:\tlearn: 0.2649670\ttotal: 2.21s\tremaining: 87.4ms\n",
      "962:\tlearn: 0.2649133\ttotal: 2.21s\tremaining: 85.1ms\n",
      "963:\tlearn: 0.2648473\ttotal: 2.22s\tremaining: 82.8ms\n",
      "964:\tlearn: 0.2647920\ttotal: 2.22s\tremaining: 80.5ms\n",
      "965:\tlearn: 0.2647618\ttotal: 2.22s\tremaining: 78.2ms\n",
      "966:\tlearn: 0.2647095\ttotal: 2.22s\tremaining: 75.9ms\n",
      "967:\tlearn: 0.2646588\ttotal: 2.22s\tremaining: 73.5ms\n",
      "968:\tlearn: 0.2645963\ttotal: 2.23s\tremaining: 71.2ms\n",
      "969:\tlearn: 0.2645181\ttotal: 2.23s\tremaining: 68.9ms\n",
      "970:\tlearn: 0.2644496\ttotal: 2.23s\tremaining: 66.6ms\n",
      "971:\tlearn: 0.2643933\ttotal: 2.23s\tremaining: 64.3ms\n",
      "972:\tlearn: 0.2643727\ttotal: 2.23s\tremaining: 62ms\n",
      "973:\tlearn: 0.2643002\ttotal: 2.24s\tremaining: 59.7ms\n",
      "974:\tlearn: 0.2642451\ttotal: 2.24s\tremaining: 57.4ms\n",
      "975:\tlearn: 0.2641986\ttotal: 2.24s\tremaining: 55.1ms\n",
      "976:\tlearn: 0.2640773\ttotal: 2.24s\tremaining: 52.8ms\n",
      "977:\tlearn: 0.2639877\ttotal: 2.24s\tremaining: 50.5ms\n",
      "978:\tlearn: 0.2639193\ttotal: 2.25s\tremaining: 48.2ms\n",
      "979:\tlearn: 0.2637990\ttotal: 2.25s\tremaining: 45.9ms\n",
      "980:\tlearn: 0.2637028\ttotal: 2.25s\tremaining: 43.6ms\n",
      "981:\tlearn: 0.2636456\ttotal: 2.25s\tremaining: 41.3ms\n",
      "982:\tlearn: 0.2635797\ttotal: 2.25s\tremaining: 39ms\n",
      "983:\tlearn: 0.2634995\ttotal: 2.26s\tremaining: 36.7ms\n",
      "984:\tlearn: 0.2634116\ttotal: 2.26s\tremaining: 34.4ms\n",
      "985:\tlearn: 0.2633337\ttotal: 2.26s\tremaining: 32.1ms\n",
      "986:\tlearn: 0.2632967\ttotal: 2.26s\tremaining: 29.8ms\n",
      "987:\tlearn: 0.2632574\ttotal: 2.27s\tremaining: 27.5ms\n",
      "988:\tlearn: 0.2631573\ttotal: 2.27s\tremaining: 25.2ms\n",
      "989:\tlearn: 0.2630750\ttotal: 2.27s\tremaining: 22.9ms\n",
      "990:\tlearn: 0.2629668\ttotal: 2.27s\tremaining: 20.6ms\n",
      "991:\tlearn: 0.2629333\ttotal: 2.27s\tremaining: 18.3ms\n",
      "992:\tlearn: 0.2629139\ttotal: 2.27s\tremaining: 16ms\n",
      "993:\tlearn: 0.2628642\ttotal: 2.28s\tremaining: 13.7ms\n",
      "994:\tlearn: 0.2627634\ttotal: 2.28s\tremaining: 11.5ms\n",
      "995:\tlearn: 0.2627080\ttotal: 2.28s\tremaining: 9.16ms\n",
      "996:\tlearn: 0.2626775\ttotal: 2.28s\tremaining: 6.87ms\n",
      "997:\tlearn: 0.2626063\ttotal: 2.29s\tremaining: 4.58ms\n",
      "998:\tlearn: 0.2625282\ttotal: 2.29s\tremaining: 2.29ms\n",
      "999:\tlearn: 0.2624886\ttotal: 2.29s\tremaining: 0us\n"
     ]
    }
   ],
   "source": [
    "# --- Imports ---\n",
    "import joblib\n",
    "from sklearn.linear_model import LogisticRegression\n",
    "from sklearn.svm import SVC\n",
    "from sklearn.tree import DecisionTreeClassifier\n",
    "from sklearn.ensemble import RandomForestClassifier\n",
    "from xgboost import XGBClassifier\n",
    "from catboost import CatBoostClassifier\n",
    "from sklearn.metrics import confusion_matrix, accuracy_score, f1_score, precision_score, recall_score\n",
    "\n",
    "# --- instantiate the models ---\n",
    "lr_classifier = LogisticRegression(random_state=42)\n",
    "svc_classifier = SVC(kernel='linear', random_state=42)\n",
    "dt_classifier = DecisionTreeClassifier(criterion='entropy', random_state=42)\n",
    "rf_classifier = RandomForestClassifier(n_estimators=100, criterion='entropy', random_state=42)\n",
    "xgb_classifier = XGBClassifier()\n",
    "cat_classifier = CatBoostClassifier()\n",
    "\n",
    "\n",
    "# --- Store models in a list ---\n",
    "models = [lr_classifier, svc_classifier, dt_classifier, \n",
    "          rf_classifier, xgb_classifier, cat_classifier]\n",
    "\n",
    "\n",
    "# --- Train and save models ---\n",
    "for model in models:\n",
    "    # Reset the data\n",
    "    X_train = X_train_original.copy()\n",
    "    X_test = X_test_original.copy()\n",
    "    y_train = y_train_original.copy()\n",
    "    y_test = y_test_original.copy()\n",
    "    \n",
    "    model.fit(X_train, y_train)\n",
    "    \n",
    "    joblib.dump(model, f'{model.__class__.__name__}.pkl')\n",
    "\n",
    "    # Save model\n",
    "    model_name = model.__class__.__name__\n",
    "    joblib.dump(model, f\"{model_name}.pkl\")"
   ]
  }
 ],
 "metadata": {
  "kernelspec": {
   "display_name": ".venv",
   "language": "python",
   "name": "python3"
  },
  "language_info": {
   "codemirror_mode": {
    "name": "ipython",
    "version": 3
   },
   "file_extension": ".py",
   "mimetype": "text/x-python",
   "name": "python",
   "nbconvert_exporter": "python",
   "pygments_lexer": "ipython3",
   "version": "3.12.4"
  }
 },
 "nbformat": 4,
 "nbformat_minor": 5
}
