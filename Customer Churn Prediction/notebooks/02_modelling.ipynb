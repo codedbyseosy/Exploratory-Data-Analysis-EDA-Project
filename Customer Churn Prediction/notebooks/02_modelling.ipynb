{
 "cells": [
  {
   "cell_type": "markdown",
   "id": "e10dd639",
   "metadata": {},
   "source": [
    "# Building the Model"
   ]
  },
  {
   "cell_type": "markdown",
   "id": "105aa8e3",
   "metadata": {},
   "source": [
    "## 1. Data Preprocessing"
   ]
  },
  {
   "cell_type": "markdown",
   "id": "3dc7468a",
   "metadata": {},
   "source": [
    "### 1.1. Importing the libraries and dataset"
   ]
  },
  {
   "cell_type": "markdown",
   "id": "e5741e3d",
   "metadata": {},
   "source": [
    "#### 1.1.1. Loading the libraries"
   ]
  },
  {
   "cell_type": "code",
   "execution_count": 1,
   "id": "dbc32738",
   "metadata": {},
   "outputs": [],
   "source": [
    "import pandas as pd \n",
    "import numpy as np \n",
    "import matplotlib.pyplot as plt \n",
    "import seaborn as sns"
   ]
  },
  {
   "cell_type": "markdown",
   "id": "f3095b0c",
   "metadata": {},
   "source": [
    "#### 1.1.2. Importing the dataset"
   ]
  },
  {
   "cell_type": "code",
   "execution_count": 2,
   "id": "4952590e",
   "metadata": {},
   "outputs": [],
   "source": [
    "dataset_uncleaned = pd.read_csv('/Users/eseoseodion/Documents/Portfolio/Customer Churn Prediction/data/telco_customer_churn.csv')"
   ]
  },
  {
   "cell_type": "markdown",
   "id": "294d35f0",
   "metadata": {},
   "source": [
    "### 1.2. Cleaning the data"
   ]
  },
  {
   "cell_type": "markdown",
   "id": "87f71b0c",
   "metadata": {},
   "source": [
    "#### 1.2.1. Converting 'TotalCharges' into a numeric column"
   ]
  },
  {
   "cell_type": "code",
   "execution_count": 3,
   "id": "e4e63596",
   "metadata": {},
   "outputs": [],
   "source": [
    "dataset_uncleaned['TotalCharges'] = pd.to_numeric(dataset_uncleaned['TotalCharges'], errors='coerce')"
   ]
  },
  {
   "cell_type": "markdown",
   "id": "79ca9d22",
   "metadata": {},
   "source": [
    "#### 1.2.2. Dropping rows with NaN (missing) values"
   ]
  },
  {
   "cell_type": "code",
   "execution_count": 4,
   "id": "488b8339",
   "metadata": {},
   "outputs": [],
   "source": [
    "dataset = dataset_uncleaned.dropna()"
   ]
  },
  {
   "cell_type": "markdown",
   "id": "07e89da5",
   "metadata": {},
   "source": [
    "#### 1.2.3. Confirming if there are still any missing values"
   ]
  },
  {
   "cell_type": "code",
   "execution_count": 5,
   "id": "7aa1842b",
   "metadata": {},
   "outputs": [
    {
     "name": "stdout",
     "output_type": "stream",
     "text": [
      "customerID          0\n",
      "gender              0\n",
      "SeniorCitizen       0\n",
      "Partner             0\n",
      "Dependents          0\n",
      "tenure              0\n",
      "PhoneService        0\n",
      "MultipleLines       0\n",
      "InternetService     0\n",
      "OnlineSecurity      0\n",
      "OnlineBackup        0\n",
      "DeviceProtection    0\n",
      "TechSupport         0\n",
      "StreamingTV         0\n",
      "StreamingMovies     0\n",
      "Contract            0\n",
      "PaperlessBilling    0\n",
      "PaymentMethod       0\n",
      "MonthlyCharges      0\n",
      "TotalCharges        0\n",
      "Churn               0\n",
      "dtype: int64\n"
     ]
    }
   ],
   "source": [
    "# Check for missing values\n",
    "print(dataset.isnull().sum())"
   ]
  },
  {
   "cell_type": "markdown",
   "id": "c1d348dc",
   "metadata": {},
   "source": [
    "Dataset is now clean."
   ]
  },
  {
   "cell_type": "code",
   "execution_count": 6,
   "id": "243aee06",
   "metadata": {},
   "outputs": [
    {
     "data": {
      "text/plain": [
       "(7032, 21)"
      ]
     },
     "execution_count": 6,
     "metadata": {},
     "output_type": "execute_result"
    }
   ],
   "source": [
    "dataset.shape"
   ]
  },
  {
   "cell_type": "code",
   "execution_count": 7,
   "id": "b732b4fd",
   "metadata": {},
   "outputs": [
    {
     "name": "stdout",
     "output_type": "stream",
     "text": [
      "Numerical columns:\n",
      " Index(['SeniorCitizen', 'tenure', 'MonthlyCharges', 'TotalCharges'], dtype='object')\n",
      "\n",
      "Categorical columns:\n",
      " Index(['customerID', 'gender', 'Partner', 'Dependents', 'PhoneService',\n",
      "       'MultipleLines', 'InternetService', 'OnlineSecurity', 'OnlineBackup',\n",
      "       'DeviceProtection', 'TechSupport', 'StreamingTV', 'StreamingMovies',\n",
      "       'Contract', 'PaperlessBilling', 'PaymentMethod', 'Churn'],\n",
      "      dtype='object')\n"
     ]
    }
   ],
   "source": [
    "numerical = dataset.select_dtypes(include=['number']).columns\n",
    "categorical = dataset.select_dtypes(include=['object']).columns\n",
    "\n",
    "print(\"Numerical columns:\\n\", numerical)\n",
    "print(\"\\nCategorical columns:\\n\", categorical)"
   ]
  },
  {
   "cell_type": "code",
   "execution_count": 8,
   "id": "665113ae",
   "metadata": {},
   "outputs": [
    {
     "name": "stdout",
     "output_type": "stream",
     "text": [
      "Unique Values for the 'customerID' Column\n",
      "['7590-VHVEG' '5575-GNVDE' '3668-QPYBK' ... '4801-JZAZL' '8361-LTMKD'\n",
      " '3186-AJIEK']\n",
      "==================================================\n",
      "Unique Values for the 'gender' Column\n",
      "['Female' 'Male']\n",
      "==================================================\n",
      "Unique Values for the 'SeniorCitizen' Column\n",
      "[0 1]\n",
      "==================================================\n",
      "Unique Values for the 'Partner' Column\n",
      "['Yes' 'No']\n",
      "==================================================\n",
      "Unique Values for the 'Dependents' Column\n",
      "['No' 'Yes']\n",
      "==================================================\n",
      "Unique Values for the 'tenure' Column\n",
      "[ 1 34  2 45  8 22 10 28 62 13 16 58 49 25 69 52 71 21 12 30 47 72 17 27\n",
      "  5 46 11 70 63 43 15 60 18 66  9  3 31 50 64 56  7 42 35 48 29 65 38 68\n",
      " 32 55 37 36 41  6  4 33 67 23 57 61 14 20 53 40 59 24 44 19 54 51 26 39]\n",
      "==================================================\n",
      "Unique Values for the 'PhoneService' Column\n",
      "['No' 'Yes']\n",
      "==================================================\n",
      "Unique Values for the 'MultipleLines' Column\n",
      "['No phone service' 'No' 'Yes']\n",
      "==================================================\n",
      "Unique Values for the 'InternetService' Column\n",
      "['DSL' 'Fiber optic' 'No']\n",
      "==================================================\n",
      "Unique Values for the 'OnlineSecurity' Column\n",
      "['No' 'Yes' 'No internet service']\n",
      "==================================================\n",
      "Unique Values for the 'OnlineBackup' Column\n",
      "['Yes' 'No' 'No internet service']\n",
      "==================================================\n",
      "Unique Values for the 'DeviceProtection' Column\n",
      "['No' 'Yes' 'No internet service']\n",
      "==================================================\n",
      "Unique Values for the 'TechSupport' Column\n",
      "['No' 'Yes' 'No internet service']\n",
      "==================================================\n",
      "Unique Values for the 'StreamingTV' Column\n",
      "['No' 'Yes' 'No internet service']\n",
      "==================================================\n",
      "Unique Values for the 'StreamingMovies' Column\n",
      "['No' 'Yes' 'No internet service']\n",
      "==================================================\n",
      "Unique Values for the 'Contract' Column\n",
      "['Month-to-month' 'One year' 'Two year']\n",
      "==================================================\n",
      "Unique Values for the 'PaperlessBilling' Column\n",
      "['Yes' 'No']\n",
      "==================================================\n",
      "Unique Values for the 'PaymentMethod' Column\n",
      "['Electronic check' 'Mailed check' 'Bank transfer (automatic)'\n",
      " 'Credit card (automatic)']\n",
      "==================================================\n",
      "Unique Values for the 'MonthlyCharges' Column\n",
      "[29.85 56.95 53.85 ... 63.1  44.2  78.7 ]\n",
      "==================================================\n",
      "Unique Values for the 'TotalCharges' Column\n",
      "[  29.85 1889.5   108.15 ...  346.45  306.6  6844.5 ]\n",
      "==================================================\n"
     ]
    }
   ],
   "source": [
    "columns = ['customerID', 'gender', 'SeniorCitizen', 'Partner',\n",
    "            'Dependents', 'tenure', 'PhoneService', 'MultipleLines', \n",
    "            'InternetService', 'OnlineSecurity', 'OnlineBackup', \n",
    "            'DeviceProtection', 'TechSupport', 'StreamingTV', \n",
    "            'StreamingMovies', 'Contract', 'PaperlessBilling', \n",
    "            'PaymentMethod', 'MonthlyCharges', 'TotalCharges']\n",
    "\n",
    "for col in columns:\n",
    "    print(f\"Unique Values for the '{col}' Column\")\n",
    "    print(dataset[col].unique())\n",
    "    print('=' * 50)"
   ]
  },
  {
   "cell_type": "markdown",
   "id": "a962fd75",
   "metadata": {},
   "source": [
    "### 1.3. Feature Engineering"
   ]
  },
  {
   "cell_type": "markdown",
   "id": "63e5778e",
   "metadata": {},
   "source": [
    "#### 1.3.1. Reducing redundancy and long labelling for improved readability"
   ]
  },
  {
   "cell_type": "code",
   "execution_count": 9,
   "id": "0a6c1d73",
   "metadata": {},
   "outputs": [
    {
     "name": "stderr",
     "output_type": "stream",
     "text": [
      "/var/folders/6v/w8nfkj8x66xc_mdtqnhljxq40000gn/T/ipykernel_3108/186974147.py:14: SettingWithCopyWarning: \n",
      "A value is trying to be set on a copy of a slice from a DataFrame.\n",
      "Try using .loc[row_indexer,col_indexer] = value instead\n",
      "\n",
      "See the caveats in the documentation: https://pandas.pydata.org/pandas-docs/stable/user_guide/indexing.html#returning-a-view-versus-a-copy\n",
      "  dataset[key] = dataset[key].replace(value, 'No')\n",
      "/var/folders/6v/w8nfkj8x66xc_mdtqnhljxq40000gn/T/ipykernel_3108/186974147.py:12: SettingWithCopyWarning: \n",
      "A value is trying to be set on a copy of a slice from a DataFrame.\n",
      "Try using .loc[row_indexer,col_indexer] = value instead\n",
      "\n",
      "See the caveats in the documentation: https://pandas.pydata.org/pandas-docs/stable/user_guide/indexing.html#returning-a-view-versus-a-copy\n",
      "  dataset[col] = dataset[col].replace(value, 'No')\n",
      "/var/folders/6v/w8nfkj8x66xc_mdtqnhljxq40000gn/T/ipykernel_3108/186974147.py:18: SettingWithCopyWarning: \n",
      "A value is trying to be set on a copy of a slice from a DataFrame.\n",
      "Try using .loc[row_indexer,col_indexer] = value instead\n",
      "\n",
      "See the caveats in the documentation: https://pandas.pydata.org/pandas-docs/stable/user_guide/indexing.html#returning-a-view-versus-a-copy\n",
      "  dataset['PaymentMethod'] = dataset['PaymentMethod'].replace({\n"
     ]
    }
   ],
   "source": [
    "# Define columns and values to replace\n",
    "cols_to_edit = {\n",
    "    'MultipleLines': 'No phone service',\n",
    "    ('OnlineSecurity',  'OnlineBackup', 'DeviceProtection', 'TechSupport', 'StreamingTV', 'StreamingMovies'): 'No internet service'\n",
    "}\n",
    "\n",
    "\n",
    "# Replace \"No phone/internet service\" with \"No\"\n",
    "for key, value in cols_to_edit.items():\n",
    "    if isinstance(key, tuple):\n",
    "        for col in key:\n",
    "            dataset[col] = dataset[col].replace(value, 'No')\n",
    "    else:\n",
    "        dataset[key] = dataset[key].replace(value, 'No')\n",
    "\n",
    "\n",
    "# Simplify PaymentMethod values\n",
    "dataset['PaymentMethod'] = dataset['PaymentMethod'].replace({\n",
    "    'Electronic check': 'Automatic',\n",
    "    'Mailed check': 'Manual',\n",
    "    'Bank transfer (automatic)': 'Automatic',\n",
    "    'Credit card (automatic)': 'Automatic',\n",
    "})"
   ]
  },
  {
   "cell_type": "markdown",
   "id": "8dba5ed2",
   "metadata": {},
   "source": [
    "This simplification could reveal trends like:\n",
    "\n",
    "- Manual payers being more likely to churn\n",
    "- Electronic check users being riskier"
   ]
  },
  {
   "cell_type": "markdown",
   "id": "260ec57c",
   "metadata": {},
   "source": [
    "#### 1.3.2. Addressing Skewness in 'MonthlyCharges' and 'TotalCharges'"
   ]
  },
  {
   "cell_type": "markdown",
   "id": "3e8518f1",
   "metadata": {},
   "source": [
    "Because both are right-skewed, the log1p transformation will be applied. "
   ]
  },
  {
   "cell_type": "code",
   "execution_count": 10,
   "id": "3534364b",
   "metadata": {},
   "outputs": [
    {
     "name": "stderr",
     "output_type": "stream",
     "text": [
      "/var/folders/6v/w8nfkj8x66xc_mdtqnhljxq40000gn/T/ipykernel_3108/2635752452.py:1: SettingWithCopyWarning: \n",
      "A value is trying to be set on a copy of a slice from a DataFrame.\n",
      "Try using .loc[row_indexer,col_indexer] = value instead\n",
      "\n",
      "See the caveats in the documentation: https://pandas.pydata.org/pandas-docs/stable/user_guide/indexing.html#returning-a-view-versus-a-copy\n",
      "  dataset['MonthlyCharges_log'] = np.log1p(dataset['MonthlyCharges'])\n",
      "/var/folders/6v/w8nfkj8x66xc_mdtqnhljxq40000gn/T/ipykernel_3108/2635752452.py:2: SettingWithCopyWarning: \n",
      "A value is trying to be set on a copy of a slice from a DataFrame.\n",
      "Try using .loc[row_indexer,col_indexer] = value instead\n",
      "\n",
      "See the caveats in the documentation: https://pandas.pydata.org/pandas-docs/stable/user_guide/indexing.html#returning-a-view-versus-a-copy\n",
      "  dataset['TotalCharges_log'] = np.log1p(dataset['TotalCharges'])\n"
     ]
    }
   ],
   "source": [
    "dataset['MonthlyCharges_log'] = np.log1p(dataset['MonthlyCharges'])\n",
    "dataset['TotalCharges_log'] = np.log1p(dataset['TotalCharges'])"
   ]
  },
  {
   "cell_type": "markdown",
   "id": "56dcc7f9",
   "metadata": {},
   "source": [
    "#### 1.3.3. Binning tenure into categories for modelling"
   ]
  },
  {
   "cell_type": "code",
   "execution_count": 11,
   "id": "a3358d38",
   "metadata": {},
   "outputs": [
    {
     "name": "stderr",
     "output_type": "stream",
     "text": [
      "/var/folders/6v/w8nfkj8x66xc_mdtqnhljxq40000gn/T/ipykernel_3108/4651080.py:3: SettingWithCopyWarning: \n",
      "A value is trying to be set on a copy of a slice from a DataFrame.\n",
      "Try using .loc[row_indexer,col_indexer] = value instead\n",
      "\n",
      "See the caveats in the documentation: https://pandas.pydata.org/pandas-docs/stable/user_guide/indexing.html#returning-a-view-versus-a-copy\n",
      "  dataset['tenure_bin'] = pd.cut(dataset['tenure'], bins=bins, labels=labels, right=False)\n"
     ]
    }
   ],
   "source": [
    "bins = [0, 12, 48, 72]\n",
    "labels = ['Short term', 'Mid term', 'Long term']\n",
    "dataset['tenure_bin'] = pd.cut(dataset['tenure'], bins=bins, labels=labels, right=False)"
   ]
  },
  {
   "cell_type": "markdown",
   "id": "742d9df1",
   "metadata": {},
   "source": [
    "##### Notes\n",
    "Perfect. This is a solid feature engineering step — binning makes trends more interpretable and sometimes improves tree-based model performance.\n",
    "\n",
    "❓ \"Should I keep the original column as well as the binned column?\"\n",
    "\n",
    "It depends on your goals:\n",
    "\n",
    "✅ Keep both if:\n",
    "\n",
    "    You're using a tree-based model (e.g., Random Forest, XGBoost) which handles numeric and categorical features well.\n",
    "\n",
    "    You want to give the model both raw precision and a more interpretable abstraction.\n",
    "\n",
    "🧹 Drop the original if:\n",
    "\n",
    "    You’re using models that don’t handle raw numeric data well or that perform better with simplified inputs (like logistic regression).\n",
    "\n",
    "    You want to reduce multicollinearity or complexity.\n",
    "\n",
    "🔁 Recommendation: Try it both ways and evaluate model performance — that’s the best teacher."
   ]
  },
  {
   "cell_type": "markdown",
   "id": "68c6e27e",
   "metadata": {},
   "source": [
    "#### 1.3.4. Calculating the 'EstimatedTotalCharges' vs 'TotalCharges'"
   ]
  },
  {
   "cell_type": "code",
   "execution_count": 12,
   "id": "6458e4ed",
   "metadata": {},
   "outputs": [
    {
     "name": "stderr",
     "output_type": "stream",
     "text": [
      "/var/folders/6v/w8nfkj8x66xc_mdtqnhljxq40000gn/T/ipykernel_3108/1157451705.py:1: SettingWithCopyWarning: \n",
      "A value is trying to be set on a copy of a slice from a DataFrame.\n",
      "Try using .loc[row_indexer,col_indexer] = value instead\n",
      "\n",
      "See the caveats in the documentation: https://pandas.pydata.org/pandas-docs/stable/user_guide/indexing.html#returning-a-view-versus-a-copy\n",
      "  dataset['EstimatedTotalCharges'] = dataset['MonthlyCharges'] * dataset['tenure']\n",
      "/var/folders/6v/w8nfkj8x66xc_mdtqnhljxq40000gn/T/ipykernel_3108/1157451705.py:2: SettingWithCopyWarning: \n",
      "A value is trying to be set on a copy of a slice from a DataFrame.\n",
      "Try using .loc[row_indexer,col_indexer] = value instead\n",
      "\n",
      "See the caveats in the documentation: https://pandas.pydata.org/pandas-docs/stable/user_guide/indexing.html#returning-a-view-versus-a-copy\n",
      "  dataset['EstimatedTotalCharges_log'] = np.log1p(dataset['EstimatedTotalCharges'])\n"
     ]
    },
    {
     "data": {
      "text/html": [
       "<div>\n",
       "<style scoped>\n",
       "    .dataframe tbody tr th:only-of-type {\n",
       "        vertical-align: middle;\n",
       "    }\n",
       "\n",
       "    .dataframe tbody tr th {\n",
       "        vertical-align: top;\n",
       "    }\n",
       "\n",
       "    .dataframe thead th {\n",
       "        text-align: right;\n",
       "    }\n",
       "</style>\n",
       "<table border=\"1\" class=\"dataframe\">\n",
       "  <thead>\n",
       "    <tr style=\"text-align: right;\">\n",
       "      <th></th>\n",
       "      <th>TotalCharges_log</th>\n",
       "      <th>EstimatedTotalCharges_log</th>\n",
       "    </tr>\n",
       "  </thead>\n",
       "  <tbody>\n",
       "    <tr>\n",
       "      <th>0</th>\n",
       "      <td>3.429137</td>\n",
       "      <td>3.429137</td>\n",
       "    </tr>\n",
       "    <tr>\n",
       "      <th>1</th>\n",
       "      <td>7.544597</td>\n",
       "      <td>7.569051</td>\n",
       "    </tr>\n",
       "    <tr>\n",
       "      <th>2</th>\n",
       "      <td>4.692723</td>\n",
       "      <td>4.688592</td>\n",
       "    </tr>\n",
       "    <tr>\n",
       "      <th>3</th>\n",
       "      <td>7.518471</td>\n",
       "      <td>7.551975</td>\n",
       "    </tr>\n",
       "    <tr>\n",
       "      <th>4</th>\n",
       "      <td>5.028148</td>\n",
       "      <td>4.958640</td>\n",
       "    </tr>\n",
       "    <tr>\n",
       "      <th>...</th>\n",
       "      <td>...</td>\n",
       "      <td>...</td>\n",
       "    </tr>\n",
       "    <tr>\n",
       "      <th>7038</th>\n",
       "      <td>7.596643</td>\n",
       "      <td>7.618841</td>\n",
       "    </tr>\n",
       "    <tr>\n",
       "      <th>7039</th>\n",
       "      <td>8.904345</td>\n",
       "      <td>8.913470</td>\n",
       "    </tr>\n",
       "    <tr>\n",
       "      <th>7040</th>\n",
       "      <td>5.850621</td>\n",
       "      <td>5.788736</td>\n",
       "    </tr>\n",
       "    <tr>\n",
       "      <th>7041</th>\n",
       "      <td>5.728800</td>\n",
       "      <td>5.699105</td>\n",
       "    </tr>\n",
       "    <tr>\n",
       "      <th>7042</th>\n",
       "      <td>8.831347</td>\n",
       "      <td>8.849930</td>\n",
       "    </tr>\n",
       "  </tbody>\n",
       "</table>\n",
       "<p>7032 rows × 2 columns</p>\n",
       "</div>"
      ],
      "text/plain": [
       "      TotalCharges_log  EstimatedTotalCharges_log\n",
       "0             3.429137                   3.429137\n",
       "1             7.544597                   7.569051\n",
       "2             4.692723                   4.688592\n",
       "3             7.518471                   7.551975\n",
       "4             5.028148                   4.958640\n",
       "...                ...                        ...\n",
       "7038          7.596643                   7.618841\n",
       "7039          8.904345                   8.913470\n",
       "7040          5.850621                   5.788736\n",
       "7041          5.728800                   5.699105\n",
       "7042          8.831347                   8.849930\n",
       "\n",
       "[7032 rows x 2 columns]"
      ]
     },
     "execution_count": 12,
     "metadata": {},
     "output_type": "execute_result"
    }
   ],
   "source": [
    "dataset['EstimatedTotalCharges'] = dataset['MonthlyCharges'] * dataset['tenure']\n",
    "dataset['EstimatedTotalCharges_log'] = np.log1p(dataset['EstimatedTotalCharges'])\n",
    "dataset[['TotalCharges_log', 'EstimatedTotalCharges_log']]"
   ]
  },
  {
   "cell_type": "markdown",
   "id": "30d95a11",
   "metadata": {},
   "source": [
    "#### 1.3.5. How far off is the reported TotalCharges from what we’d expect (MonthlyCharges * Tenure)?"
   ]
  },
  {
   "cell_type": "markdown",
   "id": "6c102757",
   "metadata": {},
   "source": [
    "- Positive charge_diff → They've paid more than expected (overpaid)\n",
    "- Negative charge_diff → They've paid less than expected (maybe due to waived fees, discounts, or churn interruptions) (underpaid)"
   ]
  },
  {
   "cell_type": "code",
   "execution_count": 13,
   "id": "78a1acf1",
   "metadata": {},
   "outputs": [
    {
     "name": "stderr",
     "output_type": "stream",
     "text": [
      "/var/folders/6v/w8nfkj8x66xc_mdtqnhljxq40000gn/T/ipykernel_3108/1923603203.py:1: SettingWithCopyWarning: \n",
      "A value is trying to be set on a copy of a slice from a DataFrame.\n",
      "Try using .loc[row_indexer,col_indexer] = value instead\n",
      "\n",
      "See the caveats in the documentation: https://pandas.pydata.org/pandas-docs/stable/user_guide/indexing.html#returning-a-view-versus-a-copy\n",
      "  dataset['charge_diff'] = dataset['TotalCharges'] - dataset['EstimatedTotalCharges']\n"
     ]
    },
    {
     "data": {
      "text/html": [
       "<div>\n",
       "<style scoped>\n",
       "    .dataframe tbody tr th:only-of-type {\n",
       "        vertical-align: middle;\n",
       "    }\n",
       "\n",
       "    .dataframe tbody tr th {\n",
       "        vertical-align: top;\n",
       "    }\n",
       "\n",
       "    .dataframe thead th {\n",
       "        text-align: right;\n",
       "    }\n",
       "</style>\n",
       "<table border=\"1\" class=\"dataframe\">\n",
       "  <thead>\n",
       "    <tr style=\"text-align: right;\">\n",
       "      <th></th>\n",
       "      <th>charge_diff</th>\n",
       "    </tr>\n",
       "  </thead>\n",
       "  <tbody>\n",
       "    <tr>\n",
       "      <th>0</th>\n",
       "      <td>0.00</td>\n",
       "    </tr>\n",
       "    <tr>\n",
       "      <th>1</th>\n",
       "      <td>-46.80</td>\n",
       "    </tr>\n",
       "    <tr>\n",
       "      <th>2</th>\n",
       "      <td>0.45</td>\n",
       "    </tr>\n",
       "    <tr>\n",
       "      <th>3</th>\n",
       "      <td>-62.75</td>\n",
       "    </tr>\n",
       "    <tr>\n",
       "      <th>4</th>\n",
       "      <td>10.25</td>\n",
       "    </tr>\n",
       "    <tr>\n",
       "      <th>...</th>\n",
       "      <td>...</td>\n",
       "    </tr>\n",
       "    <tr>\n",
       "      <th>7038</th>\n",
       "      <td>-44.70</td>\n",
       "    </tr>\n",
       "    <tr>\n",
       "      <th>7039</th>\n",
       "      <td>-67.50</td>\n",
       "    </tr>\n",
       "    <tr>\n",
       "      <th>7040</th>\n",
       "      <td>20.85</td>\n",
       "    </tr>\n",
       "    <tr>\n",
       "      <th>7041</th>\n",
       "      <td>9.00</td>\n",
       "    </tr>\n",
       "    <tr>\n",
       "      <th>7042</th>\n",
       "      <td>-128.40</td>\n",
       "    </tr>\n",
       "  </tbody>\n",
       "</table>\n",
       "<p>7032 rows × 1 columns</p>\n",
       "</div>"
      ],
      "text/plain": [
       "      charge_diff\n",
       "0            0.00\n",
       "1          -46.80\n",
       "2            0.45\n",
       "3          -62.75\n",
       "4           10.25\n",
       "...           ...\n",
       "7038       -44.70\n",
       "7039       -67.50\n",
       "7040        20.85\n",
       "7041         9.00\n",
       "7042      -128.40\n",
       "\n",
       "[7032 rows x 1 columns]"
      ]
     },
     "execution_count": 13,
     "metadata": {},
     "output_type": "execute_result"
    }
   ],
   "source": [
    "dataset['charge_diff'] = dataset['TotalCharges'] - dataset['EstimatedTotalCharges']\n",
    "dataset[['charge_diff']]"
   ]
  },
  {
   "cell_type": "markdown",
   "id": "ad086379",
   "metadata": {},
   "source": [
    "Useful because:\n",
    "\n",
    "- It may highlight billing issues, discounts, or partial months\n",
    "\n",
    "- Could be a proxy for irregularity in the customer's payment history"
   ]
  },
  {
   "cell_type": "markdown",
   "id": "67c7b139",
   "metadata": {},
   "source": [
    "#### 1.3.6. Was this customer undercharged or missing charges?"
   ]
  },
  {
   "cell_type": "code",
   "execution_count": 14,
   "id": "6b97a5eb",
   "metadata": {},
   "outputs": [
    {
     "name": "stderr",
     "output_type": "stream",
     "text": [
      "/var/folders/6v/w8nfkj8x66xc_mdtqnhljxq40000gn/T/ipykernel_3108/1717805244.py:1: SettingWithCopyWarning: \n",
      "A value is trying to be set on a copy of a slice from a DataFrame.\n",
      "Try using .loc[row_indexer,col_indexer] = value instead\n",
      "\n",
      "See the caveats in the documentation: https://pandas.pydata.org/pandas-docs/stable/user_guide/indexing.html#returning-a-view-versus-a-copy\n",
      "  dataset['missing_charge_flag'] = (dataset['TotalCharges'] < dataset['EstimatedTotalCharges']) * 1\n"
     ]
    }
   ],
   "source": [
    "dataset['missing_charge_flag'] = (dataset['TotalCharges'] < dataset['EstimatedTotalCharges']) * 1"
   ]
  },
  {
   "cell_type": "markdown",
   "id": "24d72a5d",
   "metadata": {},
   "source": [
    "Useful because:\n",
    "\n",
    "- Models like logistic regression or decision trees sometimes perform better with binary flags than continuous deltas\n",
    "\n",
    "- It might signal customers just starting service, who are more likely to churn early"
   ]
  },
  {
   "cell_type": "markdown",
   "id": "bab4f76a",
   "metadata": {},
   "source": [
    "Try training your model with and without those features, and check:\n",
    "\n",
    "- Accuracy / ROC AUC\n",
    "\n",
    "- Feature importance (if using tree-based models)\n",
    "\n",
    "- SHAP values (for interpretation)"
   ]
  },
  {
   "cell_type": "markdown",
   "id": "f98a2e99",
   "metadata": {},
   "source": [
    "#### 1.3.7. Combining 'Contract' & 'Tenure'"
   ]
  },
  {
   "cell_type": "markdown",
   "id": "a4a763b5",
   "metadata": {},
   "source": [
    "What does Contract tell us?\n",
    "| Contract       | What it means                        |\n",
    "| -------------- | ------------------------------------ |\n",
    "| Month-to-month | Can cancel any time (low commitment) |\n",
    "| One year       | Committed to 12 months               |\n",
    "| Two year       | Committed to 24 months               |\n",
    "\n",
    "What does Tenure tell us?\n",
    "It shows how long they've already been a customer.\n",
    "1 = just joined\n",
    "12 = 1 year\n",
    "36 = 3 years\n",
    "etc.\n",
    "\n",
    "\n",
    "What does combining them tell us?\n",
    "“How long has this person stayed, relative to the contract they signed?”\n",
    "\n",
    "\n",
    "| Contract       | Tenure | What it might mean              |\n",
    "| -------------- | ------ | ------------------------------- |\n",
    "| Month-to-month | 1      | Just joined, no loyalty yet     |\n",
    "| Month-to-month | 36     | Loyal despite no long contract  |\n",
    "| One year       | 12     | Finished one year contract      |\n",
    "| One year       | 24     | Renewed once                    |\n",
    "| Two year       | 3      | Just started long-term contract |\n"
   ]
  },
  {
   "cell_type": "markdown",
   "id": "3e08f9fa",
   "metadata": {},
   "source": [
    "##### 1.3.7.1. Loyalty flag"
   ]
  },
  {
   "cell_type": "code",
   "execution_count": 15,
   "id": "7945a058",
   "metadata": {},
   "outputs": [
    {
     "name": "stderr",
     "output_type": "stream",
     "text": [
      "/var/folders/6v/w8nfkj8x66xc_mdtqnhljxq40000gn/T/ipykernel_3108/342980216.py:1: SettingWithCopyWarning: \n",
      "A value is trying to be set on a copy of a slice from a DataFrame.\n",
      "Try using .loc[row_indexer,col_indexer] = value instead\n",
      "\n",
      "See the caveats in the documentation: https://pandas.pydata.org/pandas-docs/stable/user_guide/indexing.html#returning-a-view-versus-a-copy\n",
      "  dataset['contract_loyalty'] = (\n"
     ]
    }
   ],
   "source": [
    "dataset['contract_loyalty'] = (\n",
    "    (dataset['Contract'] != 'Month-to-month') & \n",
    "    (dataset['tenure'] > 12)).astype(int)"
   ]
  },
  {
   "cell_type": "markdown",
   "id": "0c38dfb9",
   "metadata": {},
   "source": [
    "What it means:\n",
    "- 1 → Has long contract and stayed over a year → likely loyal\n",
    "- 0 → Either on month-to-month or hasn’t stayed long"
   ]
  },
  {
   "cell_type": "markdown",
   "id": "349e4e7b",
   "metadata": {},
   "source": [
    "##### 1.3.7.2. Contract Progress"
   ]
  },
  {
   "cell_type": "code",
   "execution_count": 16,
   "id": "a6c7f0e0",
   "metadata": {},
   "outputs": [
    {
     "name": "stderr",
     "output_type": "stream",
     "text": [
      "/var/folders/6v/w8nfkj8x66xc_mdtqnhljxq40000gn/T/ipykernel_3108/2309875274.py:9: SettingWithCopyWarning: \n",
      "A value is trying to be set on a copy of a slice from a DataFrame.\n",
      "Try using .loc[row_indexer,col_indexer] = value instead\n",
      "\n",
      "See the caveats in the documentation: https://pandas.pydata.org/pandas-docs/stable/user_guide/indexing.html#returning-a-view-versus-a-copy\n",
      "  dataset['contract_length'] = dataset['Contract'].apply(contract_length)\n",
      "/var/folders/6v/w8nfkj8x66xc_mdtqnhljxq40000gn/T/ipykernel_3108/2309875274.py:10: SettingWithCopyWarning: \n",
      "A value is trying to be set on a copy of a slice from a DataFrame.\n",
      "Try using .loc[row_indexer,col_indexer] = value instead\n",
      "\n",
      "See the caveats in the documentation: https://pandas.pydata.org/pandas-docs/stable/user_guide/indexing.html#returning-a-view-versus-a-copy\n",
      "  dataset['contract_progress'] = (dataset['tenure'] / dataset['contract_length']).round(2)\n"
     ]
    }
   ],
   "source": [
    "def contract_length(contract):\n",
    "    if contract == 'Month-to-month':\n",
    "        return 1\n",
    "    elif contract == 'One year':\n",
    "        return 12\n",
    "    elif contract == 'Two year':\n",
    "        return 24\n",
    "    \n",
    "dataset['contract_length'] = dataset['Contract'].apply(contract_length)\n",
    "dataset['contract_progress'] = (dataset['tenure'] / dataset['contract_length']).round(2)"
   ]
  },
  {
   "cell_type": "markdown",
   "id": "1d7e59dc",
   "metadata": {},
   "source": [
    "What it means:\n",
    "- contract_progress = 1.0 → they finished their contract\n",
    "- *>1.0 → they renewed\n",
    "- <1.0 → still within contract\n",
    "\n",
    "This gives a numeric signal to the model about where the customer is in their commitment journey."
   ]
  },
  {
   "cell_type": "markdown",
   "id": "42ad7b65",
   "metadata": {},
   "source": [
    "#### 1.3.8. How many add-ons does a customer subscribe to"
   ]
  },
  {
   "cell_type": "code",
   "execution_count": 17,
   "id": "0f196a48",
   "metadata": {},
   "outputs": [
    {
     "name": "stderr",
     "output_type": "stream",
     "text": [
      "/var/folders/6v/w8nfkj8x66xc_mdtqnhljxq40000gn/T/ipykernel_3108/1284379579.py:4: SettingWithCopyWarning: \n",
      "A value is trying to be set on a copy of a slice from a DataFrame.\n",
      "Try using .loc[row_indexer,col_indexer] = value instead\n",
      "\n",
      "See the caveats in the documentation: https://pandas.pydata.org/pandas-docs/stable/user_guide/indexing.html#returning-a-view-versus-a-copy\n",
      "  dataset['ServiceCount'] = (dataset[service_cols] == 'Yes').sum(axis=1)\n"
     ]
    }
   ],
   "source": [
    "service_cols = ['PhoneService', 'MultipleLines', 'OnlineSecurity', 'OnlineBackup', 'DeviceProtection', \n",
    "                'TechSupport', 'StreamingTV', 'StreamingMovies']\n",
    "\n",
    "dataset['ServiceCount'] = (dataset[service_cols] == 'Yes').sum(axis=1)"
   ]
  },
  {
   "cell_type": "code",
   "execution_count": 18,
   "id": "73e023f2",
   "metadata": {},
   "outputs": [
    {
     "name": "stdout",
     "output_type": "stream",
     "text": [
      "[0 1 2 3 4 5 6 7 8]\n"
     ]
    }
   ],
   "source": [
    "print(np.sort(dataset['ServiceCount'].unique()))"
   ]
  },
  {
   "cell_type": "markdown",
   "id": "b5020de1",
   "metadata": {},
   "source": [
    "#### 1.3.9. How expensive was a customers service relative to how long they stuck around?"
   ]
  },
  {
   "cell_type": "code",
   "execution_count": 19,
   "id": "e7778b3a",
   "metadata": {},
   "outputs": [
    {
     "name": "stderr",
     "output_type": "stream",
     "text": [
      "/var/folders/6v/w8nfkj8x66xc_mdtqnhljxq40000gn/T/ipykernel_3108/3202030509.py:1: SettingWithCopyWarning: \n",
      "A value is trying to be set on a copy of a slice from a DataFrame.\n",
      "Try using .loc[row_indexer,col_indexer] = value instead\n",
      "\n",
      "See the caveats in the documentation: https://pandas.pydata.org/pandas-docs/stable/user_guide/indexing.html#returning-a-view-versus-a-copy\n",
      "  dataset['charge_tenure_ratio'] = (dataset['MonthlyCharges'] / (dataset['tenure'] + 1)).round(2)\n",
      "/var/folders/6v/w8nfkj8x66xc_mdtqnhljxq40000gn/T/ipykernel_3108/3202030509.py:2: SettingWithCopyWarning: \n",
      "A value is trying to be set on a copy of a slice from a DataFrame.\n",
      "Try using .loc[row_indexer,col_indexer] = value instead\n",
      "\n",
      "See the caveats in the documentation: https://pandas.pydata.org/pandas-docs/stable/user_guide/indexing.html#returning-a-view-versus-a-copy\n",
      "  dataset['charge_tenure_ratio_log'] = np.log1p(dataset['charge_tenure_ratio']).round(2)\n"
     ]
    }
   ],
   "source": [
    "dataset['charge_tenure_ratio'] = (dataset['MonthlyCharges'] / (dataset['tenure'] + 1)).round(2)\n",
    "dataset['charge_tenure_ratio_log'] = np.log1p(dataset['charge_tenure_ratio']).round(2)"
   ]
  },
  {
   "cell_type": "markdown",
   "id": "82cbdbc3",
   "metadata": {},
   "source": [
    "#### 1.3.10. Could a deeply engaged customer on a longer plan be less likely to leave? (Many Services + One‑year Contract)"
   ]
  },
  {
   "cell_type": "markdown",
   "id": "45311f21",
   "metadata": {},
   "source": [
    "- “Deeply engaged” → ServicesCount is high\n",
    "- “On a longer plan” → Contract is either 'One year' or 'Two year'\n",
    "\n",
    "What metric is used to decide when a customer is deeply engaged?"
   ]
  },
  {
   "cell_type": "code",
   "execution_count": 20,
   "id": "585d65a2",
   "metadata": {},
   "outputs": [
    {
     "data": {
      "text/plain": [
       "ServiceCount\n",
       "1    1697\n",
       "2    1186\n",
       "3     965\n",
       "4     921\n",
       "5     906\n",
       "6     674\n",
       "7     395\n",
       "8     208\n",
       "0      80\n",
       "Name: count, dtype: int64"
      ]
     },
     "execution_count": 20,
     "metadata": {},
     "output_type": "execute_result"
    }
   ],
   "source": [
    "dataset['ServiceCount'].value_counts()"
   ]
  },
  {
   "cell_type": "code",
   "execution_count": 21,
   "id": "04635a27",
   "metadata": {},
   "outputs": [
    {
     "data": {
      "text/plain": [
       "count    7032.000000\n",
       "mean        3.363339\n",
       "std         2.062067\n",
       "min         0.000000\n",
       "25%         1.000000\n",
       "50%         3.000000\n",
       "75%         5.000000\n",
       "max         8.000000\n",
       "Name: ServiceCount, dtype: float64"
      ]
     },
     "execution_count": 21,
     "metadata": {},
     "output_type": "execute_result"
    }
   ],
   "source": [
    "dataset['ServiceCount'].describe()"
   ]
  },
  {
   "cell_type": "markdown",
   "id": "74b57e86",
   "metadata": {},
   "source": [
    "Summary of What the Data Says:\n",
    "- Most common values: 1–3 services\n",
    "- Median (50%): 3 services\n",
    "- 75th percentile: 5 services\n",
    "- Max: 8 services\n",
    "- Only 25% of customers have more than 5 services\n",
    "- Only ~21% (1495/7032) have 6 or more\n",
    "\n",
    "\n",
    "To define deep engagement, it makes sense to pick above-average users, not average ones.\n",
    "| Threshold | Label                        | % of customers |\n",
    "| --------- | ---------------------------- | -------------- |\n",
    "| ≥ 4       | Slightly above median        | \\~39%          |\n",
    "| ≥ 5       | 75th percentile or higher    | \\~26%          |\n",
    "| ≥ 6       | Top quartile (“power users”) | \\~21%          |\n"
   ]
  },
  {
   "cell_type": "markdown",
   "id": "dc08c362",
   "metadata": {},
   "source": [
    "Captures the top ~25% of customers with many subscribed services → engagement and ustomers on 1-year or 2-year contracts → loyalty\n"
   ]
  },
  {
   "cell_type": "code",
   "execution_count": 22,
   "id": "0787004d",
   "metadata": {},
   "outputs": [
    {
     "name": "stderr",
     "output_type": "stream",
     "text": [
      "/var/folders/6v/w8nfkj8x66xc_mdtqnhljxq40000gn/T/ipykernel_3108/2859296723.py:1: SettingWithCopyWarning: \n",
      "A value is trying to be set on a copy of a slice from a DataFrame.\n",
      "Try using .loc[row_indexer,col_indexer] = value instead\n",
      "\n",
      "See the caveats in the documentation: https://pandas.pydata.org/pandas-docs/stable/user_guide/indexing.html#returning-a-view-versus-a-copy\n",
      "  dataset['high_engagement_loyalty'] = (\n"
     ]
    }
   ],
   "source": [
    "dataset['high_engagement_loyalty'] = (\n",
    "    (dataset['ServiceCount'] >= 5) & \n",
    "    (dataset['contract_length'] >= 12)).astype(int)"
   ]
  },
  {
   "cell_type": "code",
   "execution_count": 23,
   "id": "c782627c",
   "metadata": {},
   "outputs": [
    {
     "data": {
      "text/plain": [
       "(7032, 35)"
      ]
     },
     "execution_count": 23,
     "metadata": {},
     "output_type": "execute_result"
    }
   ],
   "source": [
    "dataset.shape"
   ]
  },
  {
   "cell_type": "code",
   "execution_count": 24,
   "id": "b8475540",
   "metadata": {},
   "outputs": [
    {
     "data": {
      "text/html": [
       "<div>\n",
       "<style scoped>\n",
       "    .dataframe tbody tr th:only-of-type {\n",
       "        vertical-align: middle;\n",
       "    }\n",
       "\n",
       "    .dataframe tbody tr th {\n",
       "        vertical-align: top;\n",
       "    }\n",
       "\n",
       "    .dataframe thead th {\n",
       "        text-align: right;\n",
       "    }\n",
       "</style>\n",
       "<table border=\"1\" class=\"dataframe\">\n",
       "  <thead>\n",
       "    <tr style=\"text-align: right;\">\n",
       "      <th></th>\n",
       "      <th>customerID</th>\n",
       "      <th>gender</th>\n",
       "      <th>SeniorCitizen</th>\n",
       "      <th>Partner</th>\n",
       "      <th>Dependents</th>\n",
       "      <th>tenure</th>\n",
       "      <th>PhoneService</th>\n",
       "      <th>MultipleLines</th>\n",
       "      <th>InternetService</th>\n",
       "      <th>OnlineSecurity</th>\n",
       "      <th>...</th>\n",
       "      <th>EstimatedTotalCharges_log</th>\n",
       "      <th>charge_diff</th>\n",
       "      <th>missing_charge_flag</th>\n",
       "      <th>contract_loyalty</th>\n",
       "      <th>contract_length</th>\n",
       "      <th>contract_progress</th>\n",
       "      <th>ServiceCount</th>\n",
       "      <th>charge_tenure_ratio</th>\n",
       "      <th>charge_tenure_ratio_log</th>\n",
       "      <th>high_engagement_loyalty</th>\n",
       "    </tr>\n",
       "  </thead>\n",
       "  <tbody>\n",
       "    <tr>\n",
       "      <th>0</th>\n",
       "      <td>7590-VHVEG</td>\n",
       "      <td>Female</td>\n",
       "      <td>0</td>\n",
       "      <td>Yes</td>\n",
       "      <td>No</td>\n",
       "      <td>1</td>\n",
       "      <td>No</td>\n",
       "      <td>No</td>\n",
       "      <td>DSL</td>\n",
       "      <td>No</td>\n",
       "      <td>...</td>\n",
       "      <td>3.429137</td>\n",
       "      <td>0.00</td>\n",
       "      <td>0</td>\n",
       "      <td>0</td>\n",
       "      <td>1</td>\n",
       "      <td>1.00</td>\n",
       "      <td>1</td>\n",
       "      <td>14.92</td>\n",
       "      <td>2.77</td>\n",
       "      <td>0</td>\n",
       "    </tr>\n",
       "    <tr>\n",
       "      <th>1</th>\n",
       "      <td>5575-GNVDE</td>\n",
       "      <td>Male</td>\n",
       "      <td>0</td>\n",
       "      <td>No</td>\n",
       "      <td>No</td>\n",
       "      <td>34</td>\n",
       "      <td>Yes</td>\n",
       "      <td>No</td>\n",
       "      <td>DSL</td>\n",
       "      <td>Yes</td>\n",
       "      <td>...</td>\n",
       "      <td>7.569051</td>\n",
       "      <td>-46.80</td>\n",
       "      <td>1</td>\n",
       "      <td>1</td>\n",
       "      <td>12</td>\n",
       "      <td>2.83</td>\n",
       "      <td>3</td>\n",
       "      <td>1.63</td>\n",
       "      <td>0.97</td>\n",
       "      <td>0</td>\n",
       "    </tr>\n",
       "    <tr>\n",
       "      <th>2</th>\n",
       "      <td>3668-QPYBK</td>\n",
       "      <td>Male</td>\n",
       "      <td>0</td>\n",
       "      <td>No</td>\n",
       "      <td>No</td>\n",
       "      <td>2</td>\n",
       "      <td>Yes</td>\n",
       "      <td>No</td>\n",
       "      <td>DSL</td>\n",
       "      <td>Yes</td>\n",
       "      <td>...</td>\n",
       "      <td>4.688592</td>\n",
       "      <td>0.45</td>\n",
       "      <td>0</td>\n",
       "      <td>0</td>\n",
       "      <td>1</td>\n",
       "      <td>2.00</td>\n",
       "      <td>3</td>\n",
       "      <td>17.95</td>\n",
       "      <td>2.94</td>\n",
       "      <td>0</td>\n",
       "    </tr>\n",
       "    <tr>\n",
       "      <th>3</th>\n",
       "      <td>7795-CFOCW</td>\n",
       "      <td>Male</td>\n",
       "      <td>0</td>\n",
       "      <td>No</td>\n",
       "      <td>No</td>\n",
       "      <td>45</td>\n",
       "      <td>No</td>\n",
       "      <td>No</td>\n",
       "      <td>DSL</td>\n",
       "      <td>Yes</td>\n",
       "      <td>...</td>\n",
       "      <td>7.551975</td>\n",
       "      <td>-62.75</td>\n",
       "      <td>1</td>\n",
       "      <td>1</td>\n",
       "      <td>12</td>\n",
       "      <td>3.75</td>\n",
       "      <td>3</td>\n",
       "      <td>0.92</td>\n",
       "      <td>0.65</td>\n",
       "      <td>0</td>\n",
       "    </tr>\n",
       "    <tr>\n",
       "      <th>4</th>\n",
       "      <td>9237-HQITU</td>\n",
       "      <td>Female</td>\n",
       "      <td>0</td>\n",
       "      <td>No</td>\n",
       "      <td>No</td>\n",
       "      <td>2</td>\n",
       "      <td>Yes</td>\n",
       "      <td>No</td>\n",
       "      <td>Fiber optic</td>\n",
       "      <td>No</td>\n",
       "      <td>...</td>\n",
       "      <td>4.958640</td>\n",
       "      <td>10.25</td>\n",
       "      <td>0</td>\n",
       "      <td>0</td>\n",
       "      <td>1</td>\n",
       "      <td>2.00</td>\n",
       "      <td>1</td>\n",
       "      <td>23.57</td>\n",
       "      <td>3.20</td>\n",
       "      <td>0</td>\n",
       "    </tr>\n",
       "    <tr>\n",
       "      <th>5</th>\n",
       "      <td>9305-CDSKC</td>\n",
       "      <td>Female</td>\n",
       "      <td>0</td>\n",
       "      <td>No</td>\n",
       "      <td>No</td>\n",
       "      <td>8</td>\n",
       "      <td>Yes</td>\n",
       "      <td>Yes</td>\n",
       "      <td>Fiber optic</td>\n",
       "      <td>No</td>\n",
       "      <td>...</td>\n",
       "      <td>6.682359</td>\n",
       "      <td>23.30</td>\n",
       "      <td>0</td>\n",
       "      <td>0</td>\n",
       "      <td>1</td>\n",
       "      <td>8.00</td>\n",
       "      <td>5</td>\n",
       "      <td>11.07</td>\n",
       "      <td>2.49</td>\n",
       "      <td>0</td>\n",
       "    </tr>\n",
       "    <tr>\n",
       "      <th>6</th>\n",
       "      <td>1452-KIOVK</td>\n",
       "      <td>Male</td>\n",
       "      <td>0</td>\n",
       "      <td>No</td>\n",
       "      <td>Yes</td>\n",
       "      <td>22</td>\n",
       "      <td>Yes</td>\n",
       "      <td>Yes</td>\n",
       "      <td>Fiber optic</td>\n",
       "      <td>No</td>\n",
       "      <td>...</td>\n",
       "      <td>7.581312</td>\n",
       "      <td>-10.80</td>\n",
       "      <td>1</td>\n",
       "      <td>0</td>\n",
       "      <td>1</td>\n",
       "      <td>22.00</td>\n",
       "      <td>4</td>\n",
       "      <td>3.87</td>\n",
       "      <td>1.58</td>\n",
       "      <td>0</td>\n",
       "    </tr>\n",
       "    <tr>\n",
       "      <th>7</th>\n",
       "      <td>6713-OKOMC</td>\n",
       "      <td>Female</td>\n",
       "      <td>0</td>\n",
       "      <td>No</td>\n",
       "      <td>No</td>\n",
       "      <td>10</td>\n",
       "      <td>No</td>\n",
       "      <td>No</td>\n",
       "      <td>DSL</td>\n",
       "      <td>Yes</td>\n",
       "      <td>...</td>\n",
       "      <td>5.698770</td>\n",
       "      <td>4.40</td>\n",
       "      <td>0</td>\n",
       "      <td>0</td>\n",
       "      <td>1</td>\n",
       "      <td>10.00</td>\n",
       "      <td>1</td>\n",
       "      <td>2.70</td>\n",
       "      <td>1.31</td>\n",
       "      <td>0</td>\n",
       "    </tr>\n",
       "    <tr>\n",
       "      <th>8</th>\n",
       "      <td>7892-POOKP</td>\n",
       "      <td>Female</td>\n",
       "      <td>0</td>\n",
       "      <td>Yes</td>\n",
       "      <td>No</td>\n",
       "      <td>28</td>\n",
       "      <td>Yes</td>\n",
       "      <td>Yes</td>\n",
       "      <td>Fiber optic</td>\n",
       "      <td>No</td>\n",
       "      <td>...</td>\n",
       "      <td>7.984599</td>\n",
       "      <td>111.65</td>\n",
       "      <td>0</td>\n",
       "      <td>0</td>\n",
       "      <td>1</td>\n",
       "      <td>28.00</td>\n",
       "      <td>6</td>\n",
       "      <td>3.61</td>\n",
       "      <td>1.53</td>\n",
       "      <td>0</td>\n",
       "    </tr>\n",
       "    <tr>\n",
       "      <th>9</th>\n",
       "      <td>6388-TABGU</td>\n",
       "      <td>Male</td>\n",
       "      <td>0</td>\n",
       "      <td>No</td>\n",
       "      <td>Yes</td>\n",
       "      <td>62</td>\n",
       "      <td>Yes</td>\n",
       "      <td>No</td>\n",
       "      <td>DSL</td>\n",
       "      <td>Yes</td>\n",
       "      <td>...</td>\n",
       "      <td>8.155448</td>\n",
       "      <td>6.65</td>\n",
       "      <td>0</td>\n",
       "      <td>1</td>\n",
       "      <td>12</td>\n",
       "      <td>5.17</td>\n",
       "      <td>3</td>\n",
       "      <td>0.89</td>\n",
       "      <td>0.64</td>\n",
       "      <td>0</td>\n",
       "    </tr>\n",
       "  </tbody>\n",
       "</table>\n",
       "<p>10 rows × 35 columns</p>\n",
       "</div>"
      ],
      "text/plain": [
       "   customerID  gender  SeniorCitizen Partner Dependents  tenure PhoneService  \\\n",
       "0  7590-VHVEG  Female              0     Yes         No       1           No   \n",
       "1  5575-GNVDE    Male              0      No         No      34          Yes   \n",
       "2  3668-QPYBK    Male              0      No         No       2          Yes   \n",
       "3  7795-CFOCW    Male              0      No         No      45           No   \n",
       "4  9237-HQITU  Female              0      No         No       2          Yes   \n",
       "5  9305-CDSKC  Female              0      No         No       8          Yes   \n",
       "6  1452-KIOVK    Male              0      No        Yes      22          Yes   \n",
       "7  6713-OKOMC  Female              0      No         No      10           No   \n",
       "8  7892-POOKP  Female              0     Yes         No      28          Yes   \n",
       "9  6388-TABGU    Male              0      No        Yes      62          Yes   \n",
       "\n",
       "  MultipleLines InternetService OnlineSecurity  ... EstimatedTotalCharges_log  \\\n",
       "0            No             DSL             No  ...                  3.429137   \n",
       "1            No             DSL            Yes  ...                  7.569051   \n",
       "2            No             DSL            Yes  ...                  4.688592   \n",
       "3            No             DSL            Yes  ...                  7.551975   \n",
       "4            No     Fiber optic             No  ...                  4.958640   \n",
       "5           Yes     Fiber optic             No  ...                  6.682359   \n",
       "6           Yes     Fiber optic             No  ...                  7.581312   \n",
       "7            No             DSL            Yes  ...                  5.698770   \n",
       "8           Yes     Fiber optic             No  ...                  7.984599   \n",
       "9            No             DSL            Yes  ...                  8.155448   \n",
       "\n",
       "  charge_diff missing_charge_flag contract_loyalty contract_length  \\\n",
       "0        0.00                   0                0               1   \n",
       "1      -46.80                   1                1              12   \n",
       "2        0.45                   0                0               1   \n",
       "3      -62.75                   1                1              12   \n",
       "4       10.25                   0                0               1   \n",
       "5       23.30                   0                0               1   \n",
       "6      -10.80                   1                0               1   \n",
       "7        4.40                   0                0               1   \n",
       "8      111.65                   0                0               1   \n",
       "9        6.65                   0                1              12   \n",
       "\n",
       "  contract_progress ServiceCount charge_tenure_ratio  charge_tenure_ratio_log  \\\n",
       "0              1.00            1               14.92                     2.77   \n",
       "1              2.83            3                1.63                     0.97   \n",
       "2              2.00            3               17.95                     2.94   \n",
       "3              3.75            3                0.92                     0.65   \n",
       "4              2.00            1               23.57                     3.20   \n",
       "5              8.00            5               11.07                     2.49   \n",
       "6             22.00            4                3.87                     1.58   \n",
       "7             10.00            1                2.70                     1.31   \n",
       "8             28.00            6                3.61                     1.53   \n",
       "9              5.17            3                0.89                     0.64   \n",
       "\n",
       "   high_engagement_loyalty  \n",
       "0                        0  \n",
       "1                        0  \n",
       "2                        0  \n",
       "3                        0  \n",
       "4                        0  \n",
       "5                        0  \n",
       "6                        0  \n",
       "7                        0  \n",
       "8                        0  \n",
       "9                        0  \n",
       "\n",
       "[10 rows x 35 columns]"
      ]
     },
     "execution_count": 24,
     "metadata": {},
     "output_type": "execute_result"
    }
   ],
   "source": [
    "dataset.head(10)"
   ]
  },
  {
   "cell_type": "code",
   "execution_count": 25,
   "id": "27aea602",
   "metadata": {},
   "outputs": [
    {
     "data": {
      "text/plain": [
       "Index(['customerID', 'gender', 'SeniorCitizen', 'Partner', 'Dependents',\n",
       "       'tenure', 'PhoneService', 'MultipleLines', 'InternetService',\n",
       "       'OnlineSecurity', 'OnlineBackup', 'DeviceProtection', 'TechSupport',\n",
       "       'StreamingTV', 'StreamingMovies', 'Contract', 'PaperlessBilling',\n",
       "       'PaymentMethod', 'MonthlyCharges', 'TotalCharges', 'Churn',\n",
       "       'MonthlyCharges_log', 'TotalCharges_log', 'tenure_bin',\n",
       "       'EstimatedTotalCharges', 'EstimatedTotalCharges_log', 'charge_diff',\n",
       "       'missing_charge_flag', 'contract_loyalty', 'contract_length',\n",
       "       'contract_progress', 'ServiceCount', 'charge_tenure_ratio',\n",
       "       'charge_tenure_ratio_log', 'high_engagement_loyalty'],\n",
       "      dtype='object')"
      ]
     },
     "execution_count": 25,
     "metadata": {},
     "output_type": "execute_result"
    }
   ],
   "source": [
    "dataset.columns"
   ]
  },
  {
   "cell_type": "markdown",
   "id": "77593e96",
   "metadata": {},
   "source": [
    "#### 1.3.11. Defining the matrix of features"
   ]
  },
  {
   "cell_type": "code",
   "execution_count": 26,
   "id": "36f9e589",
   "metadata": {},
   "outputs": [
    {
     "name": "stdout",
     "output_type": "stream",
     "text": [
      "<class 'pandas.core.frame.DataFrame'>\n",
      "\n",
      "\n"
     ]
    },
    {
     "data": {
      "text/html": [
       "<div>\n",
       "<style scoped>\n",
       "    .dataframe tbody tr th:only-of-type {\n",
       "        vertical-align: middle;\n",
       "    }\n",
       "\n",
       "    .dataframe tbody tr th {\n",
       "        vertical-align: top;\n",
       "    }\n",
       "\n",
       "    .dataframe thead th {\n",
       "        text-align: right;\n",
       "    }\n",
       "</style>\n",
       "<table border=\"1\" class=\"dataframe\">\n",
       "  <thead>\n",
       "    <tr style=\"text-align: right;\">\n",
       "      <th></th>\n",
       "      <th>gender</th>\n",
       "      <th>SeniorCitizen</th>\n",
       "      <th>Partner</th>\n",
       "      <th>Dependents</th>\n",
       "      <th>tenure</th>\n",
       "      <th>PhoneService</th>\n",
       "      <th>MultipleLines</th>\n",
       "      <th>InternetService</th>\n",
       "      <th>OnlineSecurity</th>\n",
       "      <th>OnlineBackup</th>\n",
       "      <th>...</th>\n",
       "      <th>tenure_bin</th>\n",
       "      <th>EstimatedTotalCharges_log</th>\n",
       "      <th>charge_diff</th>\n",
       "      <th>missing_charge_flag</th>\n",
       "      <th>contract_loyalty</th>\n",
       "      <th>contract_length</th>\n",
       "      <th>contract_progress</th>\n",
       "      <th>ServiceCount</th>\n",
       "      <th>charge_tenure_ratio_log</th>\n",
       "      <th>high_engagement_loyalty</th>\n",
       "    </tr>\n",
       "  </thead>\n",
       "  <tbody>\n",
       "    <tr>\n",
       "      <th>0</th>\n",
       "      <td>Female</td>\n",
       "      <td>0</td>\n",
       "      <td>Yes</td>\n",
       "      <td>No</td>\n",
       "      <td>1</td>\n",
       "      <td>No</td>\n",
       "      <td>No</td>\n",
       "      <td>DSL</td>\n",
       "      <td>No</td>\n",
       "      <td>Yes</td>\n",
       "      <td>...</td>\n",
       "      <td>Short term</td>\n",
       "      <td>3.429137</td>\n",
       "      <td>0.00</td>\n",
       "      <td>0</td>\n",
       "      <td>0</td>\n",
       "      <td>1</td>\n",
       "      <td>1.00</td>\n",
       "      <td>1</td>\n",
       "      <td>2.77</td>\n",
       "      <td>0</td>\n",
       "    </tr>\n",
       "    <tr>\n",
       "      <th>1</th>\n",
       "      <td>Male</td>\n",
       "      <td>0</td>\n",
       "      <td>No</td>\n",
       "      <td>No</td>\n",
       "      <td>34</td>\n",
       "      <td>Yes</td>\n",
       "      <td>No</td>\n",
       "      <td>DSL</td>\n",
       "      <td>Yes</td>\n",
       "      <td>No</td>\n",
       "      <td>...</td>\n",
       "      <td>Mid term</td>\n",
       "      <td>7.569051</td>\n",
       "      <td>-46.80</td>\n",
       "      <td>1</td>\n",
       "      <td>1</td>\n",
       "      <td>12</td>\n",
       "      <td>2.83</td>\n",
       "      <td>3</td>\n",
       "      <td>0.97</td>\n",
       "      <td>0</td>\n",
       "    </tr>\n",
       "    <tr>\n",
       "      <th>2</th>\n",
       "      <td>Male</td>\n",
       "      <td>0</td>\n",
       "      <td>No</td>\n",
       "      <td>No</td>\n",
       "      <td>2</td>\n",
       "      <td>Yes</td>\n",
       "      <td>No</td>\n",
       "      <td>DSL</td>\n",
       "      <td>Yes</td>\n",
       "      <td>Yes</td>\n",
       "      <td>...</td>\n",
       "      <td>Short term</td>\n",
       "      <td>4.688592</td>\n",
       "      <td>0.45</td>\n",
       "      <td>0</td>\n",
       "      <td>0</td>\n",
       "      <td>1</td>\n",
       "      <td>2.00</td>\n",
       "      <td>3</td>\n",
       "      <td>2.94</td>\n",
       "      <td>0</td>\n",
       "    </tr>\n",
       "    <tr>\n",
       "      <th>3</th>\n",
       "      <td>Male</td>\n",
       "      <td>0</td>\n",
       "      <td>No</td>\n",
       "      <td>No</td>\n",
       "      <td>45</td>\n",
       "      <td>No</td>\n",
       "      <td>No</td>\n",
       "      <td>DSL</td>\n",
       "      <td>Yes</td>\n",
       "      <td>No</td>\n",
       "      <td>...</td>\n",
       "      <td>Mid term</td>\n",
       "      <td>7.551975</td>\n",
       "      <td>-62.75</td>\n",
       "      <td>1</td>\n",
       "      <td>1</td>\n",
       "      <td>12</td>\n",
       "      <td>3.75</td>\n",
       "      <td>3</td>\n",
       "      <td>0.65</td>\n",
       "      <td>0</td>\n",
       "    </tr>\n",
       "    <tr>\n",
       "      <th>4</th>\n",
       "      <td>Female</td>\n",
       "      <td>0</td>\n",
       "      <td>No</td>\n",
       "      <td>No</td>\n",
       "      <td>2</td>\n",
       "      <td>Yes</td>\n",
       "      <td>No</td>\n",
       "      <td>Fiber optic</td>\n",
       "      <td>No</td>\n",
       "      <td>No</td>\n",
       "      <td>...</td>\n",
       "      <td>Short term</td>\n",
       "      <td>4.958640</td>\n",
       "      <td>10.25</td>\n",
       "      <td>0</td>\n",
       "      <td>0</td>\n",
       "      <td>1</td>\n",
       "      <td>2.00</td>\n",
       "      <td>1</td>\n",
       "      <td>3.20</td>\n",
       "      <td>0</td>\n",
       "    </tr>\n",
       "    <tr>\n",
       "      <th>5</th>\n",
       "      <td>Female</td>\n",
       "      <td>0</td>\n",
       "      <td>No</td>\n",
       "      <td>No</td>\n",
       "      <td>8</td>\n",
       "      <td>Yes</td>\n",
       "      <td>Yes</td>\n",
       "      <td>Fiber optic</td>\n",
       "      <td>No</td>\n",
       "      <td>No</td>\n",
       "      <td>...</td>\n",
       "      <td>Short term</td>\n",
       "      <td>6.682359</td>\n",
       "      <td>23.30</td>\n",
       "      <td>0</td>\n",
       "      <td>0</td>\n",
       "      <td>1</td>\n",
       "      <td>8.00</td>\n",
       "      <td>5</td>\n",
       "      <td>2.49</td>\n",
       "      <td>0</td>\n",
       "    </tr>\n",
       "    <tr>\n",
       "      <th>6</th>\n",
       "      <td>Male</td>\n",
       "      <td>0</td>\n",
       "      <td>No</td>\n",
       "      <td>Yes</td>\n",
       "      <td>22</td>\n",
       "      <td>Yes</td>\n",
       "      <td>Yes</td>\n",
       "      <td>Fiber optic</td>\n",
       "      <td>No</td>\n",
       "      <td>Yes</td>\n",
       "      <td>...</td>\n",
       "      <td>Mid term</td>\n",
       "      <td>7.581312</td>\n",
       "      <td>-10.80</td>\n",
       "      <td>1</td>\n",
       "      <td>0</td>\n",
       "      <td>1</td>\n",
       "      <td>22.00</td>\n",
       "      <td>4</td>\n",
       "      <td>1.58</td>\n",
       "      <td>0</td>\n",
       "    </tr>\n",
       "    <tr>\n",
       "      <th>7</th>\n",
       "      <td>Female</td>\n",
       "      <td>0</td>\n",
       "      <td>No</td>\n",
       "      <td>No</td>\n",
       "      <td>10</td>\n",
       "      <td>No</td>\n",
       "      <td>No</td>\n",
       "      <td>DSL</td>\n",
       "      <td>Yes</td>\n",
       "      <td>No</td>\n",
       "      <td>...</td>\n",
       "      <td>Short term</td>\n",
       "      <td>5.698770</td>\n",
       "      <td>4.40</td>\n",
       "      <td>0</td>\n",
       "      <td>0</td>\n",
       "      <td>1</td>\n",
       "      <td>10.00</td>\n",
       "      <td>1</td>\n",
       "      <td>1.31</td>\n",
       "      <td>0</td>\n",
       "    </tr>\n",
       "    <tr>\n",
       "      <th>8</th>\n",
       "      <td>Female</td>\n",
       "      <td>0</td>\n",
       "      <td>Yes</td>\n",
       "      <td>No</td>\n",
       "      <td>28</td>\n",
       "      <td>Yes</td>\n",
       "      <td>Yes</td>\n",
       "      <td>Fiber optic</td>\n",
       "      <td>No</td>\n",
       "      <td>No</td>\n",
       "      <td>...</td>\n",
       "      <td>Mid term</td>\n",
       "      <td>7.984599</td>\n",
       "      <td>111.65</td>\n",
       "      <td>0</td>\n",
       "      <td>0</td>\n",
       "      <td>1</td>\n",
       "      <td>28.00</td>\n",
       "      <td>6</td>\n",
       "      <td>1.53</td>\n",
       "      <td>0</td>\n",
       "    </tr>\n",
       "    <tr>\n",
       "      <th>9</th>\n",
       "      <td>Male</td>\n",
       "      <td>0</td>\n",
       "      <td>No</td>\n",
       "      <td>Yes</td>\n",
       "      <td>62</td>\n",
       "      <td>Yes</td>\n",
       "      <td>No</td>\n",
       "      <td>DSL</td>\n",
       "      <td>Yes</td>\n",
       "      <td>Yes</td>\n",
       "      <td>...</td>\n",
       "      <td>Long term</td>\n",
       "      <td>8.155448</td>\n",
       "      <td>6.65</td>\n",
       "      <td>0</td>\n",
       "      <td>1</td>\n",
       "      <td>12</td>\n",
       "      <td>5.17</td>\n",
       "      <td>3</td>\n",
       "      <td>0.64</td>\n",
       "      <td>0</td>\n",
       "    </tr>\n",
       "  </tbody>\n",
       "</table>\n",
       "<p>10 rows × 29 columns</p>\n",
       "</div>"
      ],
      "text/plain": [
       "   gender  SeniorCitizen Partner Dependents  tenure PhoneService  \\\n",
       "0  Female              0     Yes         No       1           No   \n",
       "1    Male              0      No         No      34          Yes   \n",
       "2    Male              0      No         No       2          Yes   \n",
       "3    Male              0      No         No      45           No   \n",
       "4  Female              0      No         No       2          Yes   \n",
       "5  Female              0      No         No       8          Yes   \n",
       "6    Male              0      No        Yes      22          Yes   \n",
       "7  Female              0      No         No      10           No   \n",
       "8  Female              0     Yes         No      28          Yes   \n",
       "9    Male              0      No        Yes      62          Yes   \n",
       "\n",
       "  MultipleLines InternetService OnlineSecurity OnlineBackup  ...  tenure_bin  \\\n",
       "0            No             DSL             No          Yes  ...  Short term   \n",
       "1            No             DSL            Yes           No  ...    Mid term   \n",
       "2            No             DSL            Yes          Yes  ...  Short term   \n",
       "3            No             DSL            Yes           No  ...    Mid term   \n",
       "4            No     Fiber optic             No           No  ...  Short term   \n",
       "5           Yes     Fiber optic             No           No  ...  Short term   \n",
       "6           Yes     Fiber optic             No          Yes  ...    Mid term   \n",
       "7            No             DSL            Yes           No  ...  Short term   \n",
       "8           Yes     Fiber optic             No           No  ...    Mid term   \n",
       "9            No             DSL            Yes          Yes  ...   Long term   \n",
       "\n",
       "  EstimatedTotalCharges_log charge_diff missing_charge_flag contract_loyalty  \\\n",
       "0                  3.429137        0.00                   0                0   \n",
       "1                  7.569051      -46.80                   1                1   \n",
       "2                  4.688592        0.45                   0                0   \n",
       "3                  7.551975      -62.75                   1                1   \n",
       "4                  4.958640       10.25                   0                0   \n",
       "5                  6.682359       23.30                   0                0   \n",
       "6                  7.581312      -10.80                   1                0   \n",
       "7                  5.698770        4.40                   0                0   \n",
       "8                  7.984599      111.65                   0                0   \n",
       "9                  8.155448        6.65                   0                1   \n",
       "\n",
       "  contract_length contract_progress  ServiceCount  charge_tenure_ratio_log  \\\n",
       "0               1              1.00             1                     2.77   \n",
       "1              12              2.83             3                     0.97   \n",
       "2               1              2.00             3                     2.94   \n",
       "3              12              3.75             3                     0.65   \n",
       "4               1              2.00             1                     3.20   \n",
       "5               1              8.00             5                     2.49   \n",
       "6               1             22.00             4                     1.58   \n",
       "7               1             10.00             1                     1.31   \n",
       "8               1             28.00             6                     1.53   \n",
       "9              12              5.17             3                     0.64   \n",
       "\n",
       "  high_engagement_loyalty  \n",
       "0                       0  \n",
       "1                       0  \n",
       "2                       0  \n",
       "3                       0  \n",
       "4                       0  \n",
       "5                       0  \n",
       "6                       0  \n",
       "7                       0  \n",
       "8                       0  \n",
       "9                       0  \n",
       "\n",
       "[10 rows x 29 columns]"
      ]
     },
     "execution_count": 26,
     "metadata": {},
     "output_type": "execute_result"
    }
   ],
   "source": [
    "# Defining the matrix of features\n",
    "cols_to_drop = ['customerID', 'TotalCharges', 'MonthlyCharges', 'EstimatedTotalCharges', 'charge_tenure_ratio', 'Churn']\n",
    "X_untransformed = dataset.drop(columns=cols_to_drop, axis=1)\n",
    "\n",
    "\n",
    "feature_names = X_untransformed.columns.tolist()\n",
    "\n",
    "\n",
    "# X_untransformed = dataset.iloc[:, 1:-1].copy()\n",
    "print(type(X_untransformed))\n",
    "\n",
    "print(\"\\n\")\n",
    "\n",
    "X_untransformed.head(10)"
   ]
  },
  {
   "cell_type": "code",
   "execution_count": 27,
   "id": "d480d81c",
   "metadata": {},
   "outputs": [
    {
     "data": {
      "text/plain": [
       "(7032, 29)"
      ]
     },
     "execution_count": 27,
     "metadata": {},
     "output_type": "execute_result"
    }
   ],
   "source": [
    "X_untransformed.shape"
   ]
  },
  {
   "cell_type": "code",
   "execution_count": 28,
   "id": "8b390f45",
   "metadata": {},
   "outputs": [
    {
     "data": {
      "text/plain": [
       "gender                         object\n",
       "SeniorCitizen                   int64\n",
       "Partner                        object\n",
       "Dependents                     object\n",
       "tenure                          int64\n",
       "PhoneService                   object\n",
       "MultipleLines                  object\n",
       "InternetService                object\n",
       "OnlineSecurity                 object\n",
       "OnlineBackup                   object\n",
       "DeviceProtection               object\n",
       "TechSupport                    object\n",
       "StreamingTV                    object\n",
       "StreamingMovies                object\n",
       "Contract                       object\n",
       "PaperlessBilling               object\n",
       "PaymentMethod                  object\n",
       "MonthlyCharges_log            float64\n",
       "TotalCharges_log              float64\n",
       "tenure_bin                   category\n",
       "EstimatedTotalCharges_log     float64\n",
       "charge_diff                   float64\n",
       "missing_charge_flag             int64\n",
       "contract_loyalty                int64\n",
       "contract_length                 int64\n",
       "contract_progress             float64\n",
       "ServiceCount                    int64\n",
       "charge_tenure_ratio_log       float64\n",
       "high_engagement_loyalty         int64\n",
       "dtype: object"
      ]
     },
     "execution_count": 28,
     "metadata": {},
     "output_type": "execute_result"
    }
   ],
   "source": [
    "X_untransformed.dtypes"
   ]
  },
  {
   "cell_type": "code",
   "execution_count": 29,
   "id": "4b423b17",
   "metadata": {},
   "outputs": [
    {
     "name": "stdout",
     "output_type": "stream",
     "text": [
      "Numerical cols: Index(['SeniorCitizen', 'tenure', 'MonthlyCharges_log', 'TotalCharges_log',\n",
      "       'EstimatedTotalCharges_log', 'charge_diff', 'missing_charge_flag',\n",
      "       'contract_loyalty', 'contract_length', 'contract_progress',\n",
      "       'ServiceCount', 'charge_tenure_ratio_log', 'high_engagement_loyalty'],\n",
      "      dtype='object')\n",
      "\n",
      "Categorical cols: Index(['gender', 'Partner', 'Dependents', 'PhoneService', 'MultipleLines',\n",
      "       'InternetService', 'OnlineSecurity', 'OnlineBackup', 'DeviceProtection',\n",
      "       'TechSupport', 'StreamingTV', 'StreamingMovies', 'Contract',\n",
      "       'PaperlessBilling', 'PaymentMethod'],\n",
      "      dtype='object')\n",
      "\n",
      "Categorical cols: Index(['tenure_bin'], dtype='object')\n"
     ]
    }
   ],
   "source": [
    "x_num = X_untransformed.select_dtypes(include=['number']).columns\n",
    "x_cat_1 = X_untransformed.select_dtypes(include=['object']).columns\n",
    "x_cat_2 = X_untransformed.select_dtypes(include=['category']).columns\n",
    "\n",
    "print(\"Numerical cols:\", x_num)\n",
    "print(\"\\nCategorical cols:\", x_cat_1)\n",
    "print(\"\\nCategorical cols:\", x_cat_2)"
   ]
  },
  {
   "cell_type": "code",
   "execution_count": 30,
   "id": "fa804151",
   "metadata": {},
   "outputs": [
    {
     "name": "stdout",
     "output_type": "stream",
     "text": [
      "Unique Values for the 'gender' Column\n",
      "['Female' 'Male']\n",
      "==================================================\n",
      "Unique Values for the 'Partner' Column\n",
      "['Yes' 'No']\n",
      "==================================================\n",
      "Unique Values for the 'Dependents' Column\n",
      "['No' 'Yes']\n",
      "==================================================\n",
      "Unique Values for the 'PhoneService' Column\n",
      "['No' 'Yes']\n",
      "==================================================\n",
      "Unique Values for the 'MultipleLines' Column\n",
      "['No' 'Yes']\n",
      "==================================================\n",
      "Unique Values for the 'InternetService' Column\n",
      "['DSL' 'Fiber optic' 'No']\n",
      "==================================================\n",
      "Unique Values for the 'OnlineSecurity' Column\n",
      "['No' 'Yes']\n",
      "==================================================\n",
      "Unique Values for the 'OnlineBackup' Column\n",
      "['Yes' 'No']\n",
      "==================================================\n",
      "Unique Values for the 'DeviceProtection' Column\n",
      "['No' 'Yes']\n",
      "==================================================\n",
      "Unique Values for the 'TechSupport' Column\n",
      "['No' 'Yes']\n",
      "==================================================\n",
      "Unique Values for the 'StreamingTV' Column\n",
      "['No' 'Yes']\n",
      "==================================================\n",
      "Unique Values for the 'StreamingMovies' Column\n",
      "['No' 'Yes']\n",
      "==================================================\n",
      "Unique Values for the 'Contract' Column\n",
      "['Month-to-month' 'One year' 'Two year']\n",
      "==================================================\n",
      "Unique Values for the 'PaperlessBilling' Column\n",
      "['Yes' 'No']\n",
      "==================================================\n",
      "Unique Values for the 'PaymentMethod' Column\n",
      "['Automatic' 'Manual']\n",
      "==================================================\n",
      "Unique Values for the 'tenure_bin' Column\n",
      "['Short term', 'Mid term', 'Long term', NaN]\n",
      "Categories (3, object): ['Short term' < 'Mid term' < 'Long term']\n",
      "==================================================\n"
     ]
    }
   ],
   "source": [
    "cat_cols = x_cat_1.tolist() + x_cat_2.tolist()\n",
    "\n",
    "for col in cat_cols:\n",
    "    print(f\"Unique Values for the '{col}' Column\")\n",
    "    print(dataset[col].unique())\n",
    "    print('=' * 50)"
   ]
  },
  {
   "cell_type": "markdown",
   "id": "efeb9d2e",
   "metadata": {},
   "source": [
    "### 1.3.12. Encoding the Categorical Columns"
   ]
  },
  {
   "cell_type": "code",
   "execution_count": 31,
   "id": "7e65deb9",
   "metadata": {},
   "outputs": [],
   "source": [
    "# Identify columns\n",
    "binary_cols = ['gender', 'Partner', 'Dependents', 'PhoneService', \n",
    "               'MultipleLines', 'OnlineSecurity', 'OnlineBackup', \n",
    "               'DeviceProtection', 'TechSupport', 'StreamingTV', \n",
    "               'StreamingMovies','PaperlessBilling', 'PaymentMethod']   # Binary-class\n",
    "\n",
    "multi_cat_cols = ['InternetService', 'Contract', 'tenure_bin']  # Multi-class\n",
    "\n",
    "numeric_cols = ['SeniorCitizen', 'tenure', 'MonthlyCharges_log', 'TotalCharges_log', \n",
    "                'EstimatedTotalCharges_log', 'charge_diff', 'missing_charge_flag',\n",
    "                'contract_loyalty', 'contract_length', 'contract_progress',\n",
    "                'ServiceCount', 'charge_tenure_ratio_log', 'high_engagement_loyalty'] # Numerical cols"
   ]
  },
  {
   "cell_type": "code",
   "execution_count": 32,
   "id": "1af86956",
   "metadata": {},
   "outputs": [
    {
     "name": "stdout",
     "output_type": "stream",
     "text": [
      "Checking columns in X: ['gender', 'SeniorCitizen', 'Partner', 'Dependents', 'tenure', 'PhoneService', 'MultipleLines', 'InternetService', 'OnlineSecurity', 'OnlineBackup', 'DeviceProtection', 'TechSupport', 'StreamingTV', 'StreamingMovies', 'Contract', 'PaperlessBilling', 'PaymentMethod', 'MonthlyCharges_log', 'TotalCharges_log', 'tenure_bin', 'EstimatedTotalCharges_log', 'charge_diff', 'missing_charge_flag', 'contract_loyalty', 'contract_length', 'contract_progress', 'ServiceCount', 'charge_tenure_ratio_log', 'high_engagement_loyalty']\n",
      "All multi-class categorical columns are present.\n"
     ]
    }
   ],
   "source": [
    "# Make sure these columns exist before encoding\n",
    "print(\"Checking columns in X:\", X_untransformed.columns.tolist())\n",
    "missing_cols = [col for col in multi_cat_cols if col not in X_untransformed.columns]\n",
    "\n",
    "if missing_cols:\n",
    "    print(\"These expected columns are missing from X:\", missing_cols)\n",
    "else:\n",
    "    print(\"All multi-class categorical columns are present.\")"
   ]
  },
  {
   "cell_type": "markdown",
   "id": "23aeabe1",
   "metadata": {},
   "source": [
    "##### 1.3.12.1. Encoding the independent variables with label encoding"
   ]
  },
  {
   "cell_type": "code",
   "execution_count": 33,
   "id": "4398c037",
   "metadata": {},
   "outputs": [
    {
     "name": "stdout",
     "output_type": "stream",
     "text": [
      "   gender  SeniorCitizen  Partner  Dependents  tenure  PhoneService  \\\n",
      "0       0              0        1           0       1             0   \n",
      "1       1              0        0           0      34             1   \n",
      "2       1              0        0           0       2             1   \n",
      "3       1              0        0           0      45             0   \n",
      "4       0              0        0           0       2             1   \n",
      "\n",
      "   MultipleLines InternetService  OnlineSecurity  OnlineBackup  ...  \\\n",
      "0              0             DSL               0             1  ...   \n",
      "1              0             DSL               1             0  ...   \n",
      "2              0             DSL               1             1  ...   \n",
      "3              0             DSL               1             0  ...   \n",
      "4              0     Fiber optic               0             0  ...   \n",
      "\n",
      "   tenure_bin  EstimatedTotalCharges_log  charge_diff  missing_charge_flag  \\\n",
      "0  Short term                   3.429137         0.00                    0   \n",
      "1    Mid term                   7.569051       -46.80                    1   \n",
      "2  Short term                   4.688592         0.45                    0   \n",
      "3    Mid term                   7.551975       -62.75                    1   \n",
      "4  Short term                   4.958640        10.25                    0   \n",
      "\n",
      "  contract_loyalty  contract_length  contract_progress  ServiceCount  \\\n",
      "0                0                1               1.00             1   \n",
      "1                1               12               2.83             3   \n",
      "2                0                1               2.00             3   \n",
      "3                1               12               3.75             3   \n",
      "4                0                1               2.00             1   \n",
      "\n",
      "   charge_tenure_ratio_log high_engagement_loyalty  \n",
      "0                     2.77                       0  \n",
      "1                     0.97                       0  \n",
      "2                     2.94                       0  \n",
      "3                     0.65                       0  \n",
      "4                     3.20                       0  \n",
      "\n",
      "[5 rows x 29 columns]\n"
     ]
    }
   ],
   "source": [
    "from sklearn.preprocessing import LabelEncoder\n",
    "\n",
    "# Label encode binary categorical columns\n",
    "#X_untransformed = dataset.iloc[:, 1:-1].copy()\n",
    "\n",
    "for col in binary_cols:\n",
    "    le = LabelEncoder()\n",
    "    X_untransformed[col] = le.fit_transform(X_untransformed[col])\n",
    "\n",
    "print(X_untransformed.head())  # Show first few rows"
   ]
  },
  {
   "cell_type": "code",
   "execution_count": 34,
   "id": "65d2a05c",
   "metadata": {},
   "outputs": [
    {
     "data": {
      "text/plain": [
       "(7032, 29)"
      ]
     },
     "execution_count": 34,
     "metadata": {},
     "output_type": "execute_result"
    }
   ],
   "source": [
    "X_untransformed.shape"
   ]
  },
  {
   "cell_type": "markdown",
   "id": "44e5da3b",
   "metadata": {},
   "source": [
    "##### 1.3.12.2. Encoding the independent variables with one-hot encoding"
   ]
  },
  {
   "cell_type": "code",
   "execution_count": 35,
   "id": "fa5febef",
   "metadata": {},
   "outputs": [
    {
     "name": "stderr",
     "output_type": "stream",
     "text": [
      "/var/folders/6v/w8nfkj8x66xc_mdtqnhljxq40000gn/T/ipykernel_3108/3051527315.py:7: FutureWarning: DataFrame.applymap has been deprecated. Use DataFrame.map instead.\n",
      "  X_encoded = X_encoded.applymap(lambda val: int(val) if isinstance(val, bool) else val) #  Convert boolean columns (true/false) to int (0/1)\n"
     ]
    }
   ],
   "source": [
    "# One-hot encode multi-class categorical columns while still a DataFrame\n",
    "X_encoded = pd.get_dummies(data=X_untransformed, columns=multi_cat_cols)\n",
    "\n",
    "feature_names = X_encoded.columns  # save column names\n",
    "\n",
    "# Now convert to NumPy array before feeding into model\n",
    "X_encoded = X_encoded.applymap(lambda val: int(val) if isinstance(val, bool) else val) #  Convert boolean columns (true/false) to int (0/1)"
   ]
  },
  {
   "cell_type": "code",
   "execution_count": 36,
   "id": "103c94cb",
   "metadata": {},
   "outputs": [],
   "source": [
    "X = X_encoded.values # Convert the DataFrame to a NumPy array for model input"
   ]
  },
  {
   "cell_type": "code",
   "execution_count": 37,
   "id": "1c97bf0e",
   "metadata": {},
   "outputs": [
    {
     "name": "stdout",
     "output_type": "stream",
     "text": [
      "[[0. 0. 1. ... 1. 0. 0.]\n",
      " [1. 0. 0. ... 0. 1. 0.]\n",
      " [1. 0. 0. ... 1. 0. 0.]\n",
      " ...\n",
      " [0. 0. 1. ... 1. 0. 0.]\n",
      " [1. 1. 1. ... 1. 0. 0.]\n",
      " [1. 0. 0. ... 0. 0. 1.]]\n"
     ]
    }
   ],
   "source": [
    "print(X)"
   ]
  },
  {
   "cell_type": "code",
   "execution_count": 38,
   "id": "ef3b4dc2",
   "metadata": {},
   "outputs": [
    {
     "data": {
      "text/plain": [
       "(7032, 35)"
      ]
     },
     "execution_count": 38,
     "metadata": {},
     "output_type": "execute_result"
    }
   ],
   "source": [
    "X.shape"
   ]
  },
  {
   "cell_type": "markdown",
   "id": "6edfb797",
   "metadata": {},
   "source": [
    "#### 1.4.4. Encoding the dependent variable vector"
   ]
  },
  {
   "cell_type": "code",
   "execution_count": 39,
   "id": "f48c442f",
   "metadata": {},
   "outputs": [
    {
     "name": "stdout",
     "output_type": "stream",
     "text": [
      "['No' 'No' 'Yes' ... 'No' 'Yes' 'No']\n"
     ]
    }
   ],
   "source": [
    "# Defining the dependent variable vector\n",
    "y = dataset['Churn'].values\n",
    "print(y)"
   ]
  },
  {
   "cell_type": "code",
   "execution_count": 40,
   "id": "e4c014d9",
   "metadata": {},
   "outputs": [
    {
     "name": "stdout",
     "output_type": "stream",
     "text": [
      "[0 0 1 ... 0 1 0]\n"
     ]
    }
   ],
   "source": [
    "y = le.fit_transform(y)\n",
    "\n",
    "print(y)"
   ]
  },
  {
   "cell_type": "markdown",
   "id": "8be3aa77",
   "metadata": {},
   "source": [
    "### 1.4. Feature Selection"
   ]
  },
  {
   "cell_type": "markdown",
   "id": "2fc10425",
   "metadata": {},
   "source": [
    "#### 1.4.1. Filtering"
   ]
  },
  {
   "cell_type": "markdown",
   "id": "cd3f1cec",
   "metadata": {},
   "source": [
    "##### 1.4.1.1. Check Feature Correlations"
   ]
  },
  {
   "cell_type": "code",
   "execution_count": 41,
   "id": "2af2d175",
   "metadata": {},
   "outputs": [],
   "source": [
    "# Convert back to dataframe\n",
    "X_clean = pd.DataFrame(X, columns=feature_names)\n",
    "\n",
    "# Add Churn\n",
    "X_clean['Churn'] = y"
   ]
  },
  {
   "cell_type": "code",
   "execution_count": 42,
   "id": "a952da51",
   "metadata": {},
   "outputs": [
    {
     "name": "stdout",
     "output_type": "stream",
     "text": [
      "Churn                          1.000000\n",
      "charge_tenure_ratio_log        0.475048\n",
      "Contract_Month-to-month        0.404565\n",
      "tenure_bin_Short term          0.319816\n",
      "InternetService_Fiber optic    0.307463\n",
      "MonthlyCharges_log             0.209690\n",
      "PaperlessBilling               0.191454\n",
      "SeniorCitizen                  0.150541\n",
      "StreamingTV                    0.063254\n",
      "contract_progress              0.062205\n",
      "StreamingMovies                0.060860\n",
      "MultipleLines                  0.040033\n",
      "PhoneService                   0.011691\n",
      "charge_diff                    0.000305\n",
      "gender                        -0.008545\n",
      "tenure_bin_Mid term           -0.041064\n",
      "DeviceProtection              -0.066193\n",
      "missing_charge_flag           -0.067358\n",
      "ServiceCount                  -0.067459\n",
      "OnlineBackup                  -0.082307\n",
      "PaymentMethod                 -0.090773\n",
      "InternetService_DSL           -0.124141\n",
      "Partner                       -0.149982\n",
      "Dependents                    -0.163128\n",
      "TechSupport                   -0.164716\n",
      "OnlineSecurity                -0.171270\n",
      "Contract_One year             -0.178225\n",
      "high_engagement_loyalty       -0.198517\n",
      "tenure_bin_Long term          -0.215958\n",
      "InternetService_No            -0.227578\n",
      "EstimatedTotalCharges_log     -0.241726\n",
      "TotalCharges_log              -0.241908\n",
      "Contract_Two year             -0.301552\n",
      "tenure                        -0.354049\n",
      "contract_loyalty              -0.384408\n",
      "contract_length               -0.393888\n",
      "Name: Churn, dtype: float64\n"
     ]
    }
   ],
   "source": [
    "# Select only numeric columns\n",
    "\n",
    "X_clean = X_clean.select_dtypes(include='number')\n",
    "\n",
    "# Compute correlataion\n",
    "correlations = X_clean.corr()['Churn'].sort_values(ascending=False)\n",
    "print(correlations)"
   ]
  },
  {
   "cell_type": "markdown",
   "id": "74a6bd01",
   "metadata": {},
   "source": [
    "##### Observation:\n",
    "\n",
    "##### Top correlated features with Churn\n",
    "These features have the strongest positive correlation with churn. The customers with higher values here are more likely to chrun\n",
    "| Feature                       | Correlation with Churn |\n",
    "| ----------------------------- | ---------------------- |\n",
    "| `charge_tenure_ratio_log`     | **+0.475**             |\n",
    "| `Contract_Month-to-month`     | **+0.405**             |\n",
    "| `tenure_bin_Short term`       | **+0.320**             |\n",
    "| `InternetService_Fiber optic` | **+0.307**             |\n",
    "| `MonthlyCharges_log`          | **+0.210**             |\n",
    "\n",
    "\n",
    "- Customers on month-to-month plans,\n",
    "- With short tenure,\n",
    "- Using fiber optip internet,\n",
    "- and paying higher charges are more likely to churn\n",
    "\n",
    "#### Negatively Correlated Features\n",
    "These features reduce the likelihood of churn.\n",
    "| Feature             | Correlation |\n",
    "| ------------------- | ----------- |\n",
    "| `contract_length`   | **-0.394**  |\n",
    "| `contract_loyalty`  | **-0.384**  |\n",
    "| `tenure`            | **-0.354**  |\n",
    "| `Contract_Two year` | **-0.302**  |\n",
    "| `TotalCharges_log`  | **-0.242**  |\n",
    "\n",
    "-Customers with longer tenure and longer contracts tend to stay.\n",
    "\n",
    "##### What to Do With This\n",
    "1. Feature Selection: Focus on top correlated features (±0.2 and above) when training your model.\n",
    "2. Model Insight: Use this to explain why your model makes certain predictions.\n",
    "3. Business Action: For churn reduction:\n",
    "\n",
    "    - Encourage longer contracts.\n",
    "    - Target short-tenure, fiber users for retention.\n",
    "\n"
   ]
  },
  {
   "cell_type": "markdown",
   "id": "6b47d81e",
   "metadata": {},
   "source": [
    "##### 1.4.1.2. Dropping low-correalation features\n",
    "\n",
    "To help reduce overfitting and improve model performance"
   ]
  },
  {
   "cell_type": "code",
   "execution_count": 43,
   "id": "d150c1bc",
   "metadata": {},
   "outputs": [],
   "source": [
    "# Filter features based on a correlation threshold\n",
    "\n",
    "threshold = 0.1\n",
    "selected_features = correlations[abs(correlations) >= threshold].index.tolist()\n",
    "\n",
    "if 'Churn' in selected_features:\n",
    "    selected_features.remove('Churn')\n",
    "\n",
    "selected_features\n",
    "\n",
    "# Store selected features in a new feature matrix\n",
    "X_selected = X_clean[selected_features]"
   ]
  },
  {
   "cell_type": "code",
   "execution_count": 44,
   "id": "76795608",
   "metadata": {},
   "outputs": [
    {
     "data": {
      "text/plain": [
       "pandas.core.frame.DataFrame"
      ]
     },
     "execution_count": 44,
     "metadata": {},
     "output_type": "execute_result"
    }
   ],
   "source": [
    "type(X_selected)"
   ]
  },
  {
   "cell_type": "markdown",
   "id": "349c9f25",
   "metadata": {},
   "source": [
    "High correlations (|r| > 0.8 or 0.9) between features may indicate multicollinearity, which can hurt linear models like logistic regression.\n",
    "\n",
    "- TotalCharges_log and EstimatedTotalCharges_log have near-perfect correlation.\n",
    "- contract_loyalty, contract_length, and Contract_Two year also show high correlation.\n",
    "- tenure and tenure_bin_Long term are closely correlated.\n"
   ]
  },
  {
   "cell_type": "markdown",
   "id": "eb1bde5d",
   "metadata": {},
   "source": [
    "##### 1.4.1.3. Checking for Multicollinearity With Variance Inflation Factor (VIF)"
   ]
  },
  {
   "cell_type": "code",
   "execution_count": 45,
   "id": "195541db",
   "metadata": {},
   "outputs": [
    {
     "name": "stderr",
     "output_type": "stream",
     "text": [
      "/Users/eseoseodion/Documents/Portfolio/Customer Churn Prediction/.venv/lib/python3.12/site-packages/statsmodels/stats/outliers_influence.py:197: RuntimeWarning: divide by zero encountered in scalar divide\n",
      "  vif = 1. / (1. - r_squared_i)\n"
     ]
    },
    {
     "name": "stdout",
     "output_type": "stream",
     "text": [
      "                        feature          VIF\n",
      "0       charge_tenure_ratio_log    85.771745\n",
      "1       Contract_Month-to-month          inf\n",
      "2         tenure_bin_Short term     4.887556\n",
      "3   InternetService_Fiber optic          inf\n",
      "4            MonthlyCharges_log    91.055418\n",
      "5              PaperlessBilling     1.195247\n",
      "6                 SeniorCitizen     1.145940\n",
      "7           InternetService_DSL          inf\n",
      "8                       Partner     1.465036\n",
      "9                    Dependents     1.381024\n",
      "10                  TechSupport     1.593922\n",
      "11               OnlineSecurity     1.476220\n",
      "12            Contract_One year          inf\n",
      "13      high_engagement_loyalty     3.334725\n",
      "14         tenure_bin_Long term     2.324149\n",
      "15           InternetService_No          inf\n",
      "16    EstimatedTotalCharges_log  1061.229412\n",
      "17             TotalCharges_log   943.454690\n",
      "18            Contract_Two year          inf\n",
      "19                       tenure    10.382758\n",
      "20             contract_loyalty    13.410906\n",
      "21              contract_length          inf\n"
     ]
    }
   ],
   "source": [
    "from statsmodels.stats.outliers_influence import variance_inflation_factor\n",
    "\n",
    "# Compute VIF for each feature\n",
    "\n",
    "vif_data = pd.DataFrame()\n",
    "vif_data['feature'] = X_selected.columns\n",
    "vif_data['VIF'] = [variance_inflation_factor(X_selected.values, i) for i in range(X_selected.shape[1])]\n",
    "\n",
    "print(vif_data)"
   ]
  },
  {
   "cell_type": "markdown",
   "id": "0c627598",
   "metadata": {},
   "source": [
    "##### Observation:\n",
    "**Very high VIF values (≫ 10) for features like**\n",
    "- EstimatedTotalCharges_log (1061+)\n",
    "- TotalCharges_log (943+)\n",
    "- MonthlyCharges_log (91+)\n",
    "- charge_tenure_ratio_log (85+)\n",
    "- contract_loyalty, tenure, contract_length (10–13)\n",
    "\n",
    "**Infinite VIF (inf) - variables that are perfectly collinear with others, e.g.:**\n",
    "- Contract_Month-to-month, InternetService_Fiber optic, Contract_Two year, etc. — likely because they are one-hot encoded categorical variables and all dummy variables have been included (no base category dropped)."
   ]
  },
  {
   "cell_type": "markdown",
   "id": "4908d9a1",
   "metadata": {},
   "source": [
    "##### 1.4.1.3.1.  Solution #1: Dropping one dummy per categorical variable"
   ]
  },
  {
   "cell_type": "markdown",
   "id": "c02e3002",
   "metadata": {},
   "source": [
    "Dropping the most common category\n",
    "\n",
    "- To help the model compare everything to the \"usual\" case. This makes the model interpret other categories in relation to the most common one."
   ]
  },
  {
   "cell_type": "markdown",
   "id": "bfd9aaa1",
   "metadata": {},
   "source": [
    "##### Finding the most common category in each column"
   ]
  },
  {
   "cell_type": "code",
   "execution_count": 46,
   "id": "7c59f7f4",
   "metadata": {},
   "outputs": [],
   "source": [
    "# Replace the most common category with NaN\n",
    "most_common = {\n",
    "    col: X_selected[col].mode()[0]\n",
    "    for col in X_selected.select_dtypes(include='object').columns\n",
    "}"
   ]
  },
  {
   "cell_type": "markdown",
   "id": "dec673d7",
   "metadata": {},
   "source": [
    "##### Replacing the most common category with NaN(so that it is ignored by get_dummies)"
   ]
  },
  {
   "cell_type": "code",
   "execution_count": 47,
   "id": "daf460d3",
   "metadata": {},
   "outputs": [],
   "source": [
    "X_selected_reduced = X_selected.copy()\n",
    "\n",
    "for col, val in most_common.items():\n",
    "    X_selected_reduced[col] = X_selected_reduced[col].replace(val, pd.NA)"
   ]
  },
  {
   "cell_type": "markdown",
   "id": "3ccd6702",
   "metadata": {},
   "source": [
    "##### Create dummy variables (so that the missing category is automatically dropped)"
   ]
  },
  {
   "cell_type": "code",
   "execution_count": 48,
   "id": "d5b7e25a",
   "metadata": {},
   "outputs": [],
   "source": [
    "# Create dummy variables, dropping the first category to avoid multicollinearity\n",
    "X_dummies = pd.get_dummies(X_selected_reduced, drop_first=True)  # <–– KEY CHANGE HERE"
   ]
  },
  {
   "cell_type": "code",
   "execution_count": 49,
   "id": "90ab0e85",
   "metadata": {},
   "outputs": [
    {
     "name": "stdout",
     "output_type": "stream",
     "text": [
      "   charge_tenure_ratio_log  Contract_Month-to-month  tenure_bin_Short term  \\\n",
      "0                     2.77                      1.0                    1.0   \n",
      "1                     0.97                      0.0                    0.0   \n",
      "2                     2.94                      1.0                    1.0   \n",
      "3                     0.65                      0.0                    0.0   \n",
      "4                     3.20                      1.0                    1.0   \n",
      "\n",
      "   InternetService_Fiber optic  MonthlyCharges_log  PaperlessBilling  \\\n",
      "0                          0.0            3.429137               1.0   \n",
      "1                          0.0            4.059581               0.0   \n",
      "2                          0.0            4.004602               1.0   \n",
      "3                          0.0            3.768153               0.0   \n",
      "4                          1.0            4.272491               1.0   \n",
      "\n",
      "   SeniorCitizen  InternetService_DSL  Partner  Dependents  ...  \\\n",
      "0            0.0                  1.0      1.0         0.0  ...   \n",
      "1            0.0                  1.0      0.0         0.0  ...   \n",
      "2            0.0                  1.0      0.0         0.0  ...   \n",
      "3            0.0                  1.0      0.0         0.0  ...   \n",
      "4            0.0                  0.0      0.0         0.0  ...   \n",
      "\n",
      "   Contract_One year  high_engagement_loyalty  tenure_bin_Long term  \\\n",
      "0                0.0                      0.0                   0.0   \n",
      "1                1.0                      0.0                   0.0   \n",
      "2                0.0                      0.0                   0.0   \n",
      "3                1.0                      0.0                   0.0   \n",
      "4                0.0                      0.0                   0.0   \n",
      "\n",
      "   InternetService_No  EstimatedTotalCharges_log  TotalCharges_log  \\\n",
      "0                 0.0                   3.429137          3.429137   \n",
      "1                 0.0                   7.569051          7.544597   \n",
      "2                 0.0                   4.688592          4.692723   \n",
      "3                 0.0                   7.551975          7.518471   \n",
      "4                 0.0                   4.958640          5.028148   \n",
      "\n",
      "   Contract_Two year  tenure  contract_loyalty  contract_length  \n",
      "0                0.0     1.0               0.0              1.0  \n",
      "1                0.0    34.0               1.0             12.0  \n",
      "2                0.0     2.0               0.0              1.0  \n",
      "3                0.0    45.0               1.0             12.0  \n",
      "4                0.0     2.0               0.0              1.0  \n",
      "\n",
      "[5 rows x 22 columns]\n"
     ]
    }
   ],
   "source": [
    "print(X_dummies.head())"
   ]
  },
  {
   "cell_type": "code",
   "execution_count": 50,
   "id": "97423fe2",
   "metadata": {},
   "outputs": [
    {
     "name": "stdout",
     "output_type": "stream",
     "text": [
      "Index(['charge_tenure_ratio_log', 'Contract_Month-to-month',\n",
      "       'tenure_bin_Short term', 'InternetService_Fiber optic',\n",
      "       'MonthlyCharges_log', 'PaperlessBilling', 'SeniorCitizen',\n",
      "       'InternetService_DSL', 'Partner', 'Dependents', 'TechSupport',\n",
      "       'OnlineSecurity', 'Contract_One year', 'high_engagement_loyalty',\n",
      "       'tenure_bin_Long term', 'InternetService_No',\n",
      "       'EstimatedTotalCharges_log', 'TotalCharges_log', 'Contract_Two year',\n",
      "       'tenure', 'contract_loyalty', 'contract_length'],\n",
      "      dtype='object')\n"
     ]
    }
   ],
   "source": [
    "print(X_dummies.columns)"
   ]
  },
  {
   "cell_type": "code",
   "execution_count": 51,
   "id": "e9ea464c",
   "metadata": {},
   "outputs": [],
   "source": [
    "columns_to_remove = ['Contract_Month-to-month',       # most common contract type\n",
    "                     'Contract_One year',\n",
    "                     'Contract_Two year',\n",
    "                     'InternetService_Fiber optic',   # or any of the 3, but preferably the most common\n",
    "]\n",
    "\n",
    "X_dummies = X_dummies.drop(columns=columns_to_remove)"
   ]
  },
  {
   "cell_type": "markdown",
   "id": "d640a17a",
   "metadata": {},
   "source": [
    "##### Checking the VIF"
   ]
  },
  {
   "cell_type": "code",
   "execution_count": 52,
   "id": "41b0528f",
   "metadata": {},
   "outputs": [
    {
     "name": "stdout",
     "output_type": "stream",
     "text": [
      "                      feature           VIF\n",
      "13  EstimatedTotalCharges_log  22429.718404\n",
      "14           TotalCharges_log  19928.662951\n",
      "2          MonthlyCharges_log   3965.943541\n",
      "0     charge_tenure_ratio_log    296.584281\n",
      "15                     tenure     26.713848\n",
      "17            contract_length      9.932986\n",
      "16           contract_loyalty      9.762791\n",
      "1       tenure_bin_Short term      6.529802\n",
      "10    high_engagement_loyalty      3.836243\n",
      "11       tenure_bin_Long term      3.176096\n",
      "12         InternetService_No      2.963750\n",
      "3            PaperlessBilling      2.933514\n",
      "6                     Partner      2.828560\n",
      "8                 TechSupport      2.189659\n",
      "5         InternetService_DSL      2.099920\n",
      "9              OnlineSecurity      2.047500\n",
      "7                  Dependents      1.967304\n",
      "4               SeniorCitizen      1.367310\n"
     ]
    }
   ],
   "source": [
    "from statsmodels.stats.outliers_influence import variance_inflation_factor\n",
    "import pandas as pd\n",
    "\n",
    "# If df_dummies is your cleaned feature matrix:\n",
    "X_vif = pd.DataFrame(X_dummies)\n",
    "\n",
    "# Calculate VIF\n",
    "vif_data = pd.DataFrame()\n",
    "vif_data[\"feature\"] = X_vif.columns\n",
    "vif_data[\"VIF\"] = [variance_inflation_factor(X_vif.values, i) for i in range(X_vif.shape[1])]\n",
    "\n",
    "print(vif_data.sort_values(\"VIF\", ascending=False))"
   ]
  },
  {
   "cell_type": "code",
   "execution_count": null,
   "id": "6b65f7b8",
   "metadata": {},
   "outputs": [],
   "source": [
    "type(X_selected)"
   ]
  },
  {
   "cell_type": "markdown",
   "id": "2b7457c9",
   "metadata": {},
   "source": []
  },
  {
   "cell_type": "markdown",
   "id": "9344ace1",
   "metadata": {},
   "source": [
    "##### 1.4.1.3.2. Solution #2: Removing or combining highly correlated features"
   ]
  },
  {
   "cell_type": "code",
   "execution_count": 53,
   "id": "c4dd9e53",
   "metadata": {},
   "outputs": [],
   "source": [
    "X_dummies = X_dummies.drop(columns=[\n",
    "    'EstimatedTotalCharges_log',  # or drop 'TotalCharges_log'\n",
    "    'charge_tenure_ratio_log',    # or drop 'MonthlyCharges_log'\n",
    "    'contract_loyalty'            # optional if keeping contract_length\n",
    "])"
   ]
  },
  {
   "cell_type": "code",
   "execution_count": 54,
   "id": "ed15e450",
   "metadata": {},
   "outputs": [
    {
     "name": "stdout",
     "output_type": "stream",
     "text": [
      "                    feature         VIF\n",
      "12         TotalCharges_log  274.213232\n",
      "1        MonthlyCharges_log  220.215361\n",
      "13                   tenure   26.260308\n",
      "0     tenure_bin_Short term    5.896042\n",
      "14          contract_length    5.357708\n",
      "10     tenure_bin_Long term    3.146590\n",
      "2          PaperlessBilling    2.931843\n",
      "9   high_engagement_loyalty    2.829563\n",
      "5                   Partner    2.825204\n",
      "11       InternetService_No    2.728345\n",
      "7               TechSupport    2.165328\n",
      "4       InternetService_DSL    2.062016\n",
      "8            OnlineSecurity    2.025388\n",
      "6                Dependents    1.966003\n",
      "3             SeniorCitizen    1.366209\n"
     ]
    }
   ],
   "source": [
    "# If df_dummies is your cleaned feature matrix:\n",
    "X_vif = pd.DataFrame(X_dummies)\n",
    "\n",
    "# Calculate VIF\n",
    "vif_data = pd.DataFrame()\n",
    "vif_data[\"feature\"] = X_vif.columns\n",
    "vif_data[\"VIF\"] = [variance_inflation_factor(X_vif.values, i) for i in range(X_vif.shape[1])]\n",
    "\n",
    "print(vif_data.sort_values(\"VIF\", ascending=False))"
   ]
  },
  {
   "cell_type": "markdown",
   "id": "3bda8f82",
   "metadata": {},
   "source": [
    "Dropping TotalCharges because:\n",
    "- It's a derived variable (product of MonthlyCharges × tenure).\n",
    "- It has the highest VIF.\n",
    "- You already have the core components: MonthlyCharges_log and tenure."
   ]
  },
  {
   "cell_type": "code",
   "execution_count": 55,
   "id": "485613ea",
   "metadata": {},
   "outputs": [],
   "source": [
    "X_dummies = X_dummies.drop(columns=['TotalCharges_log'])"
   ]
  },
  {
   "cell_type": "code",
   "execution_count": 56,
   "id": "c290afa7",
   "metadata": {},
   "outputs": [
    {
     "name": "stdout",
     "output_type": "stream",
     "text": [
      "                    feature        VIF\n",
      "12                   tenure  16.907910\n",
      "1        MonthlyCharges_log  13.300648\n",
      "13          contract_length   5.357693\n",
      "0     tenure_bin_Short term   3.361510\n",
      "10     tenure_bin_Long term   3.114426\n",
      "2          PaperlessBilling   2.931814\n",
      "5                   Partner   2.821718\n",
      "9   high_engagement_loyalty   2.754086\n",
      "11       InternetService_No   2.283873\n",
      "7               TechSupport   2.164430\n",
      "8            OnlineSecurity   2.025129\n",
      "4       InternetService_DSL   1.968034\n",
      "6                Dependents   1.965661\n",
      "3             SeniorCitizen   1.366203\n"
     ]
    }
   ],
   "source": [
    "# If df_dummies is your cleaned feature matrix:\n",
    "X_vif = pd.DataFrame(X_dummies)\n",
    "\n",
    "# Calculate VIF\n",
    "vif_data = pd.DataFrame()\n",
    "vif_data[\"feature\"] = X_vif.columns\n",
    "vif_data[\"VIF\"] = [variance_inflation_factor(X_vif.values, i) for i in range(X_vif.shape[1])]\n",
    "\n",
    "print(vif_data.sort_values(\"VIF\", ascending=False))"
   ]
  },
  {
   "cell_type": "code",
   "execution_count": null,
   "id": "6ac74fc9",
   "metadata": {},
   "outputs": [],
   "source": [
    "# Convert to a numpy array \n",
    "X_array = X_selected.values "
   ]
  },
  {
   "cell_type": "markdown",
   "id": "7f296de8",
   "metadata": {},
   "source": [
    "### 1.5. Splitting the dataset into training and testing"
   ]
  },
  {
   "cell_type": "code",
   "execution_count": null,
   "id": "52261026",
   "metadata": {},
   "outputs": [],
   "source": [
    "from sklearn.model_selection import train_test_split\n",
    "\n",
    "X_train, X_test, y_train, y_test = train_test_split(X_array, y, stratify=y, test_size=0.3, random_state=42)"
   ]
  },
  {
   "cell_type": "markdown",
   "id": "f17a4553",
   "metadata": {},
   "source": [
    "### 1.6. Using the SMOTE (Synthetic Minority Oversampling Technique) To handle imbalanced classes"
   ]
  },
  {
   "cell_type": "code",
   "execution_count": null,
   "id": "ea3715f8",
   "metadata": {},
   "outputs": [],
   "source": [
    "from imblearn.over_sampling import SMOTE\n",
    "\n",
    "smote = SMOTE(random_state=42)\n",
    "X_train_resampled, y_train_resampled = smote.fit_resample(X_train, y_train)"
   ]
  },
  {
   "cell_type": "markdown",
   "id": "b5bf97a9",
   "metadata": {},
   "source": [
    "This is a mild to moderate imbalance (not extreme like 95:5), so both oversampling and undersampling are viable options — but each has trade-offs.\n",
    "\n",
    "\n",
    "Your dataset is not huge → oversampling won’t be too slow\n",
    "Minority class is still decently sized (1869) → SMOTE can create diverse synthetic samples\n",
    "Undersampling would discard too much useful data (removing from 5174 to ~1869)\n",
    "\n",
    "Why I Didn't Use Undersampling (alone)?\n",
    "\n",
    "The dataset is mild to moderately imbalanced for the target variable, so both oversampling and undersampling would've been viable options. However, there was a high likelihood that a lot of the the majority class would've been thrown away, which would've have created a risk of underfitting and poor generalization.\n",
    "\n",
    "\n",
    "##### From EDA\n",
    "During evaluation, use metrics that handle the imbalance; use precision, recall, f1-score, auc-roc, and confusion matrices. Avoid only using accuracy\n",
    "\n",
    "Consider implementing ensemble methods like RandomForest or XGBoost; these perform better on imbalanced datasets.\n",
    "\n",
    "Possibly use other models or algorithms that handle imbalance better (like class_weight='balanced' in logistic regression, decision trees, etc.).\n",
    "\n"
   ]
  },
  {
   "cell_type": "code",
   "execution_count": null,
   "id": "d3ae2411",
   "metadata": {},
   "outputs": [],
   "source": [
    "# Optional: Check class distribution after resampling\n",
    "\n",
    "from collections import Counter\n",
    "print(Counter(y_train_resampled))"
   ]
  },
  {
   "cell_type": "code",
   "execution_count": null,
   "id": "fe0dd483",
   "metadata": {},
   "outputs": [],
   "source": [
    "print(X_train)"
   ]
  },
  {
   "cell_type": "code",
   "execution_count": null,
   "id": "647ce4d2",
   "metadata": {},
   "outputs": [],
   "source": [
    "print(X_test)"
   ]
  },
  {
   "cell_type": "code",
   "execution_count": null,
   "id": "422e6251",
   "metadata": {},
   "outputs": [],
   "source": [
    "print(y_train)"
   ]
  },
  {
   "cell_type": "code",
   "execution_count": null,
   "id": "92e505f7",
   "metadata": {},
   "outputs": [],
   "source": [
    "print(y_test)"
   ]
  },
  {
   "cell_type": "markdown",
   "id": "4d280196",
   "metadata": {},
   "source": [
    "### 1.7. Feature Scaling"
   ]
  },
  {
   "cell_type": "markdown",
   "id": "0be3208c",
   "metadata": {},
   "source": [
    "## 2. Modelling"
   ]
  },
  {
   "cell_type": "markdown",
   "id": "b2fd4c27",
   "metadata": {},
   "source": []
  }
 ],
 "metadata": {
  "kernelspec": {
   "display_name": ".venv",
   "language": "python",
   "name": "python3"
  },
  "language_info": {
   "codemirror_mode": {
    "name": "ipython",
    "version": 3
   },
   "file_extension": ".py",
   "mimetype": "text/x-python",
   "name": "python",
   "nbconvert_exporter": "python",
   "pygments_lexer": "ipython3",
   "version": "3.12.4"
  }
 },
 "nbformat": 4,
 "nbformat_minor": 5
}
