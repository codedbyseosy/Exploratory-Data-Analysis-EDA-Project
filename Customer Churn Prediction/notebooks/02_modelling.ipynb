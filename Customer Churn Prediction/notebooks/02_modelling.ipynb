{
 "cells": [
  {
   "cell_type": "code",
   "execution_count": null,
   "id": "dbc32738",
   "metadata": {},
   "outputs": [],
   "source": [
    "import pandas as pd \n",
    "import numpy as np \n",
    "import matplotlib.pyplot as plt "
   ]
  },
  {
   "cell_type": "code",
   "execution_count": null,
   "id": "4952590e",
   "metadata": {},
   "outputs": [],
   "source": [
    "dataset = pd.read_csv('/Users/eseoseodion/Documents/Portfolio/Customer Churn Prediction/data/telco_customer_churn.csv')"
   ]
  },
  {
   "cell_type": "code",
   "execution_count": null,
   "id": "f435aee5",
   "metadata": {},
   "outputs": [],
   "source": [
    "# Convert TotalCharges to numeric, coercing errors\n",
    "df['TotalCharges'] = pd.to_numeric(df['TotalCharges'], errors='coerce')\n"
   ]
  },
  {
   "cell_type": "code",
   "execution_count": null,
   "id": "62d8dfb4",
   "metadata": {},
   "outputs": [],
   "source": [
    "# Define the feature matrix\n",
    "X = dataset.iloc[:, 1:-1]"
   ]
  },
  {
   "cell_type": "code",
   "execution_count": null,
   "id": "f48c442f",
   "metadata": {},
   "outputs": [],
   "source": [
    "# Defining the dependent variable vector\n",
    "y = dataset.iloc[:, -1]"
   ]
  },
  {
   "cell_type": "markdown",
   "id": "efeb9d2e",
   "metadata": {},
   "source": [
    "### Encoding Categorical Data"
   ]
  },
  {
   "cell_type": "markdown",
   "id": "bebc68ec",
   "metadata": {},
   "source": [
    "#### Encoding the Independent Variables Pt. 1: Label Encoding "
   ]
  },
  {
   "cell_type": "markdown",
   "id": "5acb0a1b",
   "metadata": {},
   "source": [
    "The following columns will be label encoded because they have two categories as values:\n",
    "‘gender’, ‘Partner’, ‘Dependents’, ‘PhoneService’, ‘PaperlessBilling’"
   ]
  },
  {
   "cell_type": "code",
   "execution_count": null,
   "id": "14a2afa8",
   "metadata": {},
   "outputs": [],
   "source": [
    "categorical_cols_1 = ['gender', 'Partner', 'Dependents', 'PhoneService', 'PaperlessBilling']\n",
    "\n",
    "from sklearn.preprocessing import LabelEncoder\n",
    "le = LabelEncoder()\n",
    "\n",
    "for col in categorical_cols_1:\n",
    "    X[col] = le.fit_transform(X[col])"
   ]
  },
  {
   "cell_type": "code",
   "execution_count": null,
   "id": "5e61ee61",
   "metadata": {},
   "outputs": [],
   "source": [
    "print(X)"
   ]
  },
  {
   "cell_type": "markdown",
   "id": "1c1403e9",
   "metadata": {},
   "source": [
    "Notes: \n",
    "- According to the output, there are no missing values in any column of the dataframe.\n",
    "- There is no need to take care of any missing values, so this step can be skipped."
   ]
  },
  {
   "cell_type": "markdown",
   "id": "23aeabe1",
   "metadata": {},
   "source": [
    "#### Encoding the Independent Variables Pt. 2: One-Hot Encoding"
   ]
  },
  {
   "cell_type": "markdown",
   "id": "2fdd180e",
   "metadata": {},
   "source": [
    "The remaining columns will be one-hot encoded because they have more than two categories as values:\n",
    "‘MultipleLines’, ‘InternetService’, ‘OnlineSecurity’,  ‘OnlineBackup’, ‘DeviceProtection’, ‘TechSupport’, ‘StreamingTV’,  'StreamingMovies’, 'Contract’, and 'PaymentMethod’ \n"
   ]
  },
  {
   "cell_type": "code",
   "execution_count": null,
   "id": "b8f0492b",
   "metadata": {},
   "outputs": [],
   "source": [
    "categorical_cols_2 = ['MultipleLines', 'InternetService', 'OnlineSecurity',  'OnlineBackup', 'DeviceProtection', 'TechSupport', 'StreamingTV', 'StreamingMovies', 'Contract', 'PaymentMethod']\n",
    "\n",
    "from sklearn.compose import ColumnTransformer\n",
    "from sklearn.preprocessing import OneHotEncoder\n",
    "\n",
    "preprocessor = ColumnTransformer(transformers=[('encoder', OneHotEncoder(), categorical_cols_2)], remainder='passthrough')\n",
    "\n",
    "# Fit and transform\n",
    "X_transformed = np.array(preprocessor.fit_transform(X))\n",
    "\n",
    "print(X_transformed)"
   ]
  },
  {
   "cell_type": "markdown",
   "id": "6edfb797",
   "metadata": {},
   "source": [
    "#### Encoding the Dependent Variable Vector"
   ]
  },
  {
   "cell_type": "code",
   "execution_count": null,
   "id": "e4c014d9",
   "metadata": {},
   "outputs": [],
   "source": [
    "y = le.fit_transform(y)\n",
    "\n",
    "print(y)"
   ]
  }
 ],
 "metadata": {
  "language_info": {
   "name": "python"
  }
 },
 "nbformat": 4,
 "nbformat_minor": 5
}
